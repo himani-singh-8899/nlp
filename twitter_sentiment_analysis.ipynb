{
  "nbformat": 4,
  "nbformat_minor": 0,
  "metadata": {
    "kernelspec": {
      "name": "python3",
      "display_name": "Python 3",
      "language": "python"
    },
    "language_info": {
      "name": "python",
      "version": "3.6.6",
      "mimetype": "text/x-python",
      "codemirror_mode": {
        "name": "ipython",
        "version": 3
      },
      "pygments_lexer": "ipython3",
      "nbconvert_exporter": "python",
      "file_extension": ".py"
    },
    "colab": {
      "name": "twitter-sentiment-analysis.ipynb",
      "provenance": []
    },
    "accelerator": "GPU"
  },
  "cells": [
    {
      "cell_type": "code",
      "metadata": {
        "trusted": true,
        "_uuid": "70282bce8b42a51e4d44f2c7d85c4ca9567b0fd4",
        "id": "1WMesMNcc1PF",
        "outputId": "b1feaf86-4759-45ff-afc5-f64718449455",
        "colab": {
          "base_uri": "https://localhost:8080/",
          "height": 733
        }
      },
      "source": [
        "!pip install gensim --upgrade\n",
        "!pip install keras --upgrade\n",
        "!pip install pandas --upgrade"
      ],
      "execution_count": null,
      "outputs": [
        {
          "output_type": "stream",
          "text": [
            "Collecting gensim\n",
            "\u001b[?25l  Downloading https://files.pythonhosted.org/packages/2b/e0/fa6326251692056dc880a64eb22117e03269906ba55a6864864d24ec8b4e/gensim-3.8.3-cp36-cp36m-manylinux1_x86_64.whl (24.2MB)\n",
            "\u001b[K     |████████████████████████████████| 24.2MB 129kB/s \n",
            "\u001b[?25hRequirement already satisfied, skipping upgrade: numpy>=1.11.3 in /usr/local/lib/python3.6/dist-packages (from gensim) (1.18.5)\n",
            "Requirement already satisfied, skipping upgrade: scipy>=0.18.1 in /usr/local/lib/python3.6/dist-packages (from gensim) (1.4.1)\n",
            "Requirement already satisfied, skipping upgrade: six>=1.5.0 in /usr/local/lib/python3.6/dist-packages (from gensim) (1.15.0)\n",
            "Requirement already satisfied, skipping upgrade: smart-open>=1.8.1 in /usr/local/lib/python3.6/dist-packages (from gensim) (2.2.0)\n",
            "Requirement already satisfied, skipping upgrade: requests in /usr/local/lib/python3.6/dist-packages (from smart-open>=1.8.1->gensim) (2.23.0)\n",
            "Requirement already satisfied, skipping upgrade: idna<3,>=2.5 in /usr/local/lib/python3.6/dist-packages (from requests->smart-open>=1.8.1->gensim) (2.10)\n",
            "Requirement already satisfied, skipping upgrade: chardet<4,>=3.0.2 in /usr/local/lib/python3.6/dist-packages (from requests->smart-open>=1.8.1->gensim) (3.0.4)\n",
            "Requirement already satisfied, skipping upgrade: urllib3!=1.25.0,!=1.25.1,<1.26,>=1.21.1 in /usr/local/lib/python3.6/dist-packages (from requests->smart-open>=1.8.1->gensim) (1.24.3)\n",
            "Requirement already satisfied, skipping upgrade: certifi>=2017.4.17 in /usr/local/lib/python3.6/dist-packages (from requests->smart-open>=1.8.1->gensim) (2020.6.20)\n",
            "Installing collected packages: gensim\n",
            "  Found existing installation: gensim 3.6.0\n",
            "    Uninstalling gensim-3.6.0:\n",
            "      Successfully uninstalled gensim-3.6.0\n",
            "Successfully installed gensim-3.8.3\n",
            "Requirement already up-to-date: keras in /usr/local/lib/python3.6/dist-packages (2.4.3)\n",
            "Requirement already satisfied, skipping upgrade: scipy>=0.14 in /usr/local/lib/python3.6/dist-packages (from keras) (1.4.1)\n",
            "Requirement already satisfied, skipping upgrade: h5py in /usr/local/lib/python3.6/dist-packages (from keras) (2.10.0)\n",
            "Requirement already satisfied, skipping upgrade: numpy>=1.9.1 in /usr/local/lib/python3.6/dist-packages (from keras) (1.18.5)\n",
            "Requirement already satisfied, skipping upgrade: pyyaml in /usr/local/lib/python3.6/dist-packages (from keras) (3.13)\n",
            "Requirement already satisfied, skipping upgrade: six in /usr/local/lib/python3.6/dist-packages (from h5py->keras) (1.15.0)\n",
            "Collecting pandas\n",
            "\u001b[?25l  Downloading https://files.pythonhosted.org/packages/a2/21/e10d65222d19a2537e3eb0df306686a9eabd08b3c98dd120e43720bf802d/pandas-1.1.3-cp36-cp36m-manylinux1_x86_64.whl (9.5MB)\n",
            "\u001b[K     |████████████████████████████████| 9.5MB 5.2MB/s \n",
            "\u001b[?25hRequirement already satisfied, skipping upgrade: numpy>=1.15.4 in /usr/local/lib/python3.6/dist-packages (from pandas) (1.18.5)\n",
            "Requirement already satisfied, skipping upgrade: pytz>=2017.2 in /usr/local/lib/python3.6/dist-packages (from pandas) (2018.9)\n",
            "Requirement already satisfied, skipping upgrade: python-dateutil>=2.7.3 in /usr/local/lib/python3.6/dist-packages (from pandas) (2.8.1)\n",
            "Requirement already satisfied, skipping upgrade: six>=1.5 in /usr/local/lib/python3.6/dist-packages (from python-dateutil>=2.7.3->pandas) (1.15.0)\n",
            "Installing collected packages: pandas\n",
            "  Found existing installation: pandas 1.1.2\n",
            "    Uninstalling pandas-1.1.2:\n",
            "      Successfully uninstalled pandas-1.1.2\n",
            "Successfully installed pandas-1.1.3\n"
          ],
          "name": "stdout"
        },
        {
          "output_type": "display_data",
          "data": {
            "application/vnd.colab-display-data+json": {
              "pip_warning": {
                "packages": [
                  "pandas"
                ]
              }
            }
          },
          "metadata": {
            "tags": []
          }
        }
      ]
    },
    {
      "cell_type": "code",
      "metadata": {
        "trusted": true,
        "_uuid": "303e72966af732ddef0bd8108a321095314e44af",
        "id": "oW3jXUkpc1PW"
      },
      "source": [
        "# DataFrame\n",
        "import pandas as pd\n",
        "\n",
        "# Matplot\n",
        "import matplotlib.pyplot as plt\n",
        "%matplotlib inline\n",
        "\n",
        "# Scikit-learn\n",
        "from sklearn.model_selection import train_test_split\n",
        "from sklearn.preprocessing import LabelEncoder\n",
        "from sklearn.metrics import confusion_matrix, classification_report, accuracy_score\n",
        "from sklearn.manifold import TSNE\n",
        "from sklearn.feature_extraction.text import TfidfVectorizer\n",
        "\n",
        "# Keras\n",
        "from keras.preprocessing.text import Tokenizer\n",
        "from keras.preprocessing.sequence import pad_sequences\n",
        "from keras.models import Sequential\n",
        "from keras.layers import Activation, Dense, Dropout, Embedding, Flatten, Conv1D, MaxPooling1D, LSTM\n",
        "from keras import utils\n",
        "from keras.callbacks import ReduceLROnPlateau, EarlyStopping\n",
        "\n",
        "# nltk\n",
        "import nltk\n",
        "from nltk.corpus import stopwords\n",
        "from  nltk.stem import SnowballStemmer\n",
        "\n",
        "# Word2vec\n",
        "import gensim\n",
        "\n",
        "# Utility\n",
        "import re\n",
        "import numpy as np\n",
        "import os\n",
        "from collections import Counter\n",
        "import logging\n",
        "import time\n",
        "import pickle\n",
        "import itertools\n",
        "\n",
        "# Set log\n",
        "logging.basicConfig(format='%(asctime)s : %(levelname)s : %(message)s', level=logging.INFO)"
      ],
      "execution_count": null,
      "outputs": []
    },
    {
      "cell_type": "code",
      "metadata": {
        "trusted": true,
        "_uuid": "35e1a89dead5fd160e4c9a024a21d2e569fc89ff",
        "id": "PTdyhKbjc1Po",
        "outputId": "354e2567-784b-4f9e-bc07-996a55bc3078",
        "colab": {
          "base_uri": "https://localhost:8080/",
          "height": 69
        }
      },
      "source": [
        "nltk.download('stopwords')"
      ],
      "execution_count": null,
      "outputs": [
        {
          "output_type": "stream",
          "text": [
            "[nltk_data] Downloading package stopwords to /root/nltk_data...\n",
            "[nltk_data]   Unzipping corpora/stopwords.zip.\n"
          ],
          "name": "stdout"
        },
        {
          "output_type": "execute_result",
          "data": {
            "text/plain": [
              "True"
            ]
          },
          "metadata": {
            "tags": []
          },
          "execution_count": 3
        }
      ]
    },
    {
      "cell_type": "markdown",
      "metadata": {
        "_uuid": "e8b01a07df001e4abcc745900336c4db06e455f3",
        "id": "21tnPG1Nc1P1"
      },
      "source": [
        "### Settings"
      ]
    },
    {
      "cell_type": "code",
      "metadata": {
        "trusted": true,
        "_uuid": "180f0dd2a95419e4602b5c0229822b0111c826f6",
        "id": "owzqf5c4c1P3"
      },
      "source": [
        "# DATASET\n",
        "DATASET_COLUMNS = [\"target\", \"ids\", \"date\", \"flag\", \"user\", \"text\"]\n",
        "DATASET_ENCODING = \"ISO-8859-1\"\n",
        "TRAIN_SIZE = 0.8\n",
        "\n",
        "# TEXT CLENAING\n",
        "TEXT_CLEANING_RE = \"@\\S+|https?:\\S+|http?:\\S|[^A-Za-z0-9]+\"\n",
        "\n",
        "# WORD2VEC \n",
        "W2V_SIZE = 300\n",
        "W2V_WINDOW = 7\n",
        "W2V_EPOCH = 32\n",
        "W2V_MIN_COUNT = 10\n",
        "\n",
        "# KERAS\n",
        "SEQUENCE_LENGTH = 300\n",
        "EPOCHS = 1\n",
        "BATCH_SIZE = 1024\n",
        "\n",
        "# SENTIMENT\n",
        "POSITIVE = \"POSITIVE\"\n",
        "NEGATIVE = \"NEGATIVE\"\n",
        "NEUTRAL = \"NEUTRAL\"\n",
        "SENTIMENT_THRESHOLDS = (0.4, 0.7)\n",
        "\n",
        "# EXPORT\n",
        "KERAS_MODEL = \"model.h5\"\n",
        "WORD2VEC_MODEL = \"model.w2v\"\n",
        "TOKENIZER_MODEL = \"tokenizer.pkl\"\n",
        "ENCODER_MODEL = \"encoder.pkl\""
      ],
      "execution_count": null,
      "outputs": []
    },
    {
      "cell_type": "markdown",
      "metadata": {
        "_uuid": "1c3beecc618be68480b3d4f0de08d9d863da1dc1",
        "id": "mpcLOOMGc1QE"
      },
      "source": [
        "### Read Dataset"
      ]
    },
    {
      "cell_type": "code",
      "metadata": {
        "trusted": true,
        "_uuid": "bba8f91cd70de4f5ea0fb0870ae2029b6e3dcc24",
        "id": "hwRR-nrdc1QI",
        "outputId": "59bea885-eeb8-4031-dad5-748a2a6f2892",
        "colab": {
          "resources": {
            "http://localhost:8080/nbextensions/google.colab/files.js": {
              "data": "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",
              "ok": true,
              "headers": [
                [
                  "content-type",
                  "application/javascript"
                ]
              ],
              "status": 200,
              "status_text": ""
            }
          },
          "base_uri": "https://localhost:8080/",
          "height": 72
        }
      },
      "source": [
        "from google.colab import files \n",
        "  \n",
        "  \n",
        "uploaded = files.upload()\n"
      ],
      "execution_count": null,
      "outputs": [
        {
          "output_type": "display_data",
          "data": {
            "text/html": [
              "\n",
              "     <input type=\"file\" id=\"files-81ba20c4-056d-49ba-a030-c04e9d239d73\" name=\"files[]\" multiple disabled\n",
              "        style=\"border:none\" />\n",
              "     <output id=\"result-81ba20c4-056d-49ba-a030-c04e9d239d73\">\n",
              "      Upload widget is only available when the cell has been executed in the\n",
              "      current browser session. Please rerun this cell to enable.\n",
              "      </output>\n",
              "      <script src=\"/nbextensions/google.colab/files.js\"></script> "
            ],
            "text/plain": [
              "<IPython.core.display.HTML object>"
            ]
          },
          "metadata": {
            "tags": []
          }
        },
        {
          "output_type": "stream",
          "text": [
            "Saving training.1600000.processed.noemoticon.csv to training.1600000.processed.noemoticon.csv\n"
          ],
          "name": "stdout"
        }
      ]
    },
    {
      "cell_type": "code",
      "metadata": {
        "id": "RGcDRBPjdXPP"
      },
      "source": [
        "import io \n",
        "  \n",
        "df = pd.read_csv(io.BytesIO(uploaded['training.1600000.processed.noemoticon.csv']),encoding =DATASET_ENCODING,names=DATASET_COLUMNS)"
      ],
      "execution_count": null,
      "outputs": []
    },
    {
      "cell_type": "code",
      "metadata": {
        "trusted": true,
        "_uuid": "936d499c00c4f1648bc16ca9d283c3b39be7fb10",
        "id": "KQ_ICwmlc1QW",
        "outputId": "0c703c44-9bd9-4c94-8d45-535cc9b78447",
        "colab": {
          "base_uri": "https://localhost:8080/",
          "height": 34
        }
      },
      "source": [
        "print(\"Dataset size:\", len(df))"
      ],
      "execution_count": null,
      "outputs": [
        {
          "output_type": "stream",
          "text": [
            "Dataset size: 1600000\n"
          ],
          "name": "stdout"
        }
      ]
    },
    {
      "cell_type": "code",
      "metadata": {
        "trusted": true,
        "_uuid": "7486ed895b813c5246f97b31b6162b0f65ff763b",
        "id": "WZCky4p3c1Qm",
        "outputId": "b0332862-7324-484b-cfe0-a8a0eaaafdf1",
        "colab": {
          "base_uri": "https://localhost:8080/",
          "height": 201
        }
      },
      "source": [
        "df.head(5)"
      ],
      "execution_count": null,
      "outputs": [
        {
          "output_type": "execute_result",
          "data": {
            "text/html": [
              "<div>\n",
              "<style scoped>\n",
              "    .dataframe tbody tr th:only-of-type {\n",
              "        vertical-align: middle;\n",
              "    }\n",
              "\n",
              "    .dataframe tbody tr th {\n",
              "        vertical-align: top;\n",
              "    }\n",
              "\n",
              "    .dataframe thead th {\n",
              "        text-align: right;\n",
              "    }\n",
              "</style>\n",
              "<table border=\"1\" class=\"dataframe\">\n",
              "  <thead>\n",
              "    <tr style=\"text-align: right;\">\n",
              "      <th></th>\n",
              "      <th>target</th>\n",
              "      <th>ids</th>\n",
              "      <th>date</th>\n",
              "      <th>flag</th>\n",
              "      <th>user</th>\n",
              "      <th>text</th>\n",
              "    </tr>\n",
              "  </thead>\n",
              "  <tbody>\n",
              "    <tr>\n",
              "      <th>0</th>\n",
              "      <td>0</td>\n",
              "      <td>1467810369</td>\n",
              "      <td>Mon Apr 06 22:19:45 PDT 2009</td>\n",
              "      <td>NO_QUERY</td>\n",
              "      <td>_TheSpecialOne_</td>\n",
              "      <td>@switchfoot http://twitpic.com/2y1zl - Awww, t...</td>\n",
              "    </tr>\n",
              "    <tr>\n",
              "      <th>1</th>\n",
              "      <td>0</td>\n",
              "      <td>1467810672</td>\n",
              "      <td>Mon Apr 06 22:19:49 PDT 2009</td>\n",
              "      <td>NO_QUERY</td>\n",
              "      <td>scotthamilton</td>\n",
              "      <td>is upset that he can't update his Facebook by ...</td>\n",
              "    </tr>\n",
              "    <tr>\n",
              "      <th>2</th>\n",
              "      <td>0</td>\n",
              "      <td>1467810917</td>\n",
              "      <td>Mon Apr 06 22:19:53 PDT 2009</td>\n",
              "      <td>NO_QUERY</td>\n",
              "      <td>mattycus</td>\n",
              "      <td>@Kenichan I dived many times for the ball. Man...</td>\n",
              "    </tr>\n",
              "    <tr>\n",
              "      <th>3</th>\n",
              "      <td>0</td>\n",
              "      <td>1467811184</td>\n",
              "      <td>Mon Apr 06 22:19:57 PDT 2009</td>\n",
              "      <td>NO_QUERY</td>\n",
              "      <td>ElleCTF</td>\n",
              "      <td>my whole body feels itchy and like its on fire</td>\n",
              "    </tr>\n",
              "    <tr>\n",
              "      <th>4</th>\n",
              "      <td>0</td>\n",
              "      <td>1467811193</td>\n",
              "      <td>Mon Apr 06 22:19:57 PDT 2009</td>\n",
              "      <td>NO_QUERY</td>\n",
              "      <td>Karoli</td>\n",
              "      <td>@nationwideclass no, it's not behaving at all....</td>\n",
              "    </tr>\n",
              "  </tbody>\n",
              "</table>\n",
              "</div>"
            ],
            "text/plain": [
              "   target  ...                                               text\n",
              "0       0  ...  @switchfoot http://twitpic.com/2y1zl - Awww, t...\n",
              "1       0  ...  is upset that he can't update his Facebook by ...\n",
              "2       0  ...  @Kenichan I dived many times for the ball. Man...\n",
              "3       0  ...    my whole body feels itchy and like its on fire \n",
              "4       0  ...  @nationwideclass no, it's not behaving at all....\n",
              "\n",
              "[5 rows x 6 columns]"
            ]
          },
          "metadata": {
            "tags": []
          },
          "execution_count": 8
        }
      ]
    },
    {
      "cell_type": "markdown",
      "metadata": {
        "_uuid": "3f9a7bb129e184967b13261fb5d253af451c75c5",
        "id": "2kWWNsTzc1Q3"
      },
      "source": [
        "### Map target label to String\n",
        "* **0** -> **NEGATIVE**\n",
        "* **2** -> **NEUTRAL**\n",
        "* **4** -> **POSITIVE**"
      ]
    },
    {
      "cell_type": "code",
      "metadata": {
        "trusted": true,
        "_uuid": "14074b59106cb9550440839e48b832223fc9502f",
        "id": "eApo0pSZc1Q5"
      },
      "source": [
        "decode_map = {0: \"NEGATIVE\", 2: \"NEUTRAL\", 4: \"POSITIVE\"}\n",
        "def decode_sentiment(label):\n",
        "    return decode_map[int(label)]"
      ],
      "execution_count": null,
      "outputs": []
    },
    {
      "cell_type": "code",
      "metadata": {
        "trusted": true,
        "_uuid": "4449d473187f647a195a6ac6986b009da32a7f4b",
        "id": "0QQpIIaHc1RD",
        "outputId": "6d357c51-955b-467a-f731-c5cb8c97fd94",
        "colab": {
          "base_uri": "https://localhost:8080/",
          "height": 51
        }
      },
      "source": [
        "%%time\n",
        "df.target = df.target.apply(lambda x: decode_sentiment(x))"
      ],
      "execution_count": null,
      "outputs": [
        {
          "output_type": "stream",
          "text": [
            "CPU times: user 416 ms, sys: 4.81 ms, total: 421 ms\n",
            "Wall time: 426 ms\n"
          ],
          "name": "stdout"
        }
      ]
    },
    {
      "cell_type": "code",
      "metadata": {
        "trusted": true,
        "_uuid": "19eb327803192f31cce3512aacb232f4d6b38715",
        "id": "vm5YFD2Nc1RR",
        "outputId": "0975dfb3-139d-413b-e27d-867cf644ad2b",
        "colab": {
          "base_uri": "https://localhost:8080/",
          "height": 516
        }
      },
      "source": [
        "target_cnt = Counter(df.target)\n",
        "\n",
        "plt.figure(figsize=(16,8))\n",
        "plt.bar(target_cnt.keys(), target_cnt.values())\n",
        "plt.title(\"Dataset labels distribuition\")"
      ],
      "execution_count": null,
      "outputs": [
        {
          "output_type": "execute_result",
          "data": {
            "text/plain": [
              "Text(0.5, 1.0, 'Dataset labels distribuition')"
            ]
          },
          "metadata": {
            "tags": []
          },
          "execution_count": 11
        },
        {
          "output_type": "display_data",
          "data": {
            "image/png": "[encoded data removed]",
            "text/plain": [
              "<Figure size 1152x576 with 1 Axes>"
            ]
          },
          "metadata": {
            "tags": [],
            "needs_background": "light"
          }
        }
      ]
    },
    {
      "cell_type": "markdown",
      "metadata": {
        "_uuid": "4329b1573518b03e497213efa7676220734ebb4b",
        "id": "uWt82HBSc1Rd"
      },
      "source": [
        "### Pre-Process dataset"
      ]
    },
    {
      "cell_type": "code",
      "metadata": {
        "trusted": true,
        "_uuid": "8aeee8b7b9ea11b749c7f91cd4787a7b50ed1a91",
        "id": "xGvKFS9Jc1Re"
      },
      "source": [
        "stop_words = stopwords.words(\"english\")\n",
        "stemmer = SnowballStemmer(\"english\")"
      ],
      "execution_count": null,
      "outputs": []
    },
    {
      "cell_type": "code",
      "metadata": {
        "trusted": true,
        "_uuid": "649ebcb97969b9ac4301138783704bb3d7846a49",
        "id": "8HDPt2iBc1Rs"
      },
      "source": [
        "def preprocess(text, stem=False):\n",
        "    # Remove link,user and special characters\n",
        "    text = re.sub(TEXT_CLEANING_RE, ' ', str(text).lower()).strip()\n",
        "    tokens = []\n",
        "    for token in text.split():\n",
        "        if token not in stop_words:\n",
        "            if stem:\n",
        "                tokens.append(stemmer.stem(token))\n",
        "            else:\n",
        "                tokens.append(token)\n",
        "    return \" \".join(tokens)"
      ],
      "execution_count": null,
      "outputs": []
    },
    {
      "cell_type": "code",
      "metadata": {
        "trusted": true,
        "_uuid": "f7f3e77ab9291d14687c49e71ba9b2b1e3323432",
        "id": "FRJNw2lqc1R6",
        "outputId": "921b35ce-669a-4afe-951d-ab419191ac5b",
        "colab": {
          "base_uri": "https://localhost:8080/",
          "height": 51
        }
      },
      "source": [
        "%%time\n",
        "df.text = df.text.apply(lambda x: preprocess(x))"
      ],
      "execution_count": null,
      "outputs": [
        {
          "output_type": "stream",
          "text": [
            "CPU times: user 37.6 s, sys: 131 ms, total: 37.7 s\n",
            "Wall time: 37.8 s\n"
          ],
          "name": "stdout"
        }
      ]
    },
    {
      "cell_type": "markdown",
      "metadata": {
        "trusted": true,
        "_uuid": "f5f9714a8507409bbe780eebf2855a33e8e6ba37",
        "id": "o2J0ZErRc1SN"
      },
      "source": [
        "### Split train and test"
      ]
    },
    {
      "cell_type": "code",
      "metadata": {
        "trusted": true,
        "_uuid": "d2b1179c968e3f3910c790ecf0c5b2cbb34b0e68",
        "id": "o2WinbZ5c1SQ",
        "outputId": "ba564660-5340-45a4-b7af-c5ee7da5ace7",
        "colab": {
          "base_uri": "https://localhost:8080/"
        }
      },
      "source": [
        "df_train, df_test = train_test_split(df, test_size=1-TRAIN_SIZE, random_state=42)\n",
        "print(\"TRAIN size:\", len(df_train))\n",
        "print(\"TEST size:\", len(df_test))"
      ],
      "execution_count": null,
      "outputs": [
        {
          "output_type": "stream",
          "text": [
            "TRAIN size: 1280000\n",
            "TEST size: 320000\n"
          ],
          "name": "stdout"
        }
      ]
    },
    {
      "cell_type": "markdown",
      "metadata": {
        "_uuid": "f08a28aab2c3d16d8b9681a7d5d07587153a1cd6",
        "id": "XjI_IIN-c1Si"
      },
      "source": [
        "### Word2Vec "
      ]
    },
    {
      "cell_type": "code",
      "metadata": {
        "trusted": true,
        "_uuid": "2461bf564de1b4414841933d0c1d1bee5f5cc5a6",
        "id": "lLpBDH3tc1So",
        "outputId": "3cd4ced5-dbc9-45d2-bea9-12a00a8cee08",
        "colab": {
          "base_uri": "https://localhost:8080/"
        }
      },
      "source": [
        "%%time\n",
        "documents = [_text.split() for _text in df_train.text] "
      ],
      "execution_count": null,
      "outputs": [
        {
          "output_type": "stream",
          "text": [
            "CPU times: user 2.69 s, sys: 268 ms, total: 2.96 s\n",
            "Wall time: 2.96 s\n"
          ],
          "name": "stdout"
        }
      ]
    },
    {
      "cell_type": "code",
      "metadata": {
        "trusted": true,
        "_uuid": "8e19b9f25801ba86420decc266d2b3e6fb44f1ea",
        "id": "jfGBPSBSc1Sz"
      },
      "source": [
        "w2v_model = gensim.models.word2vec.Word2Vec(size=W2V_SIZE, \n",
        "                                            window=W2V_WINDOW, \n",
        "                                            min_count=W2V_MIN_COUNT, \n",
        "                                            workers=8)"
      ],
      "execution_count": null,
      "outputs": []
    },
    {
      "cell_type": "code",
      "metadata": {
        "trusted": true,
        "_uuid": "58d655af07653c594bec6bebcfb302a973b0ad9c",
        "id": "SktsSbQ5c1S9",
        "outputId": "1b875efa-c8e7-4b9a-dd8c-7d9fe6ec27fb",
        "colab": {
          "base_uri": "https://localhost:8080/"
        }
      },
      "source": [
        "w2v_model.build_vocab(documents)"
      ],
      "execution_count": null,
      "outputs": [
        {
          "output_type": "stream",
          "text": [
            "2020-10-14 13:07:47,198 : INFO : collecting all words and their counts\n",
            "2020-10-14 13:07:47,199 : INFO : PROGRESS: at sentence #0, processed 0 words, keeping 0 word types\n",
            "2020-10-14 13:07:47,221 : INFO : PROGRESS: at sentence #10000, processed 72565 words, keeping 14005 word types\n",
            "2020-10-14 13:07:47,237 : INFO : PROGRESS: at sentence #20000, processed 144393 words, keeping 21587 word types\n",
            "2020-10-14 13:07:47,255 : INFO : PROGRESS: at sentence #30000, processed 215826 words, keeping 27541 word types\n",
            "2020-10-14 13:07:47,278 : INFO : PROGRESS: at sentence #40000, processed 288271 words, keeping 32764 word types\n",
            "2020-10-14 13:07:47,295 : INFO : PROGRESS: at sentence #50000, processed 359772 words, keeping 37587 word types\n",
            "2020-10-14 13:07:47,313 : INFO : PROGRESS: at sentence #60000, processed 431431 words, keeping 42198 word types\n",
            "2020-10-14 13:07:47,331 : INFO : PROGRESS: at sentence #70000, processed 503103 words, keeping 46458 word types\n",
            "2020-10-14 13:07:47,349 : INFO : PROGRESS: at sentence #80000, processed 575709 words, keeping 50476 word types\n",
            "2020-10-14 13:07:47,368 : INFO : PROGRESS: at sentence #90000, processed 647100 words, keeping 54140 word types\n",
            "2020-10-14 13:07:47,384 : INFO : PROGRESS: at sentence #100000, processed 718681 words, keeping 57777 word types\n",
            "2020-10-14 13:07:47,403 : INFO : PROGRESS: at sentence #110000, processed 790696 words, keeping 61207 word types\n",
            "2020-10-14 13:07:47,421 : INFO : PROGRESS: at sentence #120000, processed 863134 words, keeping 64583 word types\n",
            "2020-10-14 13:07:47,439 : INFO : PROGRESS: at sentence #130000, processed 935111 words, keeping 67865 word types\n",
            "2020-10-14 13:07:47,463 : INFO : PROGRESS: at sentence #140000, processed 1006668 words, keeping 70966 word types\n",
            "2020-10-14 13:07:47,482 : INFO : PROGRESS: at sentence #150000, processed 1078512 words, keeping 74119 word types\n",
            "2020-10-14 13:07:47,499 : INFO : PROGRESS: at sentence #160000, processed 1149914 words, keeping 77187 word types\n",
            "2020-10-14 13:07:47,517 : INFO : PROGRESS: at sentence #170000, processed 1222145 words, keeping 80267 word types\n",
            "2020-10-14 13:07:47,536 : INFO : PROGRESS: at sentence #180000, processed 1294708 words, keeping 83393 word types\n",
            "2020-10-14 13:07:47,553 : INFO : PROGRESS: at sentence #190000, processed 1367608 words, keeping 86329 word types\n",
            "2020-10-14 13:07:47,574 : INFO : PROGRESS: at sentence #200000, processed 1439469 words, keeping 89103 word types\n",
            "2020-10-14 13:07:47,592 : INFO : PROGRESS: at sentence #210000, processed 1512099 words, keeping 91840 word types\n",
            "2020-10-14 13:07:47,609 : INFO : PROGRESS: at sentence #220000, processed 1584149 words, keeping 94636 word types\n",
            "2020-10-14 13:07:47,627 : INFO : PROGRESS: at sentence #230000, processed 1656354 words, keeping 97353 word types\n",
            "2020-10-14 13:07:47,645 : INFO : PROGRESS: at sentence #240000, processed 1728573 words, keeping 99975 word types\n",
            "2020-10-14 13:07:47,664 : INFO : PROGRESS: at sentence #250000, processed 1801102 words, keeping 102594 word types\n",
            "2020-10-14 13:07:47,686 : INFO : PROGRESS: at sentence #260000, processed 1873103 words, keeping 105162 word types\n",
            "2020-10-14 13:07:47,704 : INFO : PROGRESS: at sentence #270000, processed 1945245 words, keeping 107626 word types\n",
            "2020-10-14 13:07:47,722 : INFO : PROGRESS: at sentence #280000, processed 2017163 words, keeping 110141 word types\n",
            "2020-10-14 13:07:47,744 : INFO : PROGRESS: at sentence #290000, processed 2089574 words, keeping 112539 word types\n",
            "2020-10-14 13:07:47,763 : INFO : PROGRESS: at sentence #300000, processed 2160996 words, keeping 114893 word types\n",
            "2020-10-14 13:07:47,779 : INFO : PROGRESS: at sentence #310000, processed 2232913 words, keeping 117298 word types\n",
            "2020-10-14 13:07:47,797 : INFO : PROGRESS: at sentence #320000, processed 2305039 words, keeping 119693 word types\n",
            "2020-10-14 13:07:47,816 : INFO : PROGRESS: at sentence #330000, processed 2377119 words, keeping 122131 word types\n",
            "2020-10-14 13:07:47,833 : INFO : PROGRESS: at sentence #340000, processed 2449370 words, keeping 124416 word types\n",
            "2020-10-14 13:07:47,852 : INFO : PROGRESS: at sentence #350000, processed 2521564 words, keeping 126669 word types\n",
            "2020-10-14 13:07:47,869 : INFO : PROGRESS: at sentence #360000, processed 2593681 words, keeping 128912 word types\n",
            "2020-10-14 13:07:47,889 : INFO : PROGRESS: at sentence #370000, processed 2665692 words, keeping 131135 word types\n",
            "2020-10-14 13:07:47,908 : INFO : PROGRESS: at sentence #380000, processed 2737859 words, keeping 133403 word types\n",
            "2020-10-14 13:07:47,926 : INFO : PROGRESS: at sentence #390000, processed 2809848 words, keeping 135551 word types\n",
            "2020-10-14 13:07:47,945 : INFO : PROGRESS: at sentence #400000, processed 2882438 words, keeping 137742 word types\n",
            "2020-10-14 13:07:47,963 : INFO : PROGRESS: at sentence #410000, processed 2954075 words, keeping 139909 word types\n",
            "2020-10-14 13:07:47,980 : INFO : PROGRESS: at sentence #420000, processed 3026247 words, keeping 142144 word types\n",
            "2020-10-14 13:07:47,999 : INFO : PROGRESS: at sentence #430000, processed 3098659 words, keeping 144364 word types\n",
            "2020-10-14 13:07:48,017 : INFO : PROGRESS: at sentence #440000, processed 3170663 words, keeping 146439 word types\n",
            "2020-10-14 13:07:48,037 : INFO : PROGRESS: at sentence #450000, processed 3243344 words, keeping 148526 word types\n",
            "2020-10-14 13:07:48,055 : INFO : PROGRESS: at sentence #460000, processed 3315466 words, keeping 150610 word types\n",
            "2020-10-14 13:07:48,075 : INFO : PROGRESS: at sentence #470000, processed 3388295 words, keeping 152737 word types\n",
            "2020-10-14 13:07:48,093 : INFO : PROGRESS: at sentence #480000, processed 3460120 words, keeping 154757 word types\n",
            "2020-10-14 13:07:48,113 : INFO : PROGRESS: at sentence #490000, processed 3531883 words, keeping 156825 word types\n",
            "2020-10-14 13:07:48,131 : INFO : PROGRESS: at sentence #500000, processed 3604217 words, keeping 158859 word types\n",
            "2020-10-14 13:07:48,149 : INFO : PROGRESS: at sentence #510000, processed 3676427 words, keeping 160852 word types\n",
            "2020-10-14 13:07:48,169 : INFO : PROGRESS: at sentence #520000, processed 3749045 words, keeping 162863 word types\n",
            "2020-10-14 13:07:48,187 : INFO : PROGRESS: at sentence #530000, processed 3821622 words, keeping 164929 word types\n",
            "2020-10-14 13:07:48,206 : INFO : PROGRESS: at sentence #540000, processed 3893627 words, keeping 166840 word types\n",
            "2020-10-14 13:07:48,224 : INFO : PROGRESS: at sentence #550000, processed 3965477 words, keeping 168799 word types\n",
            "2020-10-14 13:07:48,245 : INFO : PROGRESS: at sentence #560000, processed 4038050 words, keeping 170802 word types\n",
            "2020-10-14 13:07:48,264 : INFO : PROGRESS: at sentence #570000, processed 4110296 words, keeping 172760 word types\n",
            "2020-10-14 13:07:48,291 : INFO : PROGRESS: at sentence #580000, processed 4182385 words, keeping 174635 word types\n",
            "2020-10-14 13:07:48,316 : INFO : PROGRESS: at sentence #590000, processed 4254632 words, keeping 176470 word types\n",
            "2020-10-14 13:07:48,335 : INFO : PROGRESS: at sentence #600000, processed 4326859 words, keeping 178350 word types\n",
            "2020-10-14 13:07:48,352 : INFO : PROGRESS: at sentence #610000, processed 4399183 words, keeping 180290 word types\n",
            "2020-10-14 13:07:48,370 : INFO : PROGRESS: at sentence #620000, processed 4471343 words, keeping 182129 word types\n",
            "2020-10-14 13:07:48,388 : INFO : PROGRESS: at sentence #630000, processed 4543286 words, keeping 184005 word types\n",
            "2020-10-14 13:07:48,407 : INFO : PROGRESS: at sentence #640000, processed 4615780 words, keeping 185835 word types\n",
            "2020-10-14 13:07:48,424 : INFO : PROGRESS: at sentence #650000, processed 4688481 words, keeping 187705 word types\n",
            "2020-10-14 13:07:48,443 : INFO : PROGRESS: at sentence #660000, processed 4760481 words, keeping 189439 word types\n",
            "2020-10-14 13:07:48,461 : INFO : PROGRESS: at sentence #670000, processed 4833024 words, keeping 191232 word types\n",
            "2020-10-14 13:07:48,486 : INFO : PROGRESS: at sentence #680000, processed 4904516 words, keeping 193177 word types\n",
            "2020-10-14 13:07:48,507 : INFO : PROGRESS: at sentence #690000, processed 4976968 words, keeping 194960 word types\n",
            "2020-10-14 13:07:48,524 : INFO : PROGRESS: at sentence #700000, processed 5049412 words, keeping 196725 word types\n",
            "2020-10-14 13:07:48,546 : INFO : PROGRESS: at sentence #710000, processed 5121976 words, keeping 198516 word types\n",
            "2020-10-14 13:07:48,563 : INFO : PROGRESS: at sentence #720000, processed 5193881 words, keeping 200325 word types\n",
            "2020-10-14 13:07:48,582 : INFO : PROGRESS: at sentence #730000, processed 5265467 words, keeping 202133 word types\n",
            "2020-10-14 13:07:48,601 : INFO : PROGRESS: at sentence #740000, processed 5337518 words, keeping 203818 word types\n",
            "2020-10-14 13:07:48,623 : INFO : PROGRESS: at sentence #750000, processed 5409321 words, keeping 205535 word types\n",
            "2020-10-14 13:07:48,643 : INFO : PROGRESS: at sentence #760000, processed 5481512 words, keeping 207282 word types\n",
            "2020-10-14 13:07:48,664 : INFO : PROGRESS: at sentence #770000, processed 5554093 words, keeping 209076 word types\n",
            "2020-10-14 13:07:48,686 : INFO : PROGRESS: at sentence #780000, processed 5625382 words, keeping 210805 word types\n",
            "2020-10-14 13:07:48,709 : INFO : PROGRESS: at sentence #790000, processed 5698066 words, keeping 212618 word types\n",
            "2020-10-14 13:07:48,730 : INFO : PROGRESS: at sentence #800000, processed 5770880 words, keeping 214374 word types\n",
            "2020-10-14 13:07:48,755 : INFO : PROGRESS: at sentence #810000, processed 5843418 words, keeping 216009 word types\n",
            "2020-10-14 13:07:48,776 : INFO : PROGRESS: at sentence #820000, processed 5915628 words, keeping 217804 word types\n",
            "2020-10-14 13:07:48,794 : INFO : PROGRESS: at sentence #830000, processed 5987499 words, keeping 219585 word types\n",
            "2020-10-14 13:07:48,818 : INFO : PROGRESS: at sentence #840000, processed 6058973 words, keeping 221344 word types\n",
            "2020-10-14 13:07:48,836 : INFO : PROGRESS: at sentence #850000, processed 6131125 words, keeping 223002 word types\n",
            "2020-10-14 13:07:48,857 : INFO : PROGRESS: at sentence #860000, processed 6202951 words, keeping 224643 word types\n",
            "2020-10-14 13:07:48,882 : INFO : PROGRESS: at sentence #870000, processed 6275461 words, keeping 226362 word types\n",
            "2020-10-14 13:07:48,904 : INFO : PROGRESS: at sentence #880000, processed 6347661 words, keeping 227986 word types\n",
            "2020-10-14 13:07:48,925 : INFO : PROGRESS: at sentence #890000, processed 6419806 words, keeping 229634 word types\n",
            "2020-10-14 13:07:48,947 : INFO : PROGRESS: at sentence #900000, processed 6491644 words, keeping 231389 word types\n",
            "2020-10-14 13:07:48,967 : INFO : PROGRESS: at sentence #910000, processed 6564022 words, keeping 233050 word types\n",
            "2020-10-14 13:07:48,989 : INFO : PROGRESS: at sentence #920000, processed 6636228 words, keeping 234686 word types\n",
            "2020-10-14 13:07:49,010 : INFO : PROGRESS: at sentence #930000, processed 6708573 words, keeping 236393 word types\n",
            "2020-10-14 13:07:49,028 : INFO : PROGRESS: at sentence #940000, processed 6779956 words, keeping 238052 word types\n",
            "2020-10-14 13:07:49,049 : INFO : PROGRESS: at sentence #950000, processed 6852599 words, keeping 239716 word types\n",
            "2020-10-14 13:07:49,068 : INFO : PROGRESS: at sentence #960000, processed 6924717 words, keeping 241354 word types\n",
            "2020-10-14 13:07:49,087 : INFO : PROGRESS: at sentence #970000, processed 6996992 words, keeping 242980 word types\n",
            "2020-10-14 13:07:49,106 : INFO : PROGRESS: at sentence #980000, processed 7068402 words, keeping 244646 word types\n",
            "2020-10-14 13:07:49,125 : INFO : PROGRESS: at sentence #990000, processed 7140346 words, keeping 246186 word types\n",
            "2020-10-14 13:07:49,142 : INFO : PROGRESS: at sentence #1000000, processed 7211757 words, keeping 247726 word types\n",
            "2020-10-14 13:07:49,162 : INFO : PROGRESS: at sentence #1010000, processed 7283267 words, keeping 249288 word types\n",
            "2020-10-14 13:07:49,181 : INFO : PROGRESS: at sentence #1020000, processed 7355299 words, keeping 250860 word types\n",
            "2020-10-14 13:07:49,200 : INFO : PROGRESS: at sentence #1030000, processed 7426918 words, keeping 252366 word types\n",
            "2020-10-14 13:07:49,218 : INFO : PROGRESS: at sentence #1040000, processed 7498815 words, keeping 253930 word types\n",
            "2020-10-14 13:07:49,237 : INFO : PROGRESS: at sentence #1050000, processed 7570499 words, keeping 255471 word types\n",
            "2020-10-14 13:07:49,255 : INFO : PROGRESS: at sentence #1060000, processed 7643251 words, keeping 257035 word types\n",
            "2020-10-14 13:07:49,275 : INFO : PROGRESS: at sentence #1070000, processed 7714721 words, keeping 258509 word types\n",
            "2020-10-14 13:07:49,292 : INFO : PROGRESS: at sentence #1080000, processed 7787371 words, keeping 260071 word types\n",
            "2020-10-14 13:07:49,319 : INFO : PROGRESS: at sentence #1090000, processed 7859336 words, keeping 261683 word types\n",
            "2020-10-14 13:07:49,338 : INFO : PROGRESS: at sentence #1100000, processed 7932029 words, keeping 263278 word types\n",
            "2020-10-14 13:07:49,358 : INFO : PROGRESS: at sentence #1110000, processed 8004146 words, keeping 264800 word types\n",
            "2020-10-14 13:07:49,376 : INFO : PROGRESS: at sentence #1120000, processed 8075880 words, keeping 266309 word types\n",
            "2020-10-14 13:07:49,395 : INFO : PROGRESS: at sentence #1130000, processed 8148163 words, keeping 267826 word types\n",
            "2020-10-14 13:07:49,415 : INFO : PROGRESS: at sentence #1140000, processed 8220487 words, keeping 269391 word types\n",
            "2020-10-14 13:07:49,434 : INFO : PROGRESS: at sentence #1150000, processed 8292498 words, keeping 270894 word types\n",
            "2020-10-14 13:07:49,452 : INFO : PROGRESS: at sentence #1160000, processed 8363838 words, keeping 272400 word types\n",
            "2020-10-14 13:07:49,470 : INFO : PROGRESS: at sentence #1170000, processed 8435510 words, keeping 273970 word types\n",
            "2020-10-14 13:07:49,493 : INFO : PROGRESS: at sentence #1180000, processed 8507795 words, keeping 275521 word types\n",
            "2020-10-14 13:07:49,510 : INFO : PROGRESS: at sentence #1190000, processed 8579080 words, keeping 277007 word types\n",
            "2020-10-14 13:07:49,531 : INFO : PROGRESS: at sentence #1200000, processed 8650606 words, keeping 278457 word types\n",
            "2020-10-14 13:07:49,550 : INFO : PROGRESS: at sentence #1210000, processed 8721893 words, keeping 279959 word types\n",
            "2020-10-14 13:07:49,570 : INFO : PROGRESS: at sentence #1220000, processed 8793795 words, keeping 281427 word types\n",
            "2020-10-14 13:07:49,587 : INFO : PROGRESS: at sentence #1230000, processed 8865726 words, keeping 282981 word types\n",
            "2020-10-14 13:07:49,607 : INFO : PROGRESS: at sentence #1240000, processed 8938173 words, keeping 284542 word types\n",
            "2020-10-14 13:07:49,625 : INFO : PROGRESS: at sentence #1250000, processed 9010842 words, keeping 286064 word types\n",
            "2020-10-14 13:07:49,646 : INFO : PROGRESS: at sentence #1260000, processed 9083261 words, keeping 287521 word types\n",
            "2020-10-14 13:07:49,665 : INFO : PROGRESS: at sentence #1270000, processed 9155616 words, keeping 288987 word types\n",
            "2020-10-14 13:07:49,686 : INFO : collected 290418 word types from a corpus of 9227204 raw words and 1280000 sentences\n",
            "2020-10-14 13:07:49,689 : INFO : Loading a fresh vocabulary\n",
            "2020-10-14 13:07:49,831 : INFO : effective_min_count=10 retains 30369 unique words (10% of original 290418, drops 260049)\n",
            "2020-10-14 13:07:49,832 : INFO : effective_min_count=10 leaves 8780739 word corpus (95% of original 9227204, drops 446465)\n",
            "2020-10-14 13:07:49,923 : INFO : deleting the raw counts dictionary of 290418 items\n",
            "2020-10-14 13:07:49,931 : INFO : sample=0.001 downsamples 45 most-common words\n",
            "2020-10-14 13:07:49,932 : INFO : downsampling leaves estimated 8222658 word corpus (93.6% of prior 8780739)\n",
            "2020-10-14 13:07:50,013 : INFO : estimated required memory for 30369 words and 300 dimensions: 88070100 bytes\n",
            "2020-10-14 13:07:50,014 : INFO : resetting layer weights\n"
          ],
          "name": "stderr"
        }
      ]
    },
    {
      "cell_type": "code",
      "metadata": {
        "trusted": true,
        "_uuid": "72a5628ca81fd4b8983c12d93ae0bf950b86b6ae",
        "id": "19PC4ZHlc1TD",
        "outputId": "cc496061-d2ac-4223-dd68-9f04c285a1d7",
        "colab": {
          "base_uri": "https://localhost:8080/"
        }
      },
      "source": [
        "words = w2v_model.wv.vocab.keys()\n",
        "vocab_size = len(words)\n",
        "print(\"Vocab size\", vocab_size)"
      ],
      "execution_count": null,
      "outputs": [
        {
          "output_type": "stream",
          "text": [
            "Vocab size 30369\n"
          ],
          "name": "stdout"
        }
      ]
    },
    {
      "cell_type": "code",
      "metadata": {
        "trusted": true,
        "_uuid": "68c3e4a5ba07cac3dee67f78ecdd1404c7f83f14",
        "id": "WLAegz7hc1TJ",
        "outputId": "1cfb3b0d-aac0-4609-d61c-43089b359ca2",
        "colab": {
          "base_uri": "https://localhost:8080/"
        }
      },
      "source": [
        "%%time\n",
        "w2v_model.train(documents, total_examples=len(documents), epochs=W2V_EPOCH)"
      ],
      "execution_count": null,
      "outputs": [
        {
          "output_type": "stream",
          "text": [
            "2020-10-14 13:07:55,158 : INFO : training model with 8 workers on 30369 vocabulary and 300 features, using sg=0 hs=0 sample=0.001 negative=5 window=7\n",
            "2020-10-14 13:07:56,199 : INFO : EPOCH 1 - PROGRESS: at 5.32% examples, 428223 words/s, in_qsize 16, out_qsize 0\n",
            "2020-10-14 13:07:57,272 : INFO : EPOCH 1 - PROGRESS: at 11.40% examples, 447238 words/s, in_qsize 16, out_qsize 0\n",
            "2020-10-14 13:07:58,288 : INFO : EPOCH 1 - PROGRESS: at 17.46% examples, 461269 words/s, in_qsize 15, out_qsize 0\n",
            "2020-10-14 13:07:59,292 : INFO : EPOCH 1 - PROGRESS: at 23.52% examples, 469971 words/s, in_qsize 15, out_qsize 0\n",
            "2020-10-14 13:08:00,306 : INFO : EPOCH 1 - PROGRESS: at 28.72% examples, 460511 words/s, in_qsize 11, out_qsize 4\n",
            "2020-10-14 13:08:01,329 : INFO : EPOCH 1 - PROGRESS: at 34.89% examples, 466397 words/s, in_qsize 15, out_qsize 0\n",
            "2020-10-14 13:08:02,337 : INFO : EPOCH 1 - PROGRESS: at 40.73% examples, 467931 words/s, in_qsize 14, out_qsize 1\n",
            "2020-10-14 13:08:03,360 : INFO : EPOCH 1 - PROGRESS: at 46.46% examples, 467114 words/s, in_qsize 15, out_qsize 0\n",
            "2020-10-14 13:08:04,365 : INFO : EPOCH 1 - PROGRESS: at 52.18% examples, 467485 words/s, in_qsize 15, out_qsize 0\n",
            "2020-10-14 13:08:05,373 : INFO : EPOCH 1 - PROGRESS: at 58.36% examples, 471106 words/s, in_qsize 15, out_qsize 0\n",
            "2020-10-14 13:08:06,397 : INFO : EPOCH 1 - PROGRESS: at 63.87% examples, 468635 words/s, in_qsize 16, out_qsize 0\n",
            "2020-10-14 13:08:07,410 : INFO : EPOCH 1 - PROGRESS: at 69.94% examples, 470602 words/s, in_qsize 15, out_qsize 0\n",
            "2020-10-14 13:08:08,427 : INFO : EPOCH 1 - PROGRESS: at 75.57% examples, 469420 words/s, in_qsize 14, out_qsize 3\n",
            "2020-10-14 13:08:09,517 : INFO : EPOCH 1 - PROGRESS: at 81.88% examples, 469761 words/s, in_qsize 15, out_qsize 0\n",
            "2020-10-14 13:08:10,549 : INFO : EPOCH 1 - PROGRESS: at 87.94% examples, 470935 words/s, in_qsize 15, out_qsize 0\n",
            "2020-10-14 13:08:11,583 : INFO : EPOCH 1 - PROGRESS: at 93.70% examples, 469768 words/s, in_qsize 12, out_qsize 3\n",
            "2020-10-14 13:08:12,437 : INFO : worker thread finished; awaiting finish of 7 more threads\n",
            "2020-10-14 13:08:12,442 : INFO : worker thread finished; awaiting finish of 6 more threads\n",
            "2020-10-14 13:08:12,463 : INFO : worker thread finished; awaiting finish of 5 more threads\n",
            "2020-10-14 13:08:12,481 : INFO : worker thread finished; awaiting finish of 4 more threads\n",
            "2020-10-14 13:08:12,504 : INFO : worker thread finished; awaiting finish of 3 more threads\n",
            "2020-10-14 13:08:12,512 : INFO : worker thread finished; awaiting finish of 2 more threads\n",
            "2020-10-14 13:08:12,525 : INFO : worker thread finished; awaiting finish of 1 more threads\n",
            "2020-10-14 13:08:12,531 : INFO : worker thread finished; awaiting finish of 0 more threads\n",
            "2020-10-14 13:08:12,531 : INFO : EPOCH - 1 : training on 9227204 raw words (8223257 effective words) took 17.4s, 473910 effective words/s\n",
            "2020-10-14 13:08:13,585 : INFO : EPOCH 2 - PROGRESS: at 5.21% examples, 409833 words/s, in_qsize 13, out_qsize 2\n",
            "2020-10-14 13:08:14,659 : INFO : EPOCH 2 - PROGRESS: at 11.62% examples, 450227 words/s, in_qsize 15, out_qsize 0\n",
            "2020-10-14 13:08:15,755 : INFO : EPOCH 2 - PROGRESS: at 17.78% examples, 454523 words/s, in_qsize 13, out_qsize 2\n",
            "2020-10-14 13:08:16,816 : INFO : EPOCH 2 - PROGRESS: at 24.06% examples, 462559 words/s, in_qsize 15, out_qsize 0\n",
            "2020-10-14 13:08:17,831 : INFO : EPOCH 2 - PROGRESS: at 30.02% examples, 466491 words/s, in_qsize 13, out_qsize 2\n",
            "2020-10-14 13:08:18,857 : INFO : EPOCH 2 - PROGRESS: at 36.18% examples, 471122 words/s, in_qsize 14, out_qsize 1\n",
            "2020-10-14 13:08:19,891 : INFO : EPOCH 2 - PROGRESS: at 41.70% examples, 466607 words/s, in_qsize 14, out_qsize 3\n",
            "2020-10-14 13:08:20,904 : INFO : EPOCH 2 - PROGRESS: at 47.75% examples, 469745 words/s, in_qsize 14, out_qsize 1\n",
            "2020-10-14 13:08:21,991 : INFO : EPOCH 2 - PROGRESS: at 53.92% examples, 469507 words/s, in_qsize 11, out_qsize 4\n",
            "2020-10-14 13:08:22,997 : INFO : EPOCH 2 - PROGRESS: at 59.98% examples, 472080 words/s, in_qsize 16, out_qsize 0\n",
            "2020-10-14 13:08:24,076 : INFO : EPOCH 2 - PROGRESS: at 66.15% examples, 471897 words/s, in_qsize 15, out_qsize 0\n",
            "2020-10-14 13:08:25,086 : INFO : EPOCH 2 - PROGRESS: at 71.99% examples, 472259 words/s, in_qsize 15, out_qsize 0\n",
            "2020-10-14 13:08:26,102 : INFO : EPOCH 2 - PROGRESS: at 77.63% examples, 471006 words/s, in_qsize 15, out_qsize 0\n",
            "2020-10-14 13:08:27,175 : INFO : EPOCH 2 - PROGRESS: at 83.83% examples, 471209 words/s, in_qsize 15, out_qsize 0\n",
            "2020-10-14 13:08:28,196 : INFO : EPOCH 2 - PROGRESS: at 89.78% examples, 471760 words/s, in_qsize 16, out_qsize 0\n",
            "2020-10-14 13:08:29,212 : INFO : EPOCH 2 - PROGRESS: at 95.67% examples, 471835 words/s, in_qsize 15, out_qsize 0\n",
            "2020-10-14 13:08:29,775 : INFO : worker thread finished; awaiting finish of 7 more threads\n",
            "2020-10-14 13:08:29,778 : INFO : worker thread finished; awaiting finish of 6 more threads\n",
            "2020-10-14 13:08:29,791 : INFO : worker thread finished; awaiting finish of 5 more threads\n",
            "2020-10-14 13:08:29,809 : INFO : worker thread finished; awaiting finish of 4 more threads\n",
            "2020-10-14 13:08:29,817 : INFO : worker thread finished; awaiting finish of 3 more threads\n",
            "2020-10-14 13:08:29,838 : INFO : worker thread finished; awaiting finish of 2 more threads\n",
            "2020-10-14 13:08:29,842 : INFO : worker thread finished; awaiting finish of 1 more threads\n",
            "2020-10-14 13:08:29,854 : INFO : worker thread finished; awaiting finish of 0 more threads\n",
            "2020-10-14 13:08:29,854 : INFO : EPOCH - 2 : training on 9227204 raw words (8222917 effective words) took 17.3s, 474960 effective words/s\n",
            "2020-10-14 13:08:30,876 : INFO : EPOCH 3 - PROGRESS: at 5.54% examples, 449084 words/s, in_qsize 15, out_qsize 0\n",
            "2020-10-14 13:08:31,894 : INFO : EPOCH 3 - PROGRESS: at 11.30% examples, 456588 words/s, in_qsize 16, out_qsize 0\n",
            "2020-10-14 13:08:32,900 : INFO : EPOCH 3 - PROGRESS: at 17.24% examples, 466601 words/s, in_qsize 14, out_qsize 1\n",
            "2020-10-14 13:08:33,913 : INFO : EPOCH 3 - PROGRESS: at 23.31% examples, 473074 words/s, in_qsize 15, out_qsize 0\n",
            "2020-10-14 13:08:34,961 : INFO : EPOCH 3 - PROGRESS: at 29.27% examples, 472018 words/s, in_qsize 15, out_qsize 0\n",
            "2020-10-14 13:08:35,967 : INFO : EPOCH 3 - PROGRESS: at 35.21% examples, 474497 words/s, in_qsize 15, out_qsize 0\n",
            "2020-10-14 13:08:36,985 : INFO : EPOCH 3 - PROGRESS: at 40.40% examples, 466685 words/s, in_qsize 13, out_qsize 5\n",
            "2020-10-14 13:08:38,014 : INFO : EPOCH 3 - PROGRESS: at 46.78% examples, 472237 words/s, in_qsize 15, out_qsize 0\n",
            "2020-10-14 13:08:39,014 : INFO : EPOCH 3 - PROGRESS: at 52.40% examples, 471282 words/s, in_qsize 16, out_qsize 0\n",
            "2020-10-14 13:08:40,054 : INFO : EPOCH 3 - PROGRESS: at 58.04% examples, 468659 words/s, in_qsize 12, out_qsize 3\n",
            "2020-10-14 13:08:41,136 : INFO : EPOCH 3 - PROGRESS: at 64.51% examples, 471110 words/s, in_qsize 13, out_qsize 2\n",
            "2020-10-14 13:08:42,138 : INFO : EPOCH 3 - PROGRESS: at 70.59% examples, 473237 words/s, in_qsize 15, out_qsize 0\n",
            "2020-10-14 13:08:43,187 : INFO : EPOCH 3 - PROGRESS: at 76.44% examples, 472046 words/s, in_qsize 15, out_qsize 0\n",
            "2020-10-14 13:08:44,199 : INFO : EPOCH 3 - PROGRESS: at 82.53% examples, 473536 words/s, in_qsize 14, out_qsize 1\n",
            "2020-10-14 13:08:45,211 : INFO : EPOCH 3 - PROGRESS: at 87.83% examples, 471083 words/s, in_qsize 15, out_qsize 2\n",
            "2020-10-14 13:08:46,233 : INFO : EPOCH 3 - PROGRESS: at 93.70% examples, 470713 words/s, in_qsize 14, out_qsize 1\n",
            "2020-10-14 13:08:47,138 : INFO : worker thread finished; awaiting finish of 7 more threads\n",
            "2020-10-14 13:08:47,154 : INFO : worker thread finished; awaiting finish of 6 more threads\n",
            "2020-10-14 13:08:47,181 : INFO : worker thread finished; awaiting finish of 5 more threads\n",
            "2020-10-14 13:08:47,193 : INFO : worker thread finished; awaiting finish of 4 more threads\n",
            "2020-10-14 13:08:47,194 : INFO : worker thread finished; awaiting finish of 3 more threads\n",
            "2020-10-14 13:08:47,204 : INFO : worker thread finished; awaiting finish of 2 more threads\n",
            "2020-10-14 13:08:47,210 : INFO : worker thread finished; awaiting finish of 1 more threads\n",
            "2020-10-14 13:08:47,211 : INFO : worker thread finished; awaiting finish of 0 more threads\n",
            "2020-10-14 13:08:47,212 : INFO : EPOCH - 3 : training on 9227204 raw words (8222263 effective words) took 17.3s, 473969 effective words/s\n",
            "2020-10-14 13:08:48,344 : INFO : EPOCH 4 - PROGRESS: at 5.65% examples, 413358 words/s, in_qsize 16, out_qsize 2\n",
            "2020-10-14 13:08:49,387 : INFO : EPOCH 4 - PROGRESS: at 11.84% examples, 448973 words/s, in_qsize 16, out_qsize 0\n",
            "2020-10-14 13:08:50,409 : INFO : EPOCH 4 - PROGRESS: at 17.35% examples, 447459 words/s, in_qsize 11, out_qsize 3\n",
            "2020-10-14 13:08:51,425 : INFO : EPOCH 4 - PROGRESS: at 23.20% examples, 453717 words/s, in_qsize 15, out_qsize 1\n",
            "2020-10-14 13:08:52,431 : INFO : EPOCH 4 - PROGRESS: at 29.05% examples, 458487 words/s, in_qsize 14, out_qsize 1\n",
            "2020-10-14 13:08:53,432 : INFO : EPOCH 4 - PROGRESS: at 34.68% examples, 459176 words/s, in_qsize 15, out_qsize 0\n",
            "2020-10-14 13:08:54,483 : INFO : EPOCH 4 - PROGRESS: at 40.62% examples, 460182 words/s, in_qsize 15, out_qsize 0\n",
            "2020-10-14 13:08:55,511 : INFO : EPOCH 4 - PROGRESS: at 46.35% examples, 460059 words/s, in_qsize 15, out_qsize 0\n",
            "2020-10-14 13:08:56,528 : INFO : EPOCH 4 - PROGRESS: at 52.40% examples, 463411 words/s, in_qsize 15, out_qsize 0\n",
            "2020-10-14 13:08:57,619 : INFO : EPOCH 4 - PROGRESS: at 58.47% examples, 462784 words/s, in_qsize 14, out_qsize 1\n",
            "2020-10-14 13:08:58,701 : INFO : EPOCH 4 - PROGRESS: at 64.73% examples, 464588 words/s, in_qsize 15, out_qsize 4\n",
            "2020-10-14 13:08:59,713 : INFO : EPOCH 4 - PROGRESS: at 71.13% examples, 468670 words/s, in_qsize 15, out_qsize 0\n",
            "2020-10-14 13:09:00,716 : INFO : EPOCH 4 - PROGRESS: at 76.77% examples, 468128 words/s, in_qsize 15, out_qsize 0\n",
            "2020-10-14 13:09:01,748 : INFO : EPOCH 4 - PROGRESS: at 82.75% examples, 468610 words/s, in_qsize 15, out_qsize 0\n",
            "2020-10-14 13:09:02,758 : INFO : EPOCH 4 - PROGRESS: at 88.70% examples, 469671 words/s, in_qsize 15, out_qsize 0\n",
            "2020-10-14 13:09:03,814 : INFO : EPOCH 4 - PROGRESS: at 94.90% examples, 470346 words/s, in_qsize 14, out_qsize 1\n",
            "2020-10-14 13:09:04,496 : INFO : worker thread finished; awaiting finish of 7 more threads\n",
            "2020-10-14 13:09:04,497 : INFO : worker thread finished; awaiting finish of 6 more threads\n",
            "2020-10-14 13:09:04,503 : INFO : worker thread finished; awaiting finish of 5 more threads\n",
            "2020-10-14 13:09:04,521 : INFO : worker thread finished; awaiting finish of 4 more threads\n",
            "2020-10-14 13:09:04,528 : INFO : worker thread finished; awaiting finish of 3 more threads\n",
            "2020-10-14 13:09:04,552 : INFO : worker thread finished; awaiting finish of 2 more threads\n",
            "2020-10-14 13:09:04,558 : INFO : worker thread finished; awaiting finish of 1 more threads\n",
            "2020-10-14 13:09:04,563 : INFO : worker thread finished; awaiting finish of 0 more threads\n",
            "2020-10-14 13:09:04,563 : INFO : EPOCH - 4 : training on 9227204 raw words (8223275 effective words) took 17.3s, 474214 effective words/s\n",
            "2020-10-14 13:09:05,596 : INFO : EPOCH 5 - PROGRESS: at 5.43% examples, 435614 words/s, in_qsize 15, out_qsize 0\n",
            "2020-10-14 13:09:06,623 : INFO : EPOCH 5 - PROGRESS: at 11.51% examples, 460804 words/s, in_qsize 15, out_qsize 0\n",
            "2020-10-14 13:09:07,671 : INFO : EPOCH 5 - PROGRESS: at 17.24% examples, 457160 words/s, in_qsize 10, out_qsize 5\n",
            "2020-10-14 13:09:08,671 : INFO : EPOCH 5 - PROGRESS: at 23.63% examples, 473925 words/s, in_qsize 15, out_qsize 0\n",
            "2020-10-14 13:09:09,686 : INFO : EPOCH 5 - PROGRESS: at 29.16% examples, 468828 words/s, in_qsize 15, out_qsize 0\n",
            "2020-10-14 13:09:10,702 : INFO : EPOCH 5 - PROGRESS: at 35.10% examples, 471019 words/s, in_qsize 15, out_qsize 0\n",
            "2020-10-14 13:09:11,704 : INFO : EPOCH 5 - PROGRESS: at 41.05% examples, 473547 words/s, in_qsize 16, out_qsize 2\n",
            "2020-10-14 13:09:12,711 : INFO : EPOCH 5 - PROGRESS: at 46.89% examples, 474106 words/s, in_qsize 15, out_qsize 0\n",
            "2020-10-14 13:09:13,759 : INFO : EPOCH 5 - PROGRESS: at 52.95% examples, 474327 words/s, in_qsize 16, out_qsize 0\n",
            "2020-10-14 13:09:14,859 : INFO : EPOCH 5 - PROGRESS: at 59.23% examples, 473862 words/s, in_qsize 16, out_qsize 0\n",
            "2020-10-14 13:09:15,867 : INFO : EPOCH 5 - PROGRESS: at 65.28% examples, 475706 words/s, in_qsize 15, out_qsize 0\n",
            "2020-10-14 13:09:16,943 : INFO : EPOCH 5 - PROGRESS: at 71.34% examples, 474660 words/s, in_qsize 16, out_qsize 2\n",
            "2020-10-14 13:09:17,974 : INFO : EPOCH 5 - PROGRESS: at 77.42% examples, 475354 words/s, in_qsize 15, out_qsize 0\n",
            "2020-10-14 13:09:19,037 : INFO : EPOCH 5 - PROGRESS: at 83.72% examples, 476156 words/s, in_qsize 15, out_qsize 0\n",
            "2020-10-14 13:09:20,041 : INFO : EPOCH 5 - PROGRESS: at 89.45% examples, 475757 words/s, in_qsize 13, out_qsize 2\n",
            "2020-10-14 13:09:21,042 : INFO : EPOCH 5 - PROGRESS: at 95.34% examples, 476005 words/s, in_qsize 15, out_qsize 0\n",
            "2020-10-14 13:09:21,728 : INFO : worker thread finished; awaiting finish of 7 more threads\n",
            "2020-10-14 13:09:21,731 : INFO : worker thread finished; awaiting finish of 6 more threads\n",
            "2020-10-14 13:09:21,732 : INFO : worker thread finished; awaiting finish of 5 more threads\n",
            "2020-10-14 13:09:21,734 : INFO : worker thread finished; awaiting finish of 4 more threads\n",
            "2020-10-14 13:09:21,735 : INFO : worker thread finished; awaiting finish of 3 more threads\n",
            "2020-10-14 13:09:21,737 : INFO : worker thread finished; awaiting finish of 2 more threads\n",
            "2020-10-14 13:09:21,742 : INFO : worker thread finished; awaiting finish of 1 more threads\n",
            "2020-10-14 13:09:21,742 : INFO : worker thread finished; awaiting finish of 0 more threads\n",
            "2020-10-14 13:09:21,743 : INFO : EPOCH - 5 : training on 9227204 raw words (8223621 effective words) took 17.2s, 478964 effective words/s\n",
            "2020-10-14 13:09:22,775 : INFO : EPOCH 6 - PROGRESS: at 5.21% examples, 419943 words/s, in_qsize 15, out_qsize 0\n",
            "2020-10-14 13:09:23,848 : INFO : EPOCH 6 - PROGRESS: at 11.51% examples, 451647 words/s, in_qsize 16, out_qsize 1\n",
            "2020-10-14 13:09:24,856 : INFO : EPOCH 6 - PROGRESS: at 17.46% examples, 462683 words/s, in_qsize 16, out_qsize 1\n",
            "2020-10-14 13:09:25,900 : INFO : EPOCH 6 - PROGRESS: at 23.20% examples, 460093 words/s, in_qsize 15, out_qsize 0\n",
            "2020-10-14 13:09:26,916 : INFO : EPOCH 6 - PROGRESS: at 28.94% examples, 460988 words/s, in_qsize 15, out_qsize 0\n",
            "2020-10-14 13:09:27,978 : INFO : EPOCH 6 - PROGRESS: at 35.10% examples, 465122 words/s, in_qsize 15, out_qsize 1\n",
            "2020-10-14 13:09:28,963 : INFO : EPOCH 6 - PROGRESS: at 40.94% examples, 467280 words/s, in_qsize 14, out_qsize 1\n",
            "2020-10-14 13:09:29,977 : INFO : EPOCH 6 - PROGRESS: at 46.67% examples, 467039 words/s, in_qsize 16, out_qsize 0\n",
            "2020-10-14 13:09:30,990 : INFO : EPOCH 6 - PROGRESS: at 52.29% examples, 466023 words/s, in_qsize 15, out_qsize 2\n",
            "2020-10-14 13:09:32,002 : INFO : EPOCH 6 - PROGRESS: at 58.36% examples, 468703 words/s, in_qsize 15, out_qsize 0\n",
            "2020-10-14 13:09:33,012 : INFO : EPOCH 6 - PROGRESS: at 64.41% examples, 470953 words/s, in_qsize 16, out_qsize 0\n",
            "2020-10-14 13:09:34,056 : INFO : EPOCH 6 - PROGRESS: at 70.37% examples, 470797 words/s, in_qsize 16, out_qsize 1\n",
            "2020-10-14 13:09:35,064 : INFO : EPOCH 6 - PROGRESS: at 76.33% examples, 471909 words/s, in_qsize 13, out_qsize 2\n",
            "2020-10-14 13:09:36,072 : INFO : EPOCH 6 - PROGRESS: at 82.32% examples, 472911 words/s, in_qsize 15, out_qsize 2\n",
            "2020-10-14 13:09:37,080 : INFO : EPOCH 6 - PROGRESS: at 87.94% examples, 472017 words/s, in_qsize 14, out_qsize 1\n",
            "2020-10-14 13:09:38,106 : INFO : EPOCH 6 - PROGRESS: at 93.70% examples, 471235 words/s, in_qsize 16, out_qsize 3\n",
            "2020-10-14 13:09:39,018 : INFO : worker thread finished; awaiting finish of 7 more threads\n",
            "2020-10-14 13:09:39,019 : INFO : worker thread finished; awaiting finish of 6 more threads\n",
            "2020-10-14 13:09:39,033 : INFO : worker thread finished; awaiting finish of 5 more threads\n",
            "2020-10-14 13:09:39,047 : INFO : worker thread finished; awaiting finish of 4 more threads\n",
            "2020-10-14 13:09:39,060 : INFO : worker thread finished; awaiting finish of 3 more threads\n",
            "2020-10-14 13:09:39,071 : INFO : worker thread finished; awaiting finish of 2 more threads\n",
            "2020-10-14 13:09:39,077 : INFO : worker thread finished; awaiting finish of 1 more threads\n",
            "2020-10-14 13:09:39,082 : INFO : worker thread finished; awaiting finish of 0 more threads\n",
            "2020-10-14 13:09:39,082 : INFO : EPOCH - 6 : training on 9227204 raw words (8222032 effective words) took 17.3s, 474574 effective words/s\n",
            "2020-10-14 13:09:40,159 : INFO : EPOCH 7 - PROGRESS: at 5.54% examples, 425775 words/s, in_qsize 12, out_qsize 3\n",
            "2020-10-14 13:09:41,254 : INFO : EPOCH 7 - PROGRESS: at 12.06% examples, 457490 words/s, in_qsize 15, out_qsize 0\n",
            "2020-10-14 13:09:42,259 : INFO : EPOCH 7 - PROGRESS: at 18.32% examples, 475268 words/s, in_qsize 15, out_qsize 0\n",
            "2020-10-14 13:09:43,303 : INFO : EPOCH 7 - PROGRESS: at 23.96% examples, 467519 words/s, in_qsize 16, out_qsize 2\n",
            "2020-10-14 13:09:44,308 : INFO : EPOCH 7 - PROGRESS: at 30.24% examples, 476452 words/s, in_qsize 15, out_qsize 1\n",
            "2020-10-14 13:09:45,309 : INFO : EPOCH 7 - PROGRESS: at 35.75% examples, 472848 words/s, in_qsize 15, out_qsize 0\n",
            "2020-10-14 13:09:46,328 : INFO : EPOCH 7 - PROGRESS: at 41.59% examples, 472682 words/s, in_qsize 14, out_qsize 4\n",
            "2020-10-14 13:09:47,369 : INFO : EPOCH 7 - PROGRESS: at 47.86% examples, 475655 words/s, in_qsize 15, out_qsize 0\n",
            "2020-10-14 13:09:48,411 : INFO : EPOCH 7 - PROGRESS: at 53.70% examples, 474139 words/s, in_qsize 15, out_qsize 2\n",
            "2020-10-14 13:09:49,447 : INFO : EPOCH 7 - PROGRESS: at 59.55% examples, 473191 words/s, in_qsize 14, out_qsize 5\n",
            "2020-10-14 13:09:50,489 : INFO : EPOCH 7 - PROGRESS: at 65.60% examples, 473703 words/s, in_qsize 15, out_qsize 0\n",
            "2020-10-14 13:09:51,490 : INFO : EPOCH 7 - PROGRESS: at 71.67% examples, 475690 words/s, in_qsize 15, out_qsize 2\n",
            "2020-10-14 13:09:52,513 : INFO : EPOCH 7 - PROGRESS: at 77.63% examples, 475921 words/s, in_qsize 15, out_qsize 0\n",
            "2020-10-14 13:09:53,585 : INFO : EPOCH 7 - PROGRESS: at 83.83% examples, 475769 words/s, in_qsize 13, out_qsize 2\n",
            "2020-10-14 13:09:54,606 : INFO : EPOCH 7 - PROGRESS: at 90.00% examples, 477166 words/s, in_qsize 15, out_qsize 2\n",
            "2020-10-14 13:09:55,637 : INFO : EPOCH 7 - PROGRESS: at 95.99% examples, 477010 words/s, in_qsize 16, out_qsize 0\n",
            "2020-10-14 13:09:56,232 : INFO : worker thread finished; awaiting finish of 7 more threads\n",
            "2020-10-14 13:09:56,241 : INFO : worker thread finished; awaiting finish of 6 more threads\n",
            "2020-10-14 13:09:56,244 : INFO : worker thread finished; awaiting finish of 5 more threads\n",
            "2020-10-14 13:09:56,245 : INFO : worker thread finished; awaiting finish of 4 more threads\n",
            "2020-10-14 13:09:56,249 : INFO : worker thread finished; awaiting finish of 3 more threads\n",
            "2020-10-14 13:09:56,251 : INFO : worker thread finished; awaiting finish of 2 more threads\n",
            "2020-10-14 13:09:56,268 : INFO : worker thread finished; awaiting finish of 1 more threads\n",
            "2020-10-14 13:09:56,277 : INFO : worker thread finished; awaiting finish of 0 more threads\n",
            "2020-10-14 13:09:56,278 : INFO : EPOCH - 7 : training on 9227204 raw words (8222509 effective words) took 17.2s, 478465 effective words/s\n",
            "2020-10-14 13:09:57,309 : INFO : EPOCH 8 - PROGRESS: at 5.33% examples, 427644 words/s, in_qsize 15, out_qsize 0\n",
            "2020-10-14 13:09:58,321 : INFO : EPOCH 8 - PROGRESS: at 11.51% examples, 464789 words/s, in_qsize 16, out_qsize 0\n",
            "2020-10-14 13:09:59,326 : INFO : EPOCH 8 - PROGRESS: at 17.02% examples, 460445 words/s, in_qsize 15, out_qsize 0\n",
            "2020-10-14 13:10:00,337 : INFO : EPOCH 8 - PROGRESS: at 22.98% examples, 466640 words/s, in_qsize 16, out_qsize 0\n",
            "2020-10-14 13:10:01,343 : INFO : EPOCH 8 - PROGRESS: at 28.94% examples, 470726 words/s, in_qsize 15, out_qsize 0\n",
            "2020-10-14 13:10:02,369 : INFO : EPOCH 8 - PROGRESS: at 34.68% examples, 468886 words/s, in_qsize 14, out_qsize 2\n",
            "2020-10-14 13:10:03,428 : INFO : EPOCH 8 - PROGRESS: at 41.05% examples, 472942 words/s, in_qsize 15, out_qsize 0\n",
            "2020-10-14 13:10:04,476 : INFO : EPOCH 8 - PROGRESS: at 47.21% examples, 474410 words/s, in_qsize 15, out_qsize 0\n",
            "2020-10-14 13:10:05,494 : INFO : EPOCH 8 - PROGRESS: at 53.05% examples, 474223 words/s, in_qsize 14, out_qsize 1\n",
            "2020-10-14 13:10:06,499 : INFO : EPOCH 8 - PROGRESS: at 58.80% examples, 473824 words/s, in_qsize 12, out_qsize 3\n",
            "2020-10-14 13:10:07,517 : INFO : EPOCH 8 - PROGRESS: at 64.51% examples, 472875 words/s, in_qsize 16, out_qsize 0\n",
            "2020-10-14 13:10:08,545 : INFO : EPOCH 8 - PROGRESS: at 70.59% examples, 473964 words/s, in_qsize 15, out_qsize 0\n",
            "2020-10-14 13:10:09,569 : INFO : EPOCH 8 - PROGRESS: at 75.89% examples, 470252 words/s, in_qsize 15, out_qsize 0\n",
            "2020-10-14 13:10:10,629 : INFO : EPOCH 8 - PROGRESS: at 82.32% examples, 472136 words/s, in_qsize 15, out_qsize 0\n",
            "2020-10-14 13:10:11,633 : INFO : EPOCH 8 - PROGRESS: at 87.83% examples, 470826 words/s, in_qsize 14, out_qsize 1\n",
            "2020-10-14 13:10:12,704 : INFO : EPOCH 8 - PROGRESS: at 93.81% examples, 469921 words/s, in_qsize 15, out_qsize 3\n",
            "2020-10-14 13:10:13,579 : INFO : worker thread finished; awaiting finish of 7 more threads\n",
            "2020-10-14 13:10:13,589 : INFO : worker thread finished; awaiting finish of 6 more threads\n",
            "2020-10-14 13:10:13,597 : INFO : worker thread finished; awaiting finish of 5 more threads\n",
            "2020-10-14 13:10:13,626 : INFO : worker thread finished; awaiting finish of 4 more threads\n",
            "2020-10-14 13:10:13,628 : INFO : worker thread finished; awaiting finish of 3 more threads\n",
            "2020-10-14 13:10:13,639 : INFO : worker thread finished; awaiting finish of 2 more threads\n",
            "2020-10-14 13:10:13,648 : INFO : worker thread finished; awaiting finish of 1 more threads\n",
            "2020-10-14 13:10:13,653 : INFO : worker thread finished; awaiting finish of 0 more threads\n",
            "2020-10-14 13:10:13,654 : INFO : EPOCH - 8 : training on 9227204 raw words (8222738 effective words) took 17.4s, 473512 effective words/s\n",
            "2020-10-14 13:10:14,693 : INFO : EPOCH 9 - PROGRESS: at 5.32% examples, 424150 words/s, in_qsize 15, out_qsize 0\n",
            "2020-10-14 13:10:15,734 : INFO : EPOCH 9 - PROGRESS: at 11.19% examples, 443324 words/s, in_qsize 15, out_qsize 0\n",
            "2020-10-14 13:10:16,745 : INFO : EPOCH 9 - PROGRESS: at 17.35% examples, 462551 words/s, in_qsize 16, out_qsize 0\n",
            "2020-10-14 13:10:17,753 : INFO : EPOCH 9 - PROGRESS: at 23.20% examples, 466239 words/s, in_qsize 15, out_qsize 0\n",
            "2020-10-14 13:10:18,785 : INFO : EPOCH 9 - PROGRESS: at 28.94% examples, 464452 words/s, in_qsize 10, out_qsize 5\n",
            "2020-10-14 13:10:19,815 : INFO : EPOCH 9 - PROGRESS: at 35.10% examples, 469316 words/s, in_qsize 15, out_qsize 0\n",
            "2020-10-14 13:10:20,815 : INFO : EPOCH 9 - PROGRESS: at 41.05% examples, 472169 words/s, in_qsize 15, out_qsize 0\n",
            "2020-10-14 13:10:21,884 : INFO : EPOCH 9 - PROGRESS: at 46.89% examples, 469306 words/s, in_qsize 16, out_qsize 6\n",
            "2020-10-14 13:10:22,912 : INFO : EPOCH 9 - PROGRESS: at 53.16% examples, 473038 words/s, in_qsize 15, out_qsize 0\n",
            "2020-10-14 13:10:23,922 : INFO : EPOCH 9 - PROGRESS: at 59.12% examples, 474228 words/s, in_qsize 15, out_qsize 0\n",
            "2020-10-14 13:10:24,926 : INFO : EPOCH 9 - PROGRESS: at 65.06% examples, 475469 words/s, in_qsize 15, out_qsize 0\n",
            "2020-10-14 13:10:25,947 : INFO : EPOCH 9 - PROGRESS: at 70.59% examples, 472947 words/s, in_qsize 15, out_qsize 5\n",
            "2020-10-14 13:10:27,018 : INFO : EPOCH 9 - PROGRESS: at 77.10% examples, 474995 words/s, in_qsize 13, out_qsize 5\n",
            "2020-10-14 13:10:28,043 : INFO : EPOCH 9 - PROGRESS: at 83.29% examples, 476464 words/s, in_qsize 16, out_qsize 1\n",
            "2020-10-14 13:10:29,073 : INFO : EPOCH 9 - PROGRESS: at 89.34% examples, 476977 words/s, in_qsize 16, out_qsize 0\n",
            "2020-10-14 13:10:30,076 : INFO : EPOCH 9 - PROGRESS: at 95.12% examples, 476560 words/s, in_qsize 15, out_qsize 0\n",
            "2020-10-14 13:10:30,767 : INFO : worker thread finished; awaiting finish of 7 more threads\n",
            "2020-10-14 13:10:30,771 : INFO : worker thread finished; awaiting finish of 6 more threads\n",
            "2020-10-14 13:10:30,772 : INFO : worker thread finished; awaiting finish of 5 more threads\n",
            "2020-10-14 13:10:30,775 : INFO : worker thread finished; awaiting finish of 4 more threads\n",
            "2020-10-14 13:10:30,784 : INFO : worker thread finished; awaiting finish of 3 more threads\n",
            "2020-10-14 13:10:30,799 : INFO : worker thread finished; awaiting finish of 2 more threads\n",
            "2020-10-14 13:10:30,807 : INFO : worker thread finished; awaiting finish of 1 more threads\n",
            "2020-10-14 13:10:30,814 : INFO : worker thread finished; awaiting finish of 0 more threads\n",
            "2020-10-14 13:10:30,815 : INFO : EPOCH - 9 : training on 9227204 raw words (8223180 effective words) took 17.2s, 479466 effective words/s\n",
            "2020-10-14 13:10:31,858 : INFO : EPOCH 10 - PROGRESS: at 5.65% examples, 449194 words/s, in_qsize 15, out_qsize 0\n",
            "2020-10-14 13:10:32,878 : INFO : EPOCH 10 - PROGRESS: at 11.40% examples, 456216 words/s, in_qsize 15, out_qsize 0\n",
            "2020-10-14 13:10:33,920 : INFO : EPOCH 10 - PROGRESS: at 17.35% examples, 460717 words/s, in_qsize 15, out_qsize 2\n",
            "2020-10-14 13:10:34,927 : INFO : EPOCH 10 - PROGRESS: at 23.52% examples, 471548 words/s, in_qsize 15, out_qsize 0\n",
            "2020-10-14 13:10:35,952 : INFO : EPOCH 10 - PROGRESS: at 29.59% examples, 474524 words/s, in_qsize 16, out_qsize 1\n",
            "2020-10-14 13:10:36,961 : INFO : EPOCH 10 - PROGRESS: at 35.75% examples, 479193 words/s, in_qsize 16, out_qsize 0\n",
            "2020-10-14 13:10:38,049 : INFO : EPOCH 10 - PROGRESS: at 41.70% examples, 474859 words/s, in_qsize 14, out_qsize 1\n",
            "2020-10-14 13:10:39,055 : INFO : EPOCH 10 - PROGRESS: at 47.75% examples, 477416 words/s, in_qsize 15, out_qsize 0\n",
            "2020-10-14 13:10:40,095 : INFO : EPOCH 10 - PROGRESS: at 54.03% examples, 479604 words/s, in_qsize 14, out_qsize 1\n",
            "2020-10-14 13:10:41,121 : INFO : EPOCH 10 - PROGRESS: at 59.55% examples, 475968 words/s, in_qsize 14, out_qsize 1\n",
            "2020-10-14 13:10:42,206 : INFO : EPOCH 10 - PROGRESS: at 65.72% examples, 475202 words/s, in_qsize 13, out_qsize 2\n",
            "2020-10-14 13:10:43,250 : INFO : EPOCH 10 - PROGRESS: at 71.99% examples, 476852 words/s, in_qsize 16, out_qsize 0\n",
            "2020-10-14 13:10:44,261 : INFO : EPOCH 10 - PROGRESS: at 78.07% examples, 478101 words/s, in_qsize 15, out_qsize 0\n",
            "2020-10-14 13:10:45,305 : INFO : EPOCH 10 - PROGRESS: at 84.15% examples, 478104 words/s, in_qsize 15, out_qsize 0\n",
            "2020-10-14 13:10:46,341 : INFO : EPOCH 10 - PROGRESS: at 90.33% examples, 478887 words/s, in_qsize 14, out_qsize 1\n",
            "2020-10-14 13:10:47,341 : INFO : EPOCH 10 - PROGRESS: at 96.53% examples, 480605 words/s, in_qsize 14, out_qsize 0\n",
            "2020-10-14 13:10:47,816 : INFO : worker thread finished; awaiting finish of 7 more threads\n",
            "2020-10-14 13:10:47,837 : INFO : worker thread finished; awaiting finish of 6 more threads\n",
            "2020-10-14 13:10:47,851 : INFO : worker thread finished; awaiting finish of 5 more threads\n",
            "2020-10-14 13:10:47,868 : INFO : worker thread finished; awaiting finish of 4 more threads\n",
            "2020-10-14 13:10:47,879 : INFO : worker thread finished; awaiting finish of 3 more threads\n",
            "2020-10-14 13:10:47,880 : INFO : worker thread finished; awaiting finish of 2 more threads\n",
            "2020-10-14 13:10:47,891 : INFO : worker thread finished; awaiting finish of 1 more threads\n",
            "2020-10-14 13:10:47,894 : INFO : worker thread finished; awaiting finish of 0 more threads\n",
            "2020-10-14 13:10:47,895 : INFO : EPOCH - 10 : training on 9227204 raw words (8223011 effective words) took 17.1s, 481761 effective words/s\n",
            "2020-10-14 13:10:48,959 : INFO : EPOCH 11 - PROGRESS: at 5.65% examples, 439612 words/s, in_qsize 15, out_qsize 0\n",
            "2020-10-14 13:10:49,962 : INFO : EPOCH 11 - PROGRESS: at 11.51% examples, 459485 words/s, in_qsize 15, out_qsize 0\n",
            "2020-10-14 13:10:50,973 : INFO : EPOCH 11 - PROGRESS: at 17.35% examples, 464555 words/s, in_qsize 15, out_qsize 0\n",
            "2020-10-14 13:10:51,977 : INFO : EPOCH 11 - PROGRESS: at 23.31% examples, 470416 words/s, in_qsize 15, out_qsize 0\n",
            "2020-10-14 13:10:53,041 : INFO : EPOCH 11 - PROGRESS: at 29.48% examples, 471820 words/s, in_qsize 16, out_qsize 0\n",
            "2020-10-14 13:10:54,110 : INFO : EPOCH 11 - PROGRESS: at 35.64% examples, 472333 words/s, in_qsize 15, out_qsize 0\n",
            "2020-10-14 13:10:55,123 : INFO : EPOCH 11 - PROGRESS: at 41.91% examples, 477619 words/s, in_qsize 16, out_qsize 0\n",
            "2020-10-14 13:10:56,183 : INFO : EPOCH 11 - PROGRESS: at 47.65% examples, 473877 words/s, in_qsize 15, out_qsize 1\n",
            "2020-10-14 13:10:57,216 : INFO : EPOCH 11 - PROGRESS: at 53.70% examples, 474567 words/s, in_qsize 14, out_qsize 1\n",
            "2020-10-14 13:10:58,218 : INFO : EPOCH 11 - PROGRESS: at 60.09% examples, 479445 words/s, in_qsize 15, out_qsize 0\n",
            "2020-10-14 13:10:59,248 : INFO : EPOCH 11 - PROGRESS: at 65.93% examples, 478274 words/s, in_qsize 16, out_qsize 0\n",
            "2020-10-14 13:11:00,256 : INFO : EPOCH 11 - PROGRESS: at 71.35% examples, 475309 words/s, in_qsize 16, out_qsize 2\n",
            "2020-10-14 13:11:01,276 : INFO : EPOCH 11 - PROGRESS: at 77.31% examples, 475650 words/s, in_qsize 15, out_qsize 0\n",
            "2020-10-14 13:11:02,291 : INFO : EPOCH 11 - PROGRESS: at 82.96% examples, 474295 words/s, in_qsize 14, out_qsize 1\n",
            "2020-10-14 13:11:03,360 : INFO : EPOCH 11 - PROGRESS: at 88.91% examples, 473178 words/s, in_qsize 16, out_qsize 2\n",
            "2020-10-14 13:11:04,380 : INFO : EPOCH 11 - PROGRESS: at 95.12% examples, 474654 words/s, in_qsize 14, out_qsize 1\n",
            "2020-10-14 13:11:05,048 : INFO : worker thread finished; awaiting finish of 7 more threads\n",
            "2020-10-14 13:11:05,051 : INFO : worker thread finished; awaiting finish of 6 more threads\n",
            "2020-10-14 13:11:05,054 : INFO : worker thread finished; awaiting finish of 5 more threads\n",
            "2020-10-14 13:11:05,077 : INFO : worker thread finished; awaiting finish of 4 more threads\n",
            "2020-10-14 13:11:05,081 : INFO : worker thread finished; awaiting finish of 3 more threads\n",
            "2020-10-14 13:11:05,084 : INFO : worker thread finished; awaiting finish of 2 more threads\n",
            "2020-10-14 13:11:05,101 : INFO : worker thread finished; awaiting finish of 1 more threads\n",
            "2020-10-14 13:11:05,106 : INFO : worker thread finished; awaiting finish of 0 more threads\n",
            "2020-10-14 13:11:05,107 : INFO : EPOCH - 11 : training on 9227204 raw words (8221645 effective words) took 17.2s, 477987 effective words/s\n",
            "2020-10-14 13:11:06,127 : INFO : EPOCH 12 - PROGRESS: at 5.22% examples, 423302 words/s, in_qsize 14, out_qsize 0\n",
            "2020-10-14 13:11:07,129 : INFO : EPOCH 12 - PROGRESS: at 11.19% examples, 456171 words/s, in_qsize 15, out_qsize 0\n",
            "2020-10-14 13:11:08,148 : INFO : EPOCH 12 - PROGRESS: at 16.81% examples, 455463 words/s, in_qsize 14, out_qsize 1\n",
            "2020-10-14 13:11:09,214 : INFO : EPOCH 12 - PROGRESS: at 22.87% examples, 458777 words/s, in_qsize 14, out_qsize 1\n",
            "2020-10-14 13:11:10,309 : INFO : EPOCH 12 - PROGRESS: at 29.05% examples, 459847 words/s, in_qsize 16, out_qsize 1\n",
            "2020-10-14 13:11:11,338 : INFO : EPOCH 12 - PROGRESS: at 34.89% examples, 461069 words/s, in_qsize 11, out_qsize 4\n",
            "2020-10-14 13:11:12,361 : INFO : EPOCH 12 - PROGRESS: at 40.62% examples, 461843 words/s, in_qsize 15, out_qsize 6\n",
            "2020-10-14 13:11:13,361 : INFO : EPOCH 12 - PROGRESS: at 46.46% examples, 463515 words/s, in_qsize 15, out_qsize 0\n",
            "2020-10-14 13:11:14,389 : INFO : EPOCH 12 - PROGRESS: at 52.29% examples, 464063 words/s, in_qsize 14, out_qsize 1\n",
            "2020-10-14 13:11:15,403 : INFO : EPOCH 12 - PROGRESS: at 58.14% examples, 465139 words/s, in_qsize 13, out_qsize 1\n",
            "2020-10-14 13:11:16,415 : INFO : EPOCH 12 - PROGRESS: at 63.75% examples, 464439 words/s, in_qsize 15, out_qsize 0\n",
            "2020-10-14 13:11:17,474 : INFO : EPOCH 12 - PROGRESS: at 69.72% examples, 464307 words/s, in_qsize 14, out_qsize 1\n",
            "2020-10-14 13:11:18,482 : INFO : EPOCH 12 - PROGRESS: at 75.78% examples, 466607 words/s, in_qsize 15, out_qsize 0\n",
            "2020-10-14 13:11:19,506 : INFO : EPOCH 12 - PROGRESS: at 81.45% examples, 466076 words/s, in_qsize 15, out_qsize 1\n",
            "2020-10-14 13:11:20,518 : INFO : EPOCH 12 - PROGRESS: at 87.61% examples, 467952 words/s, in_qsize 15, out_qsize 0\n",
            "2020-10-14 13:11:21,519 : INFO : EPOCH 12 - PROGRESS: at 93.59% examples, 469249 words/s, in_qsize 15, out_qsize 0\n",
            "2020-10-14 13:11:22,533 : INFO : EPOCH 12 - PROGRESS: at 99.11% examples, 468006 words/s, in_qsize 9, out_qsize 0\n",
            "2020-10-14 13:11:22,540 : INFO : worker thread finished; awaiting finish of 7 more threads\n",
            "2020-10-14 13:11:22,544 : INFO : worker thread finished; awaiting finish of 6 more threads\n",
            "2020-10-14 13:11:22,555 : INFO : worker thread finished; awaiting finish of 5 more threads\n",
            "2020-10-14 13:11:22,556 : INFO : worker thread finished; awaiting finish of 4 more threads\n",
            "2020-10-14 13:11:22,571 : INFO : worker thread finished; awaiting finish of 3 more threads\n",
            "2020-10-14 13:11:22,576 : INFO : worker thread finished; awaiting finish of 2 more threads\n",
            "2020-10-14 13:11:22,597 : INFO : worker thread finished; awaiting finish of 1 more threads\n",
            "2020-10-14 13:11:22,598 : INFO : worker thread finished; awaiting finish of 0 more threads\n",
            "2020-10-14 13:11:22,599 : INFO : EPOCH - 12 : training on 9227204 raw words (8222876 effective words) took 17.5s, 470368 effective words/s\n",
            "2020-10-14 13:11:23,632 : INFO : EPOCH 13 - PROGRESS: at 5.21% examples, 423313 words/s, in_qsize 16, out_qsize 1\n",
            "2020-10-14 13:11:24,656 : INFO : EPOCH 13 - PROGRESS: at 10.97% examples, 442410 words/s, in_qsize 14, out_qsize 3\n",
            "2020-10-14 13:11:25,659 : INFO : EPOCH 13 - PROGRESS: at 17.02% examples, 460549 words/s, in_qsize 15, out_qsize 0\n",
            "2020-10-14 13:11:26,662 : INFO : EPOCH 13 - PROGRESS: at 22.65% examples, 460822 words/s, in_qsize 15, out_qsize 0\n",
            "2020-10-14 13:11:27,688 : INFO : EPOCH 13 - PROGRESS: at 27.96% examples, 453578 words/s, in_qsize 13, out_qsize 4\n",
            "2020-10-14 13:11:28,691 : INFO : EPOCH 13 - PROGRESS: at 33.92% examples, 459356 words/s, in_qsize 14, out_qsize 0\n",
            "2020-10-14 13:11:29,738 : INFO : EPOCH 13 - PROGRESS: at 39.76% examples, 459390 words/s, in_qsize 15, out_qsize 0\n",
            "2020-10-14 13:11:30,786 : INFO : EPOCH 13 - PROGRESS: at 45.70% examples, 460417 words/s, in_qsize 14, out_qsize 1\n",
            "2020-10-14 13:11:31,790 : INFO : EPOCH 13 - PROGRESS: at 51.21% examples, 459609 words/s, in_qsize 15, out_qsize 0\n",
            "2020-10-14 13:11:32,870 : INFO : EPOCH 13 - PROGRESS: at 57.27% examples, 459877 words/s, in_qsize 15, out_qsize 0\n",
            "2020-10-14 13:11:33,877 : INFO : EPOCH 13 - PROGRESS: at 63.11% examples, 461484 words/s, in_qsize 15, out_qsize 0\n",
            "2020-10-14 13:11:34,952 : INFO : EPOCH 13 - PROGRESS: at 68.75% examples, 459151 words/s, in_qsize 15, out_qsize 2\n",
            "2020-10-14 13:11:35,995 : INFO : EPOCH 13 - PROGRESS: at 74.69% examples, 460494 words/s, in_qsize 16, out_qsize 0\n",
            "2020-10-14 13:11:36,976 : INFO : EPOCH 13 - PROGRESS: at 80.57% examples, 461710 words/s, in_qsize 15, out_qsize 0\n",
            "2020-10-14 13:11:37,996 : INFO : EPOCH 13 - PROGRESS: at 85.66% examples, 458723 words/s, in_qsize 15, out_qsize 0\n",
            "2020-10-14 13:11:39,004 : INFO : EPOCH 13 - PROGRESS: at 90.98% examples, 456902 words/s, in_qsize 15, out_qsize 6\n",
            "2020-10-14 13:11:40,064 : INFO : EPOCH 13 - PROGRESS: at 97.18% examples, 458086 words/s, in_qsize 15, out_qsize 0\n",
            "2020-10-14 13:11:40,402 : INFO : worker thread finished; awaiting finish of 7 more threads\n",
            "2020-10-14 13:11:40,404 : INFO : worker thread finished; awaiting finish of 6 more threads\n",
            "2020-10-14 13:11:40,405 : INFO : worker thread finished; awaiting finish of 5 more threads\n",
            "2020-10-14 13:11:40,406 : INFO : worker thread finished; awaiting finish of 4 more threads\n",
            "2020-10-14 13:11:40,407 : INFO : worker thread finished; awaiting finish of 3 more threads\n",
            "2020-10-14 13:11:40,413 : INFO : worker thread finished; awaiting finish of 2 more threads\n",
            "2020-10-14 13:11:40,423 : INFO : worker thread finished; awaiting finish of 1 more threads\n",
            "2020-10-14 13:11:40,432 : INFO : worker thread finished; awaiting finish of 0 more threads\n",
            "2020-10-14 13:11:40,433 : INFO : EPOCH - 13 : training on 9227204 raw words (8222318 effective words) took 17.8s, 461661 effective words/s\n",
            "2020-10-14 13:11:41,468 : INFO : EPOCH 14 - PROGRESS: at 5.21% examples, 417235 words/s, in_qsize 15, out_qsize 0\n",
            "2020-10-14 13:11:42,468 : INFO : EPOCH 14 - PROGRESS: at 11.30% examples, 457660 words/s, in_qsize 16, out_qsize 1\n",
            "2020-10-14 13:11:43,479 : INFO : EPOCH 14 - PROGRESS: at 16.81% examples, 454945 words/s, in_qsize 15, out_qsize 0\n",
            "2020-10-14 13:11:44,513 : INFO : EPOCH 14 - PROGRESS: at 22.54% examples, 455407 words/s, in_qsize 13, out_qsize 2\n",
            "2020-10-14 13:11:45,573 : INFO : EPOCH 14 - PROGRESS: at 28.50% examples, 456899 words/s, in_qsize 16, out_qsize 1\n",
            "2020-10-14 13:11:46,590 : INFO : EPOCH 14 - PROGRESS: at 34.78% examples, 465416 words/s, in_qsize 16, out_qsize 0\n",
            "2020-10-14 13:11:47,608 : INFO : EPOCH 14 - PROGRESS: at 40.19% examples, 461375 words/s, in_qsize 15, out_qsize 0\n",
            "2020-10-14 13:11:48,617 : INFO : EPOCH 14 - PROGRESS: at 45.92% examples, 462143 words/s, in_qsize 14, out_qsize 3\n",
            "2020-10-14 13:11:49,625 : INFO : EPOCH 14 - PROGRESS: at 51.97% examples, 465794 words/s, in_qsize 16, out_qsize 1\n",
            "2020-10-14 13:11:50,637 : INFO : EPOCH 14 - PROGRESS: at 57.60% examples, 465002 words/s, in_qsize 16, out_qsize 2\n",
            "2020-10-14 13:11:51,652 : INFO : EPOCH 14 - PROGRESS: at 63.33% examples, 464999 words/s, in_qsize 14, out_qsize 2\n",
            "2020-10-14 13:11:52,665 : INFO : EPOCH 14 - PROGRESS: at 69.40% examples, 467269 words/s, in_qsize 15, out_qsize 0\n",
            "2020-10-14 13:11:53,735 : INFO : EPOCH 14 - PROGRESS: at 75.57% examples, 467840 words/s, in_qsize 15, out_qsize 0\n",
            "2020-10-14 13:11:54,774 : INFO : EPOCH 14 - PROGRESS: at 81.67% examples, 468738 words/s, in_qsize 15, out_qsize 0\n",
            "2020-10-14 13:11:55,855 : INFO : EPOCH 14 - PROGRESS: at 87.61% examples, 467648 words/s, in_qsize 15, out_qsize 0\n",
            "2020-10-14 13:11:56,862 : INFO : EPOCH 14 - PROGRESS: at 93.60% examples, 468768 words/s, in_qsize 15, out_qsize 0\n",
            "2020-10-14 13:11:57,831 : INFO : worker thread finished; awaiting finish of 7 more threads\n",
            "2020-10-14 13:11:57,832 : INFO : worker thread finished; awaiting finish of 6 more threads\n",
            "2020-10-14 13:11:57,835 : INFO : worker thread finished; awaiting finish of 5 more threads\n",
            "2020-10-14 13:11:57,840 : INFO : worker thread finished; awaiting finish of 4 more threads\n",
            "2020-10-14 13:11:57,862 : INFO : worker thread finished; awaiting finish of 3 more threads\n",
            "2020-10-14 13:11:57,888 : INFO : EPOCH 14 - PROGRESS: at 99.78% examples, 470366 words/s, in_qsize 2, out_qsize 1\n",
            "2020-10-14 13:11:57,889 : INFO : worker thread finished; awaiting finish of 2 more threads\n",
            "2020-10-14 13:11:57,891 : INFO : worker thread finished; awaiting finish of 1 more threads\n",
            "2020-10-14 13:11:57,898 : INFO : worker thread finished; awaiting finish of 0 more threads\n",
            "2020-10-14 13:11:57,899 : INFO : EPOCH - 14 : training on 9227204 raw words (8223184 effective words) took 17.5s, 471089 effective words/s\n",
            "2020-10-14 13:11:58,939 : INFO : EPOCH 15 - PROGRESS: at 5.11% examples, 405974 words/s, in_qsize 15, out_qsize 0\n",
            "2020-10-14 13:12:00,024 : INFO : EPOCH 15 - PROGRESS: at 11.30% examples, 437953 words/s, in_qsize 11, out_qsize 4\n",
            "2020-10-14 13:12:01,083 : INFO : EPOCH 15 - PROGRESS: at 17.68% examples, 457293 words/s, in_qsize 14, out_qsize 1\n",
            "2020-10-14 13:12:02,093 : INFO : EPOCH 15 - PROGRESS: at 23.63% examples, 464128 words/s, in_qsize 16, out_qsize 0\n",
            "2020-10-14 13:12:03,118 : INFO : EPOCH 15 - PROGRESS: at 29.48% examples, 465173 words/s, in_qsize 10, out_qsize 5\n",
            "2020-10-14 13:12:04,150 : INFO : EPOCH 15 - PROGRESS: at 35.53% examples, 468134 words/s, in_qsize 12, out_qsize 3\n",
            "2020-10-14 13:12:05,173 : INFO : EPOCH 15 - PROGRESS: at 41.48% examples, 469658 words/s, in_qsize 16, out_qsize 0\n",
            "2020-10-14 13:12:06,176 : INFO : EPOCH 15 - PROGRESS: at 47.65% examples, 474088 words/s, in_qsize 15, out_qsize 0\n",
            "2020-10-14 13:12:07,202 : INFO : EPOCH 15 - PROGRESS: at 53.70% examples, 475496 words/s, in_qsize 16, out_qsize 1\n",
            "2020-10-14 13:12:08,203 : INFO : EPOCH 15 - PROGRESS: at 59.34% examples, 474273 words/s, in_qsize 15, out_qsize 0\n",
            "2020-10-14 13:12:09,253 : INFO : EPOCH 15 - PROGRESS: at 65.06% examples, 472027 words/s, in_qsize 15, out_qsize 3\n",
            "2020-10-14 13:12:10,258 : INFO : EPOCH 15 - PROGRESS: at 71.35% examples, 475438 words/s, in_qsize 15, out_qsize 0\n",
            "2020-10-14 13:12:11,330 : INFO : EPOCH 15 - PROGRESS: at 77.63% examples, 475953 words/s, in_qsize 13, out_qsize 2\n",
            "2020-10-14 13:12:12,338 : INFO : EPOCH 15 - PROGRESS: at 83.51% examples, 476096 words/s, in_qsize 15, out_qsize 0\n",
            "2020-10-14 13:12:13,352 : INFO : EPOCH 15 - PROGRESS: at 89.46% examples, 476534 words/s, in_qsize 15, out_qsize 1\n",
            "2020-10-14 13:12:14,388 : INFO : EPOCH 15 - PROGRESS: at 95.66% examples, 477360 words/s, in_qsize 15, out_qsize 0\n",
            "2020-10-14 13:12:14,980 : INFO : worker thread finished; awaiting finish of 7 more threads\n",
            "2020-10-14 13:12:14,997 : INFO : worker thread finished; awaiting finish of 6 more threads\n",
            "2020-10-14 13:12:15,035 : INFO : worker thread finished; awaiting finish of 5 more threads\n",
            "2020-10-14 13:12:15,040 : INFO : worker thread finished; awaiting finish of 4 more threads\n",
            "2020-10-14 13:12:15,048 : INFO : worker thread finished; awaiting finish of 3 more threads\n",
            "2020-10-14 13:12:15,052 : INFO : worker thread finished; awaiting finish of 2 more threads\n",
            "2020-10-14 13:12:15,057 : INFO : worker thread finished; awaiting finish of 1 more threads\n",
            "2020-10-14 13:12:15,062 : INFO : worker thread finished; awaiting finish of 0 more threads\n",
            "2020-10-14 13:12:15,062 : INFO : EPOCH - 15 : training on 9227204 raw words (8224487 effective words) took 17.2s, 479426 effective words/s\n",
            "2020-10-14 13:12:16,087 : INFO : EPOCH 16 - PROGRESS: at 5.21% examples, 422411 words/s, in_qsize 12, out_qsize 3\n",
            "2020-10-14 13:12:17,088 : INFO : EPOCH 16 - PROGRESS: at 11.29% examples, 460516 words/s, in_qsize 14, out_qsize 1\n",
            "2020-10-14 13:12:18,099 : INFO : EPOCH 16 - PROGRESS: at 17.46% examples, 474190 words/s, in_qsize 14, out_qsize 0\n",
            "2020-10-14 13:12:19,113 : INFO : EPOCH 16 - PROGRESS: at 22.98% examples, 467709 words/s, in_qsize 16, out_qsize 1\n",
            "2020-10-14 13:12:20,114 : INFO : EPOCH 16 - PROGRESS: at 28.83% examples, 470261 words/s, in_qsize 16, out_qsize 4\n",
            "2020-10-14 13:12:21,121 : INFO : EPOCH 16 - PROGRESS: at 34.89% examples, 474480 words/s, in_qsize 15, out_qsize 0\n",
            "2020-10-14 13:12:22,139 : INFO : EPOCH 16 - PROGRESS: at 41.05% examples, 477998 words/s, in_qsize 15, out_qsize 0\n",
            "2020-10-14 13:12:23,151 : INFO : EPOCH 16 - PROGRESS: at 46.89% examples, 477636 words/s, in_qsize 15, out_qsize 0\n",
            "2020-10-14 13:12:24,232 : INFO : EPOCH 16 - PROGRESS: at 53.16% examples, 477689 words/s, in_qsize 14, out_qsize 1\n",
            "2020-10-14 13:12:25,249 : INFO : EPOCH 16 - PROGRESS: at 58.58% examples, 473740 words/s, in_qsize 13, out_qsize 2\n",
            "2020-10-14 13:12:26,272 : INFO : EPOCH 16 - PROGRESS: at 64.51% examples, 474194 words/s, in_qsize 15, out_qsize 0\n",
            "2020-10-14 13:12:27,310 : INFO : EPOCH 16 - PROGRESS: at 70.37% examples, 473283 words/s, in_qsize 16, out_qsize 0\n",
            "2020-10-14 13:12:28,356 : INFO : EPOCH 16 - PROGRESS: at 76.22% examples, 472214 words/s, in_qsize 16, out_qsize 3\n",
            "2020-10-14 13:12:29,435 : INFO : EPOCH 16 - PROGRESS: at 82.32% examples, 471471 words/s, in_qsize 14, out_qsize 5\n",
            "2020-10-14 13:12:30,445 : INFO : EPOCH 16 - PROGRESS: at 88.48% examples, 473536 words/s, in_qsize 15, out_qsize 0\n",
            "2020-10-14 13:12:31,484 : INFO : EPOCH 16 - PROGRESS: at 94.47% examples, 473369 words/s, in_qsize 14, out_qsize 2\n",
            "2020-10-14 13:12:32,252 : INFO : worker thread finished; awaiting finish of 7 more threads\n",
            "2020-10-14 13:12:32,262 : INFO : worker thread finished; awaiting finish of 6 more threads\n",
            "2020-10-14 13:12:32,287 : INFO : worker thread finished; awaiting finish of 5 more threads\n",
            "2020-10-14 13:12:32,308 : INFO : worker thread finished; awaiting finish of 4 more threads\n",
            "2020-10-14 13:12:32,311 : INFO : worker thread finished; awaiting finish of 3 more threads\n",
            "2020-10-14 13:12:32,314 : INFO : worker thread finished; awaiting finish of 2 more threads\n",
            "2020-10-14 13:12:32,320 : INFO : worker thread finished; awaiting finish of 1 more threads\n",
            "2020-10-14 13:12:32,323 : INFO : worker thread finished; awaiting finish of 0 more threads\n",
            "2020-10-14 13:12:32,324 : INFO : EPOCH - 16 : training on 9227204 raw words (8223022 effective words) took 17.2s, 476728 effective words/s\n",
            "2020-10-14 13:12:33,370 : INFO : EPOCH 17 - PROGRESS: at 5.33% examples, 421997 words/s, in_qsize 15, out_qsize 1\n",
            "2020-10-14 13:12:34,414 : INFO : EPOCH 17 - PROGRESS: at 10.86% examples, 430742 words/s, in_qsize 15, out_qsize 1\n",
            "2020-10-14 13:12:35,411 : INFO : EPOCH 17 - PROGRESS: at 16.70% examples, 446104 words/s, in_qsize 15, out_qsize 0\n",
            "2020-10-14 13:12:36,421 : INFO : EPOCH 17 - PROGRESS: at 22.76% examples, 458047 words/s, in_qsize 15, out_qsize 0\n",
            "2020-10-14 13:12:37,481 : INFO : EPOCH 17 - PROGRESS: at 27.96% examples, 446741 words/s, in_qsize 15, out_qsize 0\n",
            "2020-10-14 13:12:38,559 : INFO : EPOCH 17 - PROGRESS: at 34.24% examples, 452390 words/s, in_qsize 15, out_qsize 0\n",
            "2020-10-14 13:12:39,572 : INFO : EPOCH 17 - PROGRESS: at 39.86% examples, 453052 words/s, in_qsize 16, out_qsize 0\n",
            "2020-10-14 13:12:40,575 : INFO : EPOCH 17 - PROGRESS: at 45.92% examples, 458396 words/s, in_qsize 15, out_qsize 0\n",
            "2020-10-14 13:12:41,607 : INFO : EPOCH 17 - PROGRESS: at 51.86% examples, 460256 words/s, in_qsize 14, out_qsize 1\n",
            "2020-10-14 13:12:42,608 : INFO : EPOCH 17 - PROGRESS: at 57.60% examples, 461377 words/s, in_qsize 15, out_qsize 0\n",
            "2020-10-14 13:12:43,615 : INFO : EPOCH 17 - PROGRESS: at 63.86% examples, 466010 words/s, in_qsize 15, out_qsize 0\n",
            "2020-10-14 13:12:44,656 : INFO : EPOCH 17 - PROGRESS: at 69.94% examples, 467112 words/s, in_qsize 16, out_qsize 0\n",
            "2020-10-14 13:12:45,682 : INFO : EPOCH 17 - PROGRESS: at 75.67% examples, 466541 words/s, in_qsize 15, out_qsize 0\n",
            "2020-10-14 13:12:46,717 : INFO : EPOCH 17 - PROGRESS: at 81.45% examples, 465810 words/s, in_qsize 15, out_qsize 0\n",
            "2020-10-14 13:12:47,742 : INFO : EPOCH 17 - PROGRESS: at 87.29% examples, 466036 words/s, in_qsize 15, out_qsize 0\n",
            "2020-10-14 13:12:48,748 : INFO : EPOCH 17 - PROGRESS: at 93.05% examples, 466215 words/s, in_qsize 14, out_qsize 1\n",
            "2020-10-14 13:12:49,761 : INFO : EPOCH 17 - PROGRESS: at 98.79% examples, 466206 words/s, in_qsize 7, out_qsize 6\n",
            "2020-10-14 13:12:49,763 : INFO : worker thread finished; awaiting finish of 7 more threads\n",
            "2020-10-14 13:12:49,764 : INFO : worker thread finished; awaiting finish of 6 more threads\n",
            "2020-10-14 13:12:49,784 : INFO : worker thread finished; awaiting finish of 5 more threads\n",
            "2020-10-14 13:12:49,789 : INFO : worker thread finished; awaiting finish of 4 more threads\n",
            "2020-10-14 13:12:49,839 : INFO : worker thread finished; awaiting finish of 3 more threads\n",
            "2020-10-14 13:12:49,840 : INFO : worker thread finished; awaiting finish of 2 more threads\n",
            "2020-10-14 13:12:49,846 : INFO : worker thread finished; awaiting finish of 1 more threads\n",
            "2020-10-14 13:12:49,848 : INFO : worker thread finished; awaiting finish of 0 more threads\n",
            "2020-10-14 13:12:49,848 : INFO : EPOCH - 17 : training on 9227204 raw words (8222708 effective words) took 17.5s, 469530 effective words/s\n",
            "2020-10-14 13:12:50,920 : INFO : EPOCH 18 - PROGRESS: at 5.43% examples, 420504 words/s, in_qsize 15, out_qsize 0\n",
            "2020-10-14 13:12:51,920 : INFO : EPOCH 18 - PROGRESS: at 11.19% examples, 445731 words/s, in_qsize 14, out_qsize 1\n",
            "2020-10-14 13:12:52,938 : INFO : EPOCH 18 - PROGRESS: at 16.92% examples, 451628 words/s, in_qsize 12, out_qsize 3\n",
            "2020-10-14 13:12:54,007 : INFO : EPOCH 18 - PROGRESS: at 23.20% examples, 459808 words/s, in_qsize 13, out_qsize 2\n",
            "2020-10-14 13:12:55,021 : INFO : EPOCH 18 - PROGRESS: at 29.37% examples, 467887 words/s, in_qsize 15, out_qsize 0\n",
            "2020-10-14 13:12:56,033 : INFO : EPOCH 18 - PROGRESS: at 35.00% examples, 466216 words/s, in_qsize 15, out_qsize 0\n",
            "2020-10-14 13:12:57,044 : INFO : EPOCH 18 - PROGRESS: at 40.51% examples, 463831 words/s, in_qsize 15, out_qsize 0\n",
            "2020-10-14 13:12:58,083 : INFO : EPOCH 18 - PROGRESS: at 46.56% examples, 465863 words/s, in_qsize 15, out_qsize 0\n",
            "2020-10-14 13:12:59,147 : INFO : EPOCH 18 - PROGRESS: at 52.62% examples, 466281 words/s, in_qsize 15, out_qsize 0\n",
            "2020-10-14 13:13:00,164 : INFO : EPOCH 18 - PROGRESS: at 58.69% examples, 468688 words/s, in_qsize 15, out_qsize 0\n",
            "2020-10-14 13:13:01,187 : INFO : EPOCH 18 - PROGRESS: at 64.95% examples, 471964 words/s, in_qsize 15, out_qsize 0\n",
            "2020-10-14 13:13:02,189 : INFO : EPOCH 18 - PROGRESS: at 70.69% examples, 471897 words/s, in_qsize 14, out_qsize 1\n",
            "2020-10-14 13:13:03,192 : INFO : EPOCH 18 - PROGRESS: at 76.66% examples, 473109 words/s, in_qsize 15, out_qsize 0\n",
            "2020-10-14 13:13:04,195 : INFO : EPOCH 18 - PROGRESS: at 82.42% examples, 472971 words/s, in_qsize 14, out_qsize 0\n",
            "2020-10-14 13:13:05,284 : INFO : EPOCH 18 - PROGRESS: at 88.48% examples, 472809 words/s, in_qsize 15, out_qsize 4\n",
            "2020-10-14 13:13:06,271 : INFO : EPOCH 18 - PROGRESS: at 94.36% examples, 472782 words/s, in_qsize 14, out_qsize 1\n",
            "2020-10-14 13:13:07,058 : INFO : worker thread finished; awaiting finish of 7 more threads\n",
            "2020-10-14 13:13:07,065 : INFO : worker thread finished; awaiting finish of 6 more threads\n",
            "2020-10-14 13:13:07,072 : INFO : worker thread finished; awaiting finish of 5 more threads\n",
            "2020-10-14 13:13:07,087 : INFO : worker thread finished; awaiting finish of 4 more threads\n",
            "2020-10-14 13:13:07,128 : INFO : worker thread finished; awaiting finish of 3 more threads\n",
            "2020-10-14 13:13:07,129 : INFO : worker thread finished; awaiting finish of 2 more threads\n",
            "2020-10-14 13:13:07,131 : INFO : worker thread finished; awaiting finish of 1 more threads\n",
            "2020-10-14 13:13:07,137 : INFO : worker thread finished; awaiting finish of 0 more threads\n",
            "2020-10-14 13:13:07,138 : INFO : EPOCH - 18 : training on 9227204 raw words (8222868 effective words) took 17.3s, 475937 effective words/s\n",
            "2020-10-14 13:13:08,172 : INFO : EPOCH 19 - PROGRESS: at 5.32% examples, 426721 words/s, in_qsize 16, out_qsize 0\n",
            "2020-10-14 13:13:09,202 : INFO : EPOCH 19 - PROGRESS: at 11.08% examples, 442645 words/s, in_qsize 15, out_qsize 3\n",
            "2020-10-14 13:13:10,213 : INFO : EPOCH 19 - PROGRESS: at 16.92% examples, 453497 words/s, in_qsize 16, out_qsize 4\n",
            "2020-10-14 13:13:11,241 : INFO : EPOCH 19 - PROGRESS: at 22.98% examples, 461471 words/s, in_qsize 13, out_qsize 2\n",
            "2020-10-14 13:13:12,261 : INFO : EPOCH 19 - PROGRESS: at 29.16% examples, 468854 words/s, in_qsize 15, out_qsize 0\n",
            "2020-10-14 13:13:13,274 : INFO : EPOCH 19 - PROGRESS: at 35.32% examples, 474169 words/s, in_qsize 15, out_qsize 0\n",
            "2020-10-14 13:13:14,315 : INFO : EPOCH 19 - PROGRESS: at 41.05% examples, 471109 words/s, in_qsize 14, out_qsize 2\n",
            "2020-10-14 13:13:15,343 : INFO : EPOCH 19 - PROGRESS: at 47.00% examples, 471799 words/s, in_qsize 15, out_qsize 0\n",
            "2020-10-14 13:13:16,355 : INFO : EPOCH 19 - PROGRESS: at 53.05% examples, 474140 words/s, in_qsize 15, out_qsize 0\n",
            "2020-10-14 13:13:17,404 : INFO : EPOCH 19 - PROGRESS: at 59.23% examples, 475206 words/s, in_qsize 15, out_qsize 0\n",
            "2020-10-14 13:13:18,417 : INFO : EPOCH 19 - PROGRESS: at 64.73% examples, 472835 words/s, in_qsize 16, out_qsize 6\n",
            "2020-10-14 13:13:19,461 : INFO : EPOCH 19 - PROGRESS: at 71.24% examples, 476156 words/s, in_qsize 15, out_qsize 0\n",
            "2020-10-14 13:13:20,518 : INFO : EPOCH 19 - PROGRESS: at 77.53% examples, 477125 words/s, in_qsize 15, out_qsize 0\n",
            "2020-10-14 13:13:21,519 : INFO : EPOCH 19 - PROGRESS: at 83.29% examples, 476757 words/s, in_qsize 13, out_qsize 2\n",
            "2020-10-14 13:13:22,570 : INFO : EPOCH 19 - PROGRESS: at 89.45% examples, 477812 words/s, in_qsize 15, out_qsize 1\n",
            "2020-10-14 13:13:23,564 : INFO : EPOCH 19 - PROGRESS: at 95.45% examples, 478126 words/s, in_qsize 16, out_qsize 0\n",
            "2020-10-14 13:13:24,160 : INFO : worker thread finished; awaiting finish of 7 more threads\n",
            "2020-10-14 13:13:24,185 : INFO : worker thread finished; awaiting finish of 6 more threads\n",
            "2020-10-14 13:13:24,197 : INFO : worker thread finished; awaiting finish of 5 more threads\n",
            "2020-10-14 13:13:24,229 : INFO : worker thread finished; awaiting finish of 4 more threads\n",
            "2020-10-14 13:13:24,250 : INFO : worker thread finished; awaiting finish of 3 more threads\n",
            "2020-10-14 13:13:24,251 : INFO : worker thread finished; awaiting finish of 2 more threads\n",
            "2020-10-14 13:13:24,252 : INFO : worker thread finished; awaiting finish of 1 more threads\n",
            "2020-10-14 13:13:24,253 : INFO : worker thread finished; awaiting finish of 0 more threads\n",
            "2020-10-14 13:13:24,254 : INFO : EPOCH - 19 : training on 9227204 raw words (8223408 effective words) took 17.1s, 480767 effective words/s\n",
            "2020-10-14 13:13:25,317 : INFO : EPOCH 20 - PROGRESS: at 5.54% examples, 432444 words/s, in_qsize 13, out_qsize 2\n",
            "2020-10-14 13:13:26,363 : INFO : EPOCH 20 - PROGRESS: at 11.62% examples, 454863 words/s, in_qsize 14, out_qsize 1\n",
            "2020-10-14 13:13:27,413 : INFO : EPOCH 20 - PROGRESS: at 18.11% examples, 472839 words/s, in_qsize 15, out_qsize 0\n",
            "2020-10-14 13:13:28,457 : INFO : EPOCH 20 - PROGRESS: at 23.96% examples, 469940 words/s, in_qsize 15, out_qsize 0\n",
            "2020-10-14 13:13:29,504 : INFO : EPOCH 20 - PROGRESS: at 30.13% examples, 472999 words/s, in_qsize 15, out_qsize 0\n",
            "2020-10-14 13:13:30,543 : INFO : EPOCH 20 - PROGRESS: at 36.08% examples, 472735 words/s, in_qsize 15, out_qsize 0\n",
            "2020-10-14 13:13:31,554 : INFO : EPOCH 20 - PROGRESS: at 42.35% examples, 478005 words/s, in_qsize 15, out_qsize 0\n",
            "2020-10-14 13:13:32,573 : INFO : EPOCH 20 - PROGRESS: at 47.75% examples, 473017 words/s, in_qsize 14, out_qsize 1\n",
            "2020-10-14 13:13:33,573 : INFO : EPOCH 20 - PROGRESS: at 53.81% examples, 475824 words/s, in_qsize 15, out_qsize 2\n",
            "2020-10-14 13:13:34,593 : INFO : EPOCH 20 - PROGRESS: at 59.55% examples, 474582 words/s, in_qsize 15, out_qsize 0\n",
            "2020-10-14 13:13:35,622 : INFO : EPOCH 20 - PROGRESS: at 65.27% examples, 473129 words/s, in_qsize 16, out_qsize 4\n",
            "2020-10-14 13:13:36,629 : INFO : EPOCH 20 - PROGRESS: at 71.24% examples, 474237 words/s, in_qsize 15, out_qsize 5\n",
            "2020-10-14 13:13:37,635 : INFO : EPOCH 20 - PROGRESS: at 77.09% examples, 474515 words/s, in_qsize 15, out_qsize 0\n",
            "2020-10-14 13:13:38,714 : INFO : EPOCH 20 - PROGRESS: at 83.29% examples, 474227 words/s, in_qsize 15, out_qsize 0\n",
            "2020-10-14 13:13:39,805 : INFO : EPOCH 20 - PROGRESS: at 89.34% examples, 473012 words/s, in_qsize 15, out_qsize 0\n",
            "2020-10-14 13:13:40,812 : INFO : EPOCH 20 - PROGRESS: at 95.12% examples, 472751 words/s, in_qsize 15, out_qsize 4\n",
            "2020-10-14 13:13:41,472 : INFO : worker thread finished; awaiting finish of 7 more threads\n",
            "2020-10-14 13:13:41,475 : INFO : worker thread finished; awaiting finish of 6 more threads\n",
            "2020-10-14 13:13:41,476 : INFO : worker thread finished; awaiting finish of 5 more threads\n",
            "2020-10-14 13:13:41,495 : INFO : worker thread finished; awaiting finish of 4 more threads\n",
            "2020-10-14 13:13:41,496 : INFO : worker thread finished; awaiting finish of 3 more threads\n",
            "2020-10-14 13:13:41,524 : INFO : worker thread finished; awaiting finish of 2 more threads\n",
            "2020-10-14 13:13:41,525 : INFO : worker thread finished; awaiting finish of 1 more threads\n",
            "2020-10-14 13:13:41,535 : INFO : worker thread finished; awaiting finish of 0 more threads\n",
            "2020-10-14 13:13:41,535 : INFO : EPOCH - 20 : training on 9227204 raw words (8223174 effective words) took 17.3s, 476210 effective words/s\n",
            "2020-10-14 13:13:42,555 : INFO : EPOCH 21 - PROGRESS: at 5.43% examples, 441357 words/s, in_qsize 15, out_qsize 0\n",
            "2020-10-14 13:13:43,565 : INFO : EPOCH 21 - PROGRESS: at 10.97% examples, 445787 words/s, in_qsize 15, out_qsize 0\n",
            "2020-10-14 13:13:44,614 : INFO : EPOCH 21 - PROGRESS: at 16.81% examples, 450082 words/s, in_qsize 15, out_qsize 1\n",
            "2020-10-14 13:13:45,615 : INFO : EPOCH 21 - PROGRESS: at 22.65% examples, 457655 words/s, in_qsize 16, out_qsize 0\n",
            "2020-10-14 13:13:46,624 : INFO : EPOCH 21 - PROGRESS: at 28.40% examples, 459687 words/s, in_qsize 16, out_qsize 0\n",
            "2020-10-14 13:13:47,682 : INFO : EPOCH 21 - PROGRESS: at 34.35% examples, 460247 words/s, in_qsize 11, out_qsize 4\n",
            "2020-10-14 13:13:48,743 : INFO : EPOCH 21 - PROGRESS: at 40.30% examples, 460436 words/s, in_qsize 12, out_qsize 4\n",
            "2020-10-14 13:13:49,750 : INFO : EPOCH 21 - PROGRESS: at 46.24% examples, 463627 words/s, in_qsize 14, out_qsize 1\n",
            "2020-10-14 13:13:50,751 : INFO : EPOCH 21 - PROGRESS: at 51.97% examples, 464559 words/s, in_qsize 16, out_qsize 0\n",
            "2020-10-14 13:13:51,833 : INFO : EPOCH 21 - PROGRESS: at 58.14% examples, 465801 words/s, in_qsize 15, out_qsize 1\n",
            "2020-10-14 13:13:52,825 : INFO : EPOCH 21 - PROGRESS: at 63.75% examples, 465247 words/s, in_qsize 16, out_qsize 2\n",
            "2020-10-14 13:13:53,827 : INFO : EPOCH 21 - PROGRESS: at 69.61% examples, 466495 words/s, in_qsize 13, out_qsize 6\n",
            "2020-10-14 13:13:54,841 : INFO : EPOCH 21 - PROGRESS: at 75.67% examples, 468370 words/s, in_qsize 15, out_qsize 0\n",
            "2020-10-14 13:13:55,913 : INFO : EPOCH 21 - PROGRESS: at 81.56% examples, 466913 words/s, in_qsize 16, out_qsize 2\n",
            "2020-10-14 13:13:56,946 : INFO : EPOCH 21 - PROGRESS: at 87.72% examples, 468562 words/s, in_qsize 15, out_qsize 0\n",
            "2020-10-14 13:13:58,078 : INFO : EPOCH 21 - PROGRESS: at 93.81% examples, 467215 words/s, in_qsize 15, out_qsize 4\n",
            "2020-10-14 13:13:58,937 : INFO : worker thread finished; awaiting finish of 7 more threads\n",
            "2020-10-14 13:13:58,986 : INFO : worker thread finished; awaiting finish of 6 more threads\n",
            "2020-10-14 13:13:58,998 : INFO : worker thread finished; awaiting finish of 5 more threads\n",
            "2020-10-14 13:13:59,011 : INFO : worker thread finished; awaiting finish of 4 more threads\n",
            "2020-10-14 13:13:59,017 : INFO : worker thread finished; awaiting finish of 3 more threads\n",
            "2020-10-14 13:13:59,035 : INFO : worker thread finished; awaiting finish of 2 more threads\n",
            "2020-10-14 13:13:59,039 : INFO : worker thread finished; awaiting finish of 1 more threads\n",
            "2020-10-14 13:13:59,042 : INFO : worker thread finished; awaiting finish of 0 more threads\n",
            "2020-10-14 13:13:59,043 : INFO : EPOCH - 21 : training on 9227204 raw words (8222791 effective words) took 17.5s, 469965 effective words/s\n",
            "2020-10-14 13:14:00,112 : INFO : EPOCH 22 - PROGRESS: at 5.54% examples, 428726 words/s, in_qsize 15, out_qsize 0\n",
            "2020-10-14 13:14:01,142 : INFO : EPOCH 22 - PROGRESS: at 11.29% examples, 443543 words/s, in_qsize 13, out_qsize 2\n",
            "2020-10-14 13:14:02,143 : INFO : EPOCH 22 - PROGRESS: at 17.03% examples, 452435 words/s, in_qsize 14, out_qsize 1\n",
            "2020-10-14 13:14:03,169 : INFO : EPOCH 22 - PROGRESS: at 22.98% examples, 458738 words/s, in_qsize 16, out_qsize 1\n",
            "2020-10-14 13:14:04,187 : INFO : EPOCH 22 - PROGRESS: at 29.16% examples, 466760 words/s, in_qsize 15, out_qsize 0\n",
            "2020-10-14 13:14:05,193 : INFO : EPOCH 22 - PROGRESS: at 34.78% examples, 465711 words/s, in_qsize 14, out_qsize 1\n",
            "2020-10-14 13:14:06,213 : INFO : EPOCH 22 - PROGRESS: at 40.62% examples, 466486 words/s, in_qsize 14, out_qsize 1\n",
            "2020-10-14 13:14:07,283 : INFO : EPOCH 22 - PROGRESS: at 46.46% examples, 464329 words/s, in_qsize 15, out_qsize 0\n",
            "2020-10-14 13:14:08,304 : INFO : EPOCH 22 - PROGRESS: at 52.18% examples, 464107 words/s, in_qsize 15, out_qsize 0\n",
            "2020-10-14 13:14:09,323 : INFO : EPOCH 22 - PROGRESS: at 58.03% examples, 464954 words/s, in_qsize 15, out_qsize 0\n",
            "2020-10-14 13:14:10,349 : INFO : EPOCH 22 - PROGRESS: at 63.43% examples, 462146 words/s, in_qsize 16, out_qsize 1\n",
            "2020-10-14 13:14:11,363 : INFO : EPOCH 22 - PROGRESS: at 69.50% examples, 464624 words/s, in_qsize 16, out_qsize 0\n",
            "2020-10-14 13:14:12,369 : INFO : EPOCH 22 - PROGRESS: at 75.14% examples, 464290 words/s, in_qsize 15, out_qsize 0\n",
            "2020-10-14 13:14:13,374 : INFO : EPOCH 22 - PROGRESS: at 80.90% examples, 464671 words/s, in_qsize 13, out_qsize 2\n",
            "2020-10-14 13:14:14,405 : INFO : EPOCH 22 - PROGRESS: at 86.42% examples, 463044 words/s, in_qsize 14, out_qsize 2\n",
            "2020-10-14 13:14:15,433 : INFO : EPOCH 22 - PROGRESS: at 92.28% examples, 463307 words/s, in_qsize 15, out_qsize 0\n",
            "2020-10-14 13:14:16,442 : INFO : EPOCH 22 - PROGRESS: at 98.04% examples, 463571 words/s, in_qsize 13, out_qsize 2\n",
            "2020-10-14 13:14:16,619 : INFO : worker thread finished; awaiting finish of 7 more threads\n",
            "2020-10-14 13:14:16,623 : INFO : worker thread finished; awaiting finish of 6 more threads\n",
            "2020-10-14 13:14:16,633 : INFO : worker thread finished; awaiting finish of 5 more threads\n",
            "2020-10-14 13:14:16,637 : INFO : worker thread finished; awaiting finish of 4 more threads\n",
            "2020-10-14 13:14:16,667 : INFO : worker thread finished; awaiting finish of 3 more threads\n",
            "2020-10-14 13:14:16,685 : INFO : worker thread finished; awaiting finish of 2 more threads\n",
            "2020-10-14 13:14:16,691 : INFO : worker thread finished; awaiting finish of 1 more threads\n",
            "2020-10-14 13:14:16,699 : INFO : worker thread finished; awaiting finish of 0 more threads\n",
            "2020-10-14 13:14:16,699 : INFO : EPOCH - 22 : training on 9227204 raw words (8222302 effective words) took 17.6s, 465962 effective words/s\n",
            "2020-10-14 13:14:17,712 : INFO : EPOCH 23 - PROGRESS: at 5.32% examples, 435675 words/s, in_qsize 15, out_qsize 0\n",
            "2020-10-14 13:14:18,721 : INFO : EPOCH 23 - PROGRESS: at 10.86% examples, 443172 words/s, in_qsize 16, out_qsize 0\n",
            "2020-10-14 13:14:19,731 : INFO : EPOCH 23 - PROGRESS: at 16.92% examples, 459919 words/s, in_qsize 13, out_qsize 2\n",
            "2020-10-14 13:14:20,767 : INFO : EPOCH 23 - PROGRESS: at 22.87% examples, 463278 words/s, in_qsize 13, out_qsize 0\n",
            "2020-10-14 13:14:21,769 : INFO : EPOCH 23 - PROGRESS: at 28.61% examples, 464901 words/s, in_qsize 16, out_qsize 1\n",
            "2020-10-14 13:14:22,826 : INFO : EPOCH 23 - PROGRESS: at 34.89% examples, 469041 words/s, in_qsize 14, out_qsize 1\n",
            "2020-10-14 13:14:23,868 : INFO : EPOCH 23 - PROGRESS: at 40.94% examples, 470416 words/s, in_qsize 16, out_qsize 0\n",
            "2020-10-14 13:14:24,877 : INFO : EPOCH 23 - PROGRESS: at 46.56% examples, 469015 words/s, in_qsize 16, out_qsize 2\n",
            "2020-10-14 13:14:25,881 : INFO : EPOCH 23 - PROGRESS: at 52.62% examples, 472120 words/s, in_qsize 16, out_qsize 0\n",
            "2020-10-14 13:14:26,912 : INFO : EPOCH 23 - PROGRESS: at 58.47% examples, 471620 words/s, in_qsize 14, out_qsize 1\n",
            "2020-10-14 13:14:27,948 : INFO : EPOCH 23 - PROGRESS: at 64.40% examples, 471748 words/s, in_qsize 15, out_qsize 0\n",
            "2020-10-14 13:14:28,958 : INFO : EPOCH 23 - PROGRESS: at 70.37% examples, 472871 words/s, in_qsize 14, out_qsize 1\n",
            "2020-10-14 13:14:29,968 : INFO : EPOCH 23 - PROGRESS: at 76.22% examples, 473082 words/s, in_qsize 15, out_qsize 0\n",
            "2020-10-14 13:14:30,993 : INFO : EPOCH 23 - PROGRESS: at 82.42% examples, 474689 words/s, in_qsize 16, out_qsize 0\n",
            "2020-10-14 13:14:32,013 : INFO : EPOCH 23 - PROGRESS: at 88.37% examples, 475033 words/s, in_qsize 15, out_qsize 0\n",
            "2020-10-14 13:14:33,032 : INFO : EPOCH 23 - PROGRESS: at 94.03% examples, 473733 words/s, in_qsize 14, out_qsize 1\n",
            "2020-10-14 13:14:33,906 : INFO : worker thread finished; awaiting finish of 7 more threads\n",
            "2020-10-14 13:14:33,915 : INFO : worker thread finished; awaiting finish of 6 more threads\n",
            "2020-10-14 13:14:33,916 : INFO : worker thread finished; awaiting finish of 5 more threads\n",
            "2020-10-14 13:14:33,918 : INFO : worker thread finished; awaiting finish of 4 more threads\n",
            "2020-10-14 13:14:33,922 : INFO : worker thread finished; awaiting finish of 3 more threads\n",
            "2020-10-14 13:14:33,923 : INFO : worker thread finished; awaiting finish of 2 more threads\n",
            "2020-10-14 13:14:33,931 : INFO : worker thread finished; awaiting finish of 1 more threads\n",
            "2020-10-14 13:14:33,938 : INFO : worker thread finished; awaiting finish of 0 more threads\n",
            "2020-10-14 13:14:33,939 : INFO : EPOCH - 23 : training on 9227204 raw words (8223413 effective words) took 17.2s, 477305 effective words/s\n",
            "2020-10-14 13:14:34,987 : INFO : EPOCH 24 - PROGRESS: at 5.43% examples, 429922 words/s, in_qsize 14, out_qsize 3\n",
            "2020-10-14 13:14:36,094 : INFO : EPOCH 24 - PROGRESS: at 11.84% examples, 453382 words/s, in_qsize 16, out_qsize 1\n",
            "2020-10-14 13:14:37,138 : INFO : EPOCH 24 - PROGRESS: at 17.89% examples, 461146 words/s, in_qsize 9, out_qsize 6\n",
            "2020-10-14 13:14:38,211 : INFO : EPOCH 24 - PROGRESS: at 24.39% examples, 470612 words/s, in_qsize 15, out_qsize 0\n",
            "2020-10-14 13:14:39,213 : INFO : EPOCH 24 - PROGRESS: at 30.24% examples, 472407 words/s, in_qsize 15, out_qsize 0\n",
            "2020-10-14 13:14:40,288 : INFO : EPOCH 24 - PROGRESS: at 36.08% examples, 468161 words/s, in_qsize 15, out_qsize 0\n",
            "2020-10-14 13:14:41,290 : INFO : EPOCH 24 - PROGRESS: at 42.03% examples, 470995 words/s, in_qsize 15, out_qsize 0\n",
            "2020-10-14 13:14:42,315 : INFO : EPOCH 24 - PROGRESS: at 47.97% examples, 471866 words/s, in_qsize 15, out_qsize 0\n",
            "2020-10-14 13:14:43,328 : INFO : EPOCH 24 - PROGRESS: at 53.81% examples, 472211 words/s, in_qsize 15, out_qsize 0\n",
            "2020-10-14 13:14:44,339 : INFO : EPOCH 24 - PROGRESS: at 59.66% examples, 472623 words/s, in_qsize 15, out_qsize 0\n",
            "2020-10-14 13:14:45,375 : INFO : EPOCH 24 - PROGRESS: at 65.72% examples, 474152 words/s, in_qsize 15, out_qsize 1\n",
            "2020-10-14 13:14:46,404 : INFO : EPOCH 24 - PROGRESS: at 71.35% examples, 471477 words/s, in_qsize 12, out_qsize 3\n",
            "2020-10-14 13:14:47,404 : INFO : EPOCH 24 - PROGRESS: at 77.53% examples, 474118 words/s, in_qsize 14, out_qsize 1\n",
            "2020-10-14 13:14:48,413 : INFO : EPOCH 24 - PROGRESS: at 83.40% examples, 474323 words/s, in_qsize 16, out_qsize 0\n",
            "2020-10-14 13:14:49,422 : INFO : EPOCH 24 - PROGRESS: at 89.13% examples, 473910 words/s, in_qsize 15, out_qsize 0\n",
            "2020-10-14 13:14:50,433 : INFO : EPOCH 24 - PROGRESS: at 95.12% examples, 474536 words/s, in_qsize 14, out_qsize 1\n",
            "2020-10-14 13:14:51,124 : INFO : worker thread finished; awaiting finish of 7 more threads\n",
            "2020-10-14 13:14:51,125 : INFO : worker thread finished; awaiting finish of 6 more threads\n",
            "2020-10-14 13:14:51,143 : INFO : worker thread finished; awaiting finish of 5 more threads\n",
            "2020-10-14 13:14:51,149 : INFO : worker thread finished; awaiting finish of 4 more threads\n",
            "2020-10-14 13:14:51,153 : INFO : worker thread finished; awaiting finish of 3 more threads\n",
            "2020-10-14 13:14:51,155 : INFO : worker thread finished; awaiting finish of 2 more threads\n",
            "2020-10-14 13:14:51,170 : INFO : worker thread finished; awaiting finish of 1 more threads\n",
            "2020-10-14 13:14:51,181 : INFO : worker thread finished; awaiting finish of 0 more threads\n",
            "2020-10-14 13:14:51,182 : INFO : EPOCH - 24 : training on 9227204 raw words (8223229 effective words) took 17.2s, 477246 effective words/s\n",
            "2020-10-14 13:14:52,219 : INFO : EPOCH 25 - PROGRESS: at 5.32% examples, 424844 words/s, in_qsize 15, out_qsize 0\n",
            "2020-10-14 13:14:53,288 : INFO : EPOCH 25 - PROGRESS: at 11.40% examples, 446464 words/s, in_qsize 14, out_qsize 2\n",
            "2020-10-14 13:14:54,299 : INFO : EPOCH 25 - PROGRESS: at 17.46% examples, 461507 words/s, in_qsize 14, out_qsize 3\n",
            "2020-10-14 13:14:55,308 : INFO : EPOCH 25 - PROGRESS: at 23.42% examples, 467476 words/s, in_qsize 15, out_qsize 0\n",
            "2020-10-14 13:14:56,313 : INFO : EPOCH 25 - PROGRESS: at 29.16% examples, 467962 words/s, in_qsize 15, out_qsize 0\n",
            "2020-10-14 13:14:57,331 : INFO : EPOCH 25 - PROGRESS: at 35.54% examples, 475975 words/s, in_qsize 15, out_qsize 0\n",
            "2020-10-14 13:14:58,436 : INFO : EPOCH 25 - PROGRESS: at 41.59% examples, 472160 words/s, in_qsize 14, out_qsize 1\n",
            "2020-10-14 13:14:59,491 : INFO : EPOCH 25 - PROGRESS: at 47.76% examples, 473375 words/s, in_qsize 15, out_qsize 0\n",
            "2020-10-14 13:15:00,506 : INFO : EPOCH 25 - PROGRESS: at 53.81% examples, 475354 words/s, in_qsize 15, out_qsize 0\n",
            "2020-10-14 13:15:01,510 : INFO : EPOCH 25 - PROGRESS: at 59.87% examples, 477469 words/s, in_qsize 15, out_qsize 0\n",
            "2020-10-14 13:15:02,525 : INFO : EPOCH 25 - PROGRESS: at 65.38% examples, 474801 words/s, in_qsize 15, out_qsize 0\n",
            "2020-10-14 13:15:03,560 : INFO : EPOCH 25 - PROGRESS: at 71.78% examples, 477581 words/s, in_qsize 15, out_qsize 0\n",
            "2020-10-14 13:15:04,566 : INFO : EPOCH 25 - PROGRESS: at 77.42% examples, 476266 words/s, in_qsize 15, out_qsize 0\n",
            "2020-10-14 13:15:05,568 : INFO : EPOCH 25 - PROGRESS: at 83.83% examples, 479643 words/s, in_qsize 15, out_qsize 0\n",
            "2020-10-14 13:15:06,602 : INFO : EPOCH 25 - PROGRESS: at 89.34% examples, 476922 words/s, in_qsize 15, out_qsize 0\n",
            "2020-10-14 13:15:07,612 : INFO : EPOCH 25 - PROGRESS: at 95.34% examples, 477393 words/s, in_qsize 15, out_qsize 0\n",
            "2020-10-14 13:15:08,286 : INFO : worker thread finished; awaiting finish of 7 more threads\n",
            "2020-10-14 13:15:08,289 : INFO : worker thread finished; awaiting finish of 6 more threads\n",
            "2020-10-14 13:15:08,299 : INFO : worker thread finished; awaiting finish of 5 more threads\n",
            "2020-10-14 13:15:08,304 : INFO : worker thread finished; awaiting finish of 4 more threads\n",
            "2020-10-14 13:15:08,328 : INFO : worker thread finished; awaiting finish of 3 more threads\n",
            "2020-10-14 13:15:08,335 : INFO : worker thread finished; awaiting finish of 2 more threads\n",
            "2020-10-14 13:15:08,336 : INFO : worker thread finished; awaiting finish of 1 more threads\n",
            "2020-10-14 13:15:08,338 : INFO : worker thread finished; awaiting finish of 0 more threads\n",
            "2020-10-14 13:15:08,339 : INFO : EPOCH - 25 : training on 9227204 raw words (8222606 effective words) took 17.1s, 479559 effective words/s\n",
            "2020-10-14 13:15:09,368 : INFO : EPOCH 26 - PROGRESS: at 5.32% examples, 428719 words/s, in_qsize 15, out_qsize 0\n",
            "2020-10-14 13:15:10,449 : INFO : EPOCH 26 - PROGRESS: at 11.40% examples, 450137 words/s, in_qsize 15, out_qsize 4\n",
            "2020-10-14 13:15:11,435 : INFO : EPOCH 26 - PROGRESS: at 17.35% examples, 461993 words/s, in_qsize 15, out_qsize 0\n",
            "2020-10-14 13:15:12,484 : INFO : EPOCH 26 - PROGRESS: at 23.52% examples, 467692 words/s, in_qsize 16, out_qsize 0\n",
            "2020-10-14 13:15:13,546 : INFO : EPOCH 26 - PROGRESS: at 29.37% examples, 464667 words/s, in_qsize 14, out_qsize 1\n",
            "2020-10-14 13:15:14,556 : INFO : EPOCH 26 - PROGRESS: at 35.21% examples, 466545 words/s, in_qsize 13, out_qsize 2\n",
            "2020-10-14 13:15:15,625 : INFO : EPOCH 26 - PROGRESS: at 41.26% examples, 466608 words/s, in_qsize 14, out_qsize 1\n",
            "2020-10-14 13:15:16,646 : INFO : EPOCH 26 - PROGRESS: at 47.32% examples, 469298 words/s, in_qsize 15, out_qsize 0\n",
            "2020-10-14 13:15:17,651 : INFO : EPOCH 26 - PROGRESS: at 53.27% examples, 471299 words/s, in_qsize 15, out_qsize 1\n",
            "2020-10-14 13:15:18,664 : INFO : EPOCH 26 - PROGRESS: at 58.68% examples, 468209 words/s, in_qsize 16, out_qsize 1\n",
            "2020-10-14 13:15:19,682 : INFO : EPOCH 26 - PROGRESS: at 64.95% examples, 471732 words/s, in_qsize 15, out_qsize 0\n",
            "2020-10-14 13:15:20,688 : INFO : EPOCH 26 - PROGRESS: at 70.48% examples, 470092 words/s, in_qsize 15, out_qsize 0\n",
            "2020-10-14 13:15:21,696 : INFO : EPOCH 26 - PROGRESS: at 76.33% examples, 470603 words/s, in_qsize 15, out_qsize 0\n",
            "2020-10-14 13:15:22,730 : INFO : EPOCH 26 - PROGRESS: at 82.53% examples, 472069 words/s, in_qsize 14, out_qsize 1\n",
            "2020-10-14 13:15:23,760 : INFO : EPOCH 26 - PROGRESS: at 88.37% examples, 472185 words/s, in_qsize 15, out_qsize 0\n",
            "2020-10-14 13:15:24,808 : INFO : EPOCH 26 - PROGRESS: at 94.58% examples, 472512 words/s, in_qsize 15, out_qsize 0\n",
            "2020-10-14 13:15:25,556 : INFO : worker thread finished; awaiting finish of 7 more threads\n",
            "2020-10-14 13:15:25,558 : INFO : worker thread finished; awaiting finish of 6 more threads\n",
            "2020-10-14 13:15:25,566 : INFO : worker thread finished; awaiting finish of 5 more threads\n",
            "2020-10-14 13:15:25,574 : INFO : worker thread finished; awaiting finish of 4 more threads\n",
            "2020-10-14 13:15:25,606 : INFO : worker thread finished; awaiting finish of 3 more threads\n",
            "2020-10-14 13:15:25,622 : INFO : worker thread finished; awaiting finish of 2 more threads\n",
            "2020-10-14 13:15:25,630 : INFO : worker thread finished; awaiting finish of 1 more threads\n",
            "2020-10-14 13:15:25,635 : INFO : worker thread finished; awaiting finish of 0 more threads\n",
            "2020-10-14 13:15:25,636 : INFO : EPOCH - 26 : training on 9227204 raw words (8222363 effective words) took 17.3s, 475704 effective words/s\n",
            "2020-10-14 13:15:26,719 : INFO : EPOCH 27 - PROGRESS: at 5.54% examples, 425335 words/s, in_qsize 14, out_qsize 1\n",
            "2020-10-14 13:15:27,743 : INFO : EPOCH 27 - PROGRESS: at 12.17% examples, 477146 words/s, in_qsize 15, out_qsize 0\n",
            "2020-10-14 13:15:28,763 : INFO : EPOCH 27 - PROGRESS: at 17.35% examples, 459036 words/s, in_qsize 15, out_qsize 2\n",
            "2020-10-14 13:15:29,861 : INFO : EPOCH 27 - PROGRESS: at 23.63% examples, 461349 words/s, in_qsize 14, out_qsize 1\n",
            "2020-10-14 13:15:30,899 : INFO : EPOCH 27 - PROGRESS: at 29.91% examples, 468555 words/s, in_qsize 15, out_qsize 0\n",
            "2020-10-14 13:15:31,905 : INFO : EPOCH 27 - PROGRESS: at 35.97% examples, 472961 words/s, in_qsize 15, out_qsize 0\n",
            "2020-10-14 13:15:32,908 : INFO : EPOCH 27 - PROGRESS: at 41.48% examples, 470219 words/s, in_qsize 16, out_qsize 0\n",
            "2020-10-14 13:15:33,931 : INFO : EPOCH 27 - PROGRESS: at 47.43% examples, 471265 words/s, in_qsize 16, out_qsize 0\n",
            "2020-10-14 13:15:34,937 : INFO : EPOCH 27 - PROGRESS: at 52.95% examples, 469157 words/s, in_qsize 14, out_qsize 1\n",
            "2020-10-14 13:15:35,976 : INFO : EPOCH 27 - PROGRESS: at 58.90% examples, 469387 words/s, in_qsize 15, out_qsize 0\n",
            "2020-10-14 13:15:36,998 : INFO : EPOCH 27 - PROGRESS: at 64.95% examples, 471049 words/s, in_qsize 15, out_qsize 0\n",
            "2020-10-14 13:15:38,008 : INFO : EPOCH 27 - PROGRESS: at 71.02% examples, 472905 words/s, in_qsize 15, out_qsize 0\n",
            "2020-10-14 13:15:39,036 : INFO : EPOCH 27 - PROGRESS: at 76.43% examples, 469869 words/s, in_qsize 14, out_qsize 1\n",
            "2020-10-14 13:15:40,043 : INFO : EPOCH 27 - PROGRESS: at 82.42% examples, 471003 words/s, in_qsize 15, out_qsize 0\n",
            "2020-10-14 13:15:41,076 : INFO : EPOCH 27 - PROGRESS: at 88.48% examples, 471764 words/s, in_qsize 15, out_qsize 0\n",
            "2020-10-14 13:15:42,109 : INFO : EPOCH 27 - PROGRESS: at 94.68% examples, 472983 words/s, in_qsize 16, out_qsize 0\n",
            "2020-10-14 13:15:42,827 : INFO : worker thread finished; awaiting finish of 7 more threads\n",
            "2020-10-14 13:15:42,856 : INFO : worker thread finished; awaiting finish of 6 more threads\n",
            "2020-10-14 13:15:42,866 : INFO : worker thread finished; awaiting finish of 5 more threads\n",
            "2020-10-14 13:15:42,875 : INFO : worker thread finished; awaiting finish of 4 more threads\n",
            "2020-10-14 13:15:42,879 : INFO : worker thread finished; awaiting finish of 3 more threads\n",
            "2020-10-14 13:15:42,896 : INFO : worker thread finished; awaiting finish of 2 more threads\n",
            "2020-10-14 13:15:42,916 : INFO : worker thread finished; awaiting finish of 1 more threads\n",
            "2020-10-14 13:15:42,917 : INFO : worker thread finished; awaiting finish of 0 more threads\n",
            "2020-10-14 13:15:42,919 : INFO : EPOCH - 27 : training on 9227204 raw words (8221959 effective words) took 17.3s, 476124 effective words/s\n",
            "2020-10-14 13:15:43,950 : INFO : EPOCH 28 - PROGRESS: at 5.65% examples, 454013 words/s, in_qsize 16, out_qsize 0\n",
            "2020-10-14 13:15:44,980 : INFO : EPOCH 28 - PROGRESS: at 11.51% examples, 460805 words/s, in_qsize 16, out_qsize 0\n",
            "2020-10-14 13:15:46,010 : INFO : EPOCH 28 - PROGRESS: at 17.46% examples, 469534 words/s, in_qsize 15, out_qsize 3\n",
            "2020-10-14 13:15:47,008 : INFO : EPOCH 28 - PROGRESS: at 23.31% examples, 469701 words/s, in_qsize 15, out_qsize 0\n",
            "2020-10-14 13:15:48,026 : INFO : EPOCH 28 - PROGRESS: at 29.37% examples, 473717 words/s, in_qsize 15, out_qsize 0\n",
            "2020-10-14 13:15:49,060 : INFO : EPOCH 28 - PROGRESS: at 35.43% examples, 475211 words/s, in_qsize 16, out_qsize 0\n",
            "2020-10-14 13:15:50,093 : INFO : EPOCH 28 - PROGRESS: at 41.48% examples, 476346 words/s, in_qsize 15, out_qsize 0\n",
            "2020-10-14 13:15:51,094 : INFO : EPOCH 28 - PROGRESS: at 47.43% examples, 477946 words/s, in_qsize 16, out_qsize 0\n",
            "2020-10-14 13:15:52,109 : INFO : EPOCH 28 - PROGRESS: at 53.27% examples, 477523 words/s, in_qsize 15, out_qsize 0\n",
            "2020-10-14 13:15:53,168 : INFO : EPOCH 28 - PROGRESS: at 59.44% examples, 477739 words/s, in_qsize 16, out_qsize 0\n",
            "2020-10-14 13:15:54,222 : INFO : EPOCH 28 - PROGRESS: at 65.71% examples, 478880 words/s, in_qsize 15, out_qsize 0\n",
            "2020-10-14 13:15:55,290 : INFO : EPOCH 28 - PROGRESS: at 71.89% examples, 478574 words/s, in_qsize 15, out_qsize 0\n",
            "2020-10-14 13:15:56,296 : INFO : EPOCH 28 - PROGRESS: at 77.63% examples, 477866 words/s, in_qsize 12, out_qsize 3\n",
            "2020-10-14 13:15:57,332 : INFO : EPOCH 28 - PROGRESS: at 83.83% examples, 478750 words/s, in_qsize 15, out_qsize 0\n",
            "2020-10-14 13:15:58,340 : INFO : EPOCH 28 - PROGRESS: at 89.67% examples, 478641 words/s, in_qsize 14, out_qsize 1\n",
            "2020-10-14 13:15:59,341 : INFO : EPOCH 28 - PROGRESS: at 95.99% examples, 480891 words/s, in_qsize 14, out_qsize 0\n",
            "2020-10-14 13:15:59,927 : INFO : worker thread finished; awaiting finish of 7 more threads\n",
            "2020-10-14 13:15:59,932 : INFO : worker thread finished; awaiting finish of 6 more threads\n",
            "2020-10-14 13:15:59,958 : INFO : worker thread finished; awaiting finish of 5 more threads\n",
            "2020-10-14 13:15:59,962 : INFO : worker thread finished; awaiting finish of 4 more threads\n",
            "2020-10-14 13:15:59,975 : INFO : worker thread finished; awaiting finish of 3 more threads\n",
            "2020-10-14 13:15:59,983 : INFO : worker thread finished; awaiting finish of 2 more threads\n",
            "2020-10-14 13:15:59,989 : INFO : worker thread finished; awaiting finish of 1 more threads\n",
            "2020-10-14 13:15:59,990 : INFO : worker thread finished; awaiting finish of 0 more threads\n",
            "2020-10-14 13:15:59,991 : INFO : EPOCH - 28 : training on 9227204 raw words (8222095 effective words) took 17.1s, 481928 effective words/s\n",
            "2020-10-14 13:16:01,020 : INFO : EPOCH 29 - PROGRESS: at 5.22% examples, 420421 words/s, in_qsize 15, out_qsize 0\n",
            "2020-10-14 13:16:02,026 : INFO : EPOCH 29 - PROGRESS: at 11.30% examples, 458190 words/s, in_qsize 16, out_qsize 2\n",
            "2020-10-14 13:16:03,046 : INFO : EPOCH 29 - PROGRESS: at 16.92% examples, 456618 words/s, in_qsize 15, out_qsize 6\n",
            "2020-10-14 13:16:04,063 : INFO : EPOCH 29 - PROGRESS: at 23.42% examples, 473979 words/s, in_qsize 15, out_qsize 0\n",
            "2020-10-14 13:16:05,063 : INFO : EPOCH 29 - PROGRESS: at 29.05% examples, 471838 words/s, in_qsize 15, out_qsize 0\n",
            "2020-10-14 13:16:06,085 : INFO : EPOCH 29 - PROGRESS: at 34.78% examples, 470186 words/s, in_qsize 15, out_qsize 0\n",
            "2020-10-14 13:16:07,088 : INFO : EPOCH 29 - PROGRESS: at 40.40% examples, 469023 words/s, in_qsize 15, out_qsize 0\n",
            "2020-10-14 13:16:08,128 : INFO : EPOCH 29 - PROGRESS: at 46.46% examples, 470954 words/s, in_qsize 15, out_qsize 1\n",
            "2020-10-14 13:16:09,146 : INFO : EPOCH 29 - PROGRESS: at 52.18% examples, 469703 words/s, in_qsize 11, out_qsize 4\n",
            "2020-10-14 13:16:10,148 : INFO : EPOCH 29 - PROGRESS: at 58.14% examples, 471637 words/s, in_qsize 15, out_qsize 0\n",
            "2020-10-14 13:16:11,201 : INFO : EPOCH 29 - PROGRESS: at 64.19% examples, 471835 words/s, in_qsize 15, out_qsize 0\n",
            "2020-10-14 13:16:12,220 : INFO : EPOCH 29 - PROGRESS: at 70.27% examples, 473307 words/s, in_qsize 15, out_qsize 0\n",
            "2020-10-14 13:16:13,284 : INFO : EPOCH 29 - PROGRESS: at 76.33% examples, 472913 words/s, in_qsize 16, out_qsize 2\n",
            "2020-10-14 13:16:14,350 : INFO : EPOCH 29 - PROGRESS: at 82.64% examples, 474029 words/s, in_qsize 15, out_qsize 1\n",
            "2020-10-14 13:16:15,350 : INFO : EPOCH 29 - PROGRESS: at 88.16% examples, 472501 words/s, in_qsize 12, out_qsize 3\n",
            "2020-10-14 13:16:16,370 : INFO : EPOCH 29 - PROGRESS: at 94.03% examples, 472407 words/s, in_qsize 14, out_qsize 3\n",
            "2020-10-14 13:16:17,177 : INFO : worker thread finished; awaiting finish of 7 more threads\n",
            "2020-10-14 13:16:17,187 : INFO : worker thread finished; awaiting finish of 6 more threads\n",
            "2020-10-14 13:16:17,213 : INFO : worker thread finished; awaiting finish of 5 more threads\n",
            "2020-10-14 13:16:17,243 : INFO : worker thread finished; awaiting finish of 4 more threads\n",
            "2020-10-14 13:16:17,247 : INFO : worker thread finished; awaiting finish of 3 more threads\n",
            "2020-10-14 13:16:17,275 : INFO : worker thread finished; awaiting finish of 2 more threads\n",
            "2020-10-14 13:16:17,279 : INFO : worker thread finished; awaiting finish of 1 more threads\n",
            "2020-10-14 13:16:17,281 : INFO : worker thread finished; awaiting finish of 0 more threads\n",
            "2020-10-14 13:16:17,282 : INFO : EPOCH - 29 : training on 9227204 raw words (8222453 effective words) took 17.3s, 475888 effective words/s\n",
            "2020-10-14 13:16:18,302 : INFO : EPOCH 30 - PROGRESS: at 5.32% examples, 432826 words/s, in_qsize 15, out_qsize 0\n",
            "2020-10-14 13:16:19,313 : INFO : EPOCH 30 - PROGRESS: at 11.19% examples, 455535 words/s, in_qsize 15, out_qsize 3\n",
            "2020-10-14 13:16:20,319 : INFO : EPOCH 30 - PROGRESS: at 17.03% examples, 463389 words/s, in_qsize 15, out_qsize 3\n",
            "2020-10-14 13:16:21,314 : INFO : EPOCH 30 - PROGRESS: at 22.98% examples, 469873 words/s, in_qsize 16, out_qsize 0\n",
            "2020-10-14 13:16:22,341 : INFO : EPOCH 30 - PROGRESS: at 28.83% examples, 469561 words/s, in_qsize 15, out_qsize 0\n",
            "2020-10-14 13:16:23,349 : INFO : EPOCH 30 - PROGRESS: at 34.68% examples, 470865 words/s, in_qsize 16, out_qsize 0\n",
            "2020-10-14 13:16:24,361 : INFO : EPOCH 30 - PROGRESS: at 40.62% examples, 472745 words/s, in_qsize 15, out_qsize 0\n",
            "2020-10-14 13:16:25,375 : INFO : EPOCH 30 - PROGRESS: at 46.57% examples, 474164 words/s, in_qsize 14, out_qsize 1\n",
            "2020-10-14 13:16:26,397 : INFO : EPOCH 30 - PROGRESS: at 52.40% examples, 473718 words/s, in_qsize 15, out_qsize 0\n",
            "2020-10-14 13:16:27,412 : INFO : EPOCH 30 - PROGRESS: at 58.26% examples, 473781 words/s, in_qsize 16, out_qsize 1\n",
            "2020-10-14 13:16:28,468 : INFO : EPOCH 30 - PROGRESS: at 64.30% examples, 473639 words/s, in_qsize 15, out_qsize 0\n",
            "2020-10-14 13:16:29,490 : INFO : EPOCH 30 - PROGRESS: at 70.48% examples, 475581 words/s, in_qsize 15, out_qsize 0\n",
            "2020-10-14 13:16:30,556 : INFO : EPOCH 30 - PROGRESS: at 76.33% examples, 473595 words/s, in_qsize 13, out_qsize 2\n",
            "2020-10-14 13:16:31,600 : INFO : EPOCH 30 - PROGRESS: at 82.42% examples, 473941 words/s, in_qsize 15, out_qsize 0\n",
            "2020-10-14 13:16:32,648 : INFO : EPOCH 30 - PROGRESS: at 88.70% examples, 475242 words/s, in_qsize 15, out_qsize 0\n",
            "2020-10-14 13:16:33,657 : INFO : EPOCH 30 - PROGRESS: at 95.01% examples, 477468 words/s, in_qsize 15, out_qsize 0\n",
            "2020-10-14 13:16:34,393 : INFO : worker thread finished; awaiting finish of 7 more threads\n",
            "2020-10-14 13:16:34,403 : INFO : worker thread finished; awaiting finish of 6 more threads\n",
            "2020-10-14 13:16:34,452 : INFO : worker thread finished; awaiting finish of 5 more threads\n",
            "2020-10-14 13:16:34,473 : INFO : worker thread finished; awaiting finish of 4 more threads\n",
            "2020-10-14 13:16:34,474 : INFO : worker thread finished; awaiting finish of 3 more threads\n",
            "2020-10-14 13:16:34,477 : INFO : worker thread finished; awaiting finish of 2 more threads\n",
            "2020-10-14 13:16:34,479 : INFO : worker thread finished; awaiting finish of 1 more threads\n",
            "2020-10-14 13:16:34,480 : INFO : worker thread finished; awaiting finish of 0 more threads\n",
            "2020-10-14 13:16:34,482 : INFO : EPOCH - 30 : training on 9227204 raw words (8223803 effective words) took 17.2s, 478457 effective words/s\n",
            "2020-10-14 13:16:35,545 : INFO : EPOCH 31 - PROGRESS: at 5.43% examples, 424187 words/s, in_qsize 13, out_qsize 2\n",
            "2020-10-14 13:16:36,581 : INFO : EPOCH 31 - PROGRESS: at 11.84% examples, 465629 words/s, in_qsize 14, out_qsize 1\n",
            "2020-10-14 13:16:37,581 : INFO : EPOCH 31 - PROGRESS: at 17.46% examples, 464628 words/s, in_qsize 16, out_qsize 0\n",
            "2020-10-14 13:16:38,603 : INFO : EPOCH 31 - PROGRESS: at 23.52% examples, 470570 words/s, in_qsize 15, out_qsize 0\n",
            "2020-10-14 13:16:39,655 : INFO : EPOCH 31 - PROGRESS: at 29.05% examples, 462669 words/s, in_qsize 12, out_qsize 3\n",
            "2020-10-14 13:16:40,688 : INFO : EPOCH 31 - PROGRESS: at 35.10% examples, 466006 words/s, in_qsize 13, out_qsize 4\n",
            "2020-10-14 13:16:41,722 : INFO : EPOCH 31 - PROGRESS: at 41.16% examples, 468308 words/s, in_qsize 14, out_qsize 1\n",
            "2020-10-14 13:16:42,787 : INFO : EPOCH 31 - PROGRESS: at 47.43% examples, 470503 words/s, in_qsize 15, out_qsize 0\n",
            "2020-10-14 13:16:43,820 : INFO : EPOCH 31 - PROGRESS: at 53.92% examples, 475788 words/s, in_qsize 15, out_qsize 0\n",
            "2020-10-14 13:16:44,854 : INFO : EPOCH 31 - PROGRESS: at 59.55% examples, 473015 words/s, in_qsize 15, out_qsize 0\n",
            "2020-10-14 13:16:45,867 : INFO : EPOCH 31 - PROGRESS: at 65.28% examples, 472379 words/s, in_qsize 9, out_qsize 6\n",
            "2020-10-14 13:16:46,882 : INFO : EPOCH 31 - PROGRESS: at 71.24% examples, 473239 words/s, in_qsize 16, out_qsize 3\n",
            "2020-10-14 13:16:47,911 : INFO : EPOCH 31 - PROGRESS: at 77.31% examples, 474074 words/s, in_qsize 16, out_qsize 0\n",
            "2020-10-14 13:16:48,917 : INFO : EPOCH 31 - PROGRESS: at 83.29% examples, 475005 words/s, in_qsize 15, out_qsize 0\n",
            "2020-10-14 13:16:49,953 : INFO : EPOCH 31 - PROGRESS: at 89.02% examples, 473703 words/s, in_qsize 15, out_qsize 0\n",
            "2020-10-14 13:16:50,955 : INFO : EPOCH 31 - PROGRESS: at 95.12% examples, 475123 words/s, in_qsize 14, out_qsize 1\n",
            "2020-10-14 13:16:51,686 : INFO : worker thread finished; awaiting finish of 7 more threads\n",
            "2020-10-14 13:16:51,695 : INFO : worker thread finished; awaiting finish of 6 more threads\n",
            "2020-10-14 13:16:51,719 : INFO : worker thread finished; awaiting finish of 5 more threads\n",
            "2020-10-14 13:16:51,750 : INFO : worker thread finished; awaiting finish of 4 more threads\n",
            "2020-10-14 13:16:51,763 : INFO : worker thread finished; awaiting finish of 3 more threads\n",
            "2020-10-14 13:16:51,765 : INFO : worker thread finished; awaiting finish of 2 more threads\n",
            "2020-10-14 13:16:51,766 : INFO : worker thread finished; awaiting finish of 1 more threads\n",
            "2020-10-14 13:16:51,773 : INFO : worker thread finished; awaiting finish of 0 more threads\n",
            "2020-10-14 13:16:51,774 : INFO : EPOCH - 31 : training on 9227204 raw words (8222290 effective words) took 17.3s, 475882 effective words/s\n",
            "2020-10-14 13:16:52,796 : INFO : EPOCH 32 - PROGRESS: at 5.32% examples, 432111 words/s, in_qsize 15, out_qsize 0\n",
            "2020-10-14 13:16:53,801 : INFO : EPOCH 32 - PROGRESS: at 10.86% examples, 442271 words/s, in_qsize 15, out_qsize 0\n",
            "2020-10-14 13:16:54,890 : INFO : EPOCH 32 - PROGRESS: at 16.92% examples, 447678 words/s, in_qsize 13, out_qsize 2\n",
            "2020-10-14 13:16:55,914 : INFO : EPOCH 32 - PROGRESS: at 22.98% examples, 457558 words/s, in_qsize 15, out_qsize 0\n",
            "2020-10-14 13:16:56,915 : INFO : EPOCH 32 - PROGRESS: at 28.72% examples, 460356 words/s, in_qsize 13, out_qsize 1\n",
            "2020-10-14 13:16:57,931 : INFO : EPOCH 32 - PROGRESS: at 34.13% examples, 456726 words/s, in_qsize 14, out_qsize 1\n",
            "2020-10-14 13:16:58,954 : INFO : EPOCH 32 - PROGRESS: at 40.29% examples, 462354 words/s, in_qsize 15, out_qsize 0\n",
            "2020-10-14 13:16:59,970 : INFO : EPOCH 32 - PROGRESS: at 46.13% examples, 463685 words/s, in_qsize 15, out_qsize 0\n",
            "2020-10-14 13:17:01,020 : INFO : EPOCH 32 - PROGRESS: at 52.29% examples, 466004 words/s, in_qsize 15, out_qsize 0\n",
            "2020-10-14 13:17:02,043 : INFO : EPOCH 32 - PROGRESS: at 58.25% examples, 467311 words/s, in_qsize 15, out_qsize 0\n",
            "2020-10-14 13:17:03,110 : INFO : EPOCH 32 - PROGRESS: at 64.40% examples, 468115 words/s, in_qsize 14, out_qsize 1\n",
            "2020-10-14 13:17:04,133 : INFO : EPOCH 32 - PROGRESS: at 70.80% examples, 471881 words/s, in_qsize 15, out_qsize 0\n",
            "2020-10-14 13:17:05,151 : INFO : EPOCH 32 - PROGRESS: at 76.55% examples, 471233 words/s, in_qsize 12, out_qsize 3\n",
            "2020-10-14 13:17:06,158 : INFO : EPOCH 32 - PROGRESS: at 82.64% examples, 472912 words/s, in_qsize 13, out_qsize 2\n",
            "2020-10-14 13:17:07,278 : INFO : EPOCH 32 - PROGRESS: at 88.81% examples, 471527 words/s, in_qsize 12, out_qsize 3\n",
            "2020-10-14 13:17:08,303 : INFO : EPOCH 32 - PROGRESS: at 95.12% examples, 473495 words/s, in_qsize 15, out_qsize 0\n",
            "2020-10-14 13:17:09,017 : INFO : worker thread finished; awaiting finish of 7 more threads\n",
            "2020-10-14 13:17:09,026 : INFO : worker thread finished; awaiting finish of 6 more threads\n",
            "2020-10-14 13:17:09,030 : INFO : worker thread finished; awaiting finish of 5 more threads\n",
            "2020-10-14 13:17:09,034 : INFO : worker thread finished; awaiting finish of 4 more threads\n",
            "2020-10-14 13:17:09,035 : INFO : worker thread finished; awaiting finish of 3 more threads\n",
            "2020-10-14 13:17:09,044 : INFO : worker thread finished; awaiting finish of 2 more threads\n",
            "2020-10-14 13:17:09,051 : INFO : worker thread finished; awaiting finish of 1 more threads\n",
            "2020-10-14 13:17:09,062 : INFO : worker thread finished; awaiting finish of 0 more threads\n",
            "2020-10-14 13:17:09,063 : INFO : EPOCH - 32 : training on 9227204 raw words (8222694 effective words) took 17.3s, 475939 effective words/s\n",
            "2020-10-14 13:17:09,064 : INFO : training on a 295270528 raw words (263130491 effective words) took 553.9s, 475046 effective words/s\n"
          ],
          "name": "stderr"
        },
        {
          "output_type": "stream",
          "text": [
            "CPU times: user 17min 48s, sys: 4.15 s, total: 17min 52s\n",
            "Wall time: 9min 13s\n"
          ],
          "name": "stdout"
        },
        {
          "output_type": "execute_result",
          "data": {
            "text/plain": [
              "(263130491, 295270528)"
            ]
          },
          "metadata": {
            "tags": []
          },
          "execution_count": 20
        }
      ]
    },
    {
      "cell_type": "code",
      "metadata": {
        "trusted": true,
        "_uuid": "27cc2651c74227115d8bfd8c40e5618048e05edd",
        "id": "KrzIKh6Ic1TR",
        "outputId": "b4dc6e95-f524-4653-db3a-66ed2d3a563f",
        "colab": {
          "base_uri": "https://localhost:8080/"
        }
      },
      "source": [
        "w2v_model.most_similar(\"love\")"
      ],
      "execution_count": null,
      "outputs": [
        {
          "output_type": "stream",
          "text": [
            "/usr/local/lib/python3.6/dist-packages/ipykernel_launcher.py:1: DeprecationWarning: Call to deprecated `most_similar` (Method will be removed in 4.0.0, use self.wv.most_similar() instead).\n",
            "  \"\"\"Entry point for launching an IPython kernel.\n",
            "2020-10-14 13:17:09,077 : INFO : precomputing L2-norms of word weight vectors\n"
          ],
          "name": "stderr"
        },
        {
          "output_type": "execute_result",
          "data": {
            "text/plain": [
              "[('luv', 0.5714380741119385),\n",
              " ('loves', 0.5584797859191895),\n",
              " ('loved', 0.5354695916175842),\n",
              " ('adore', 0.5189545750617981),\n",
              " ('amazing', 0.5081403255462646),\n",
              " ('looove', 0.4764840602874756),\n",
              " ('awesome', 0.4648516774177551),\n",
              " ('loveee', 0.4606030285358429),\n",
              " ('lovee', 0.4514382481575012),\n",
              " ('loooove', 0.4465927481651306)]"
            ]
          },
          "metadata": {
            "tags": []
          },
          "execution_count": 21
        }
      ]
    },
    {
      "cell_type": "markdown",
      "metadata": {
        "_uuid": "e13563644468037258598637b49373ca96b9b879",
        "id": "649kx9iNc1TX"
      },
      "source": [
        "### Tokenize Text"
      ]
    },
    {
      "cell_type": "code",
      "metadata": {
        "trusted": true,
        "_uuid": "6852bc709a7cd20173cbeeb218505078f8f37c57",
        "id": "rQBTws0Nc1TY",
        "outputId": "614bf18a-05a1-40b9-89ba-10a6074f15df",
        "colab": {
          "base_uri": "https://localhost:8080/"
        }
      },
      "source": [
        "%%time\n",
        "tokenizer = Tokenizer()\n",
        "tokenizer.fit_on_texts(df_train.text)\n",
        "\n",
        "vocab_size = len(tokenizer.word_index) + 1\n",
        "print(\"Total words\", vocab_size)"
      ],
      "execution_count": null,
      "outputs": [
        {
          "output_type": "stream",
          "text": [
            "Total words 290419\n",
            "CPU times: user 13.9 s, sys: 144 ms, total: 14 s\n",
            "Wall time: 13.9 s\n"
          ],
          "name": "stdout"
        }
      ]
    },
    {
      "cell_type": "code",
      "metadata": {
        "trusted": true,
        "_uuid": "45de439df3015030c71f84c2d170346936a1d68f",
        "id": "xahPmbqRc1Th",
        "outputId": "44c97f7d-5bcc-4a48-9bac-08b6e72244eb",
        "colab": {
          "base_uri": "https://localhost:8080/"
        }
      },
      "source": [
        "%%time\n",
        "x_train = pad_sequences(tokenizer.texts_to_sequences(df_train.text), maxlen=SEQUENCE_LENGTH)\n",
        "x_test = pad_sequences(tokenizer.texts_to_sequences(df_test.text), maxlen=SEQUENCE_LENGTH)"
      ],
      "execution_count": null,
      "outputs": [
        {
          "output_type": "stream",
          "text": [
            "CPU times: user 20.6 s, sys: 499 ms, total: 21.1 s\n",
            "Wall time: 21.1 s\n"
          ],
          "name": "stdout"
        }
      ]
    },
    {
      "cell_type": "markdown",
      "metadata": {
        "_uuid": "03b35903fc6260e190d6928d240ef7432de117fc",
        "id": "U36mlWKnc1Tn"
      },
      "source": [
        "### Label Encoder "
      ]
    },
    {
      "cell_type": "code",
      "metadata": {
        "trusted": true,
        "_uuid": "33676e0efa39e97d89bd650b8b4eae933a22fbf0",
        "id": "JnaXqlY-c1Tp",
        "outputId": "164183b7-d15e-4fdc-e8ab-1a9a28b444ee",
        "colab": {
          "base_uri": "https://localhost:8080/"
        }
      },
      "source": [
        "labels = df_train.target.unique().tolist()\n",
        "labels.append(NEUTRAL)\n",
        "labels"
      ],
      "execution_count": null,
      "outputs": [
        {
          "output_type": "execute_result",
          "data": {
            "text/plain": [
              "['POSITIVE', 'NEGATIVE', 'NEUTRAL']"
            ]
          },
          "metadata": {
            "tags": []
          },
          "execution_count": 24
        }
      ]
    },
    {
      "cell_type": "code",
      "metadata": {
        "trusted": true,
        "_uuid": "04239a9bef76e7922fd86098a5601dfde8ee4665",
        "id": "3cW5gb1ic1Ty",
        "outputId": "baadf32f-a5a7-46c5-c494-04cc149cef4e",
        "colab": {
          "base_uri": "https://localhost:8080/"
        }
      },
      "source": [
        "encoder = LabelEncoder()\n",
        "encoder.fit(df_train.target.tolist())\n",
        "\n",
        "y_train = encoder.transform(df_train.target.tolist())\n",
        "y_test = encoder.transform(df_test.target.tolist())\n",
        "\n",
        "y_train = y_train.reshape(-1,1)\n",
        "y_test = y_test.reshape(-1,1)\n",
        "\n",
        "print(\"y_train\",y_train.shape)\n",
        "print(\"y_test\",y_test.shape)"
      ],
      "execution_count": null,
      "outputs": [
        {
          "output_type": "stream",
          "text": [
            "y_train (1280000, 1)\n",
            "y_test (320000, 1)\n"
          ],
          "name": "stdout"
        }
      ]
    },
    {
      "cell_type": "code",
      "metadata": {
        "trusted": true,
        "_uuid": "04299c886911ca135583ab64878f213939a2990c",
        "id": "jDoIRDa1c1T7",
        "outputId": "f9b844a6-4464-49bc-dcc9-648c455ccbc9",
        "colab": {
          "base_uri": "https://localhost:8080/"
        }
      },
      "source": [
        "print(\"x_train\", x_train.shape)\n",
        "print(\"y_train\", y_train.shape)\n",
        "print()\n",
        "print(\"x_test\", x_test.shape)\n",
        "print(\"y_test\", y_test.shape)"
      ],
      "execution_count": null,
      "outputs": [
        {
          "output_type": "stream",
          "text": [
            "x_train (1280000, 300)\n",
            "y_train (1280000, 1)\n",
            "\n",
            "x_test (320000, 300)\n",
            "y_test (320000, 1)\n"
          ],
          "name": "stdout"
        }
      ]
    },
    {
      "cell_type": "code",
      "metadata": {
        "trusted": true,
        "_uuid": "232533fb27b7be99d9b8c2f8fb22c9c6bf121a6f",
        "id": "Hp6-Cw9Pc1UE",
        "outputId": "afc37ce6-2b35-40bf-92d7-0c9c14e4b2e6",
        "colab": {
          "base_uri": "https://localhost:8080/"
        }
      },
      "source": [
        "y_train[:10]"
      ],
      "execution_count": null,
      "outputs": [
        {
          "output_type": "execute_result",
          "data": {
            "text/plain": [
              "array([[1],\n",
              "       [1],\n",
              "       [1],\n",
              "       [0],\n",
              "       [1],\n",
              "       [1],\n",
              "       [1],\n",
              "       [1],\n",
              "       [1],\n",
              "       [1]])"
            ]
          },
          "metadata": {
            "tags": []
          },
          "execution_count": 27
        }
      ]
    },
    {
      "cell_type": "markdown",
      "metadata": {
        "_uuid": "233c0ea94055a03e2e7df3e2a13d036ec963484f",
        "id": "4O5OUbS7c1UM"
      },
      "source": [
        "### Embedding layer"
      ]
    },
    {
      "cell_type": "code",
      "metadata": {
        "trusted": true,
        "_uuid": "9ab488374b59e3f30f8b1ea92767d853c4846bac",
        "id": "HmawXSXbc1UP",
        "outputId": "d7cc6254-4af2-4c96-ccde-2ff390ba7e63",
        "colab": {
          "base_uri": "https://localhost:8080/"
        }
      },
      "source": [
        "embedding_matrix = np.zeros((vocab_size, W2V_SIZE))\n",
        "for word, i in tokenizer.word_index.items():\n",
        "  if word in w2v_model.wv:\n",
        "    embedding_matrix[i] = w2v_model.wv[word]\n",
        "print(embedding_matrix.shape)"
      ],
      "execution_count": null,
      "outputs": [
        {
          "output_type": "stream",
          "text": [
            "(290419, 300)\n"
          ],
          "name": "stdout"
        }
      ]
    },
    {
      "cell_type": "code",
      "metadata": {
        "trusted": true,
        "_uuid": "833279d91e4286065968237fb5f2a0c2dd4d246c",
        "id": "gpu-j1v1c1UV"
      },
      "source": [
        "embedding_layer = Embedding(vocab_size, W2V_SIZE, weights=[embedding_matrix], input_length=SEQUENCE_LENGTH, trainable=False)"
      ],
      "execution_count": null,
      "outputs": []
    },
    {
      "cell_type": "markdown",
      "metadata": {
        "_uuid": "b299ef78f94c2085942c993a2d58753a7476305a",
        "id": "GTGzQDrOc1Ua"
      },
      "source": [
        "### Build Model"
      ]
    },
    {
      "cell_type": "code",
      "metadata": {
        "trusted": true,
        "_uuid": "e775ef4f1b74e6412457181383c39f2df554ef3f",
        "id": "LSoHTDSzc1Ud",
        "outputId": "2b8023d2-6009-4a45-cea6-4def9a858447",
        "colab": {
          "base_uri": "https://localhost:8080/"
        }
      },
      "source": [
        "model = Sequential()\n",
        "model.add(embedding_layer)\n",
        "model.add(Dropout(0.5))\n",
        "model.add(LSTM(100, dropout=0.2, recurrent_dropout=0.2))\n",
        "model.add(Dense(1, activation='sigmoid'))\n",
        "\n",
        "model.summary()"
      ],
      "execution_count": null,
      "outputs": [
        {
          "output_type": "stream",
          "text": [
            "WARNING:tensorflow:Layer lstm will not use cuDNN kernel since it doesn't meet the cuDNN kernel criteria. It will use generic GPU kernel as fallback when running on GPU\n"
          ],
          "name": "stdout"
        },
        {
          "output_type": "stream",
          "text": [
            "2020-10-14 13:17:51,933 : WARNING : Layer lstm will not use cuDNN kernel since it doesn't meet the cuDNN kernel criteria. It will use generic GPU kernel as fallback when running on GPU\n"
          ],
          "name": "stderr"
        },
        {
          "output_type": "stream",
          "text": [
            "Model: \"sequential\"\n",
            "_________________________________________________________________\n",
            "Layer (type)                 Output Shape              Param #   \n",
            "=================================================================\n",
            "embedding (Embedding)        (None, 300, 300)          87125700  \n",
            "_________________________________________________________________\n",
            "dropout (Dropout)            (None, 300, 300)          0         \n",
            "_________________________________________________________________\n",
            "lstm (LSTM)                  (None, 100)               160400    \n",
            "_________________________________________________________________\n",
            "dense (Dense)                (None, 1)                 101       \n",
            "=================================================================\n",
            "Total params: 87,286,201\n",
            "Trainable params: 160,501\n",
            "Non-trainable params: 87,125,700\n",
            "_________________________________________________________________\n"
          ],
          "name": "stdout"
        }
      ]
    },
    {
      "cell_type": "markdown",
      "metadata": {
        "_uuid": "28d22eafd0c7d798dcf3d742bc92fb8577939e6c",
        "id": "dS9CE19Rc1Uk"
      },
      "source": [
        "### Compile model"
      ]
    },
    {
      "cell_type": "code",
      "metadata": {
        "trusted": true,
        "_uuid": "1331e08d590bb2aa2033706c8faca217afc0f1c3",
        "id": "qOp2EBp1c1Ul"
      },
      "source": [
        "model.compile(loss='binary_crossentropy',\n",
        "              optimizer=\"adam\",\n",
        "              metrics=['accuracy'])"
      ],
      "execution_count": null,
      "outputs": []
    },
    {
      "cell_type": "markdown",
      "metadata": {
        "_uuid": "c7733127cb8b380e0c807268903bf4d03ef92542",
        "id": "fPnph31Uc1Ur"
      },
      "source": [
        "### Callbacks"
      ]
    },
    {
      "cell_type": "code",
      "metadata": {
        "trusted": true,
        "_uuid": "a688df590386f5748da6fe00b01904fe6c71619e",
        "id": "0LIpe1xTc1Ut"
      },
      "source": [
        "callbacks = [ ReduceLROnPlateau(monitor='val_loss', patience=5, cooldown=0),\n",
        "              EarlyStopping(monitor='val_acc', min_delta=1e-4, patience=5)]"
      ],
      "execution_count": null,
      "outputs": []
    },
    {
      "cell_type": "markdown",
      "metadata": {
        "_uuid": "8d0873633dd49179c8cae17377641b97d323ef3b",
        "id": "iCvX5nLfc1U0"
      },
      "source": [
        "### Train"
      ]
    },
    {
      "cell_type": "code",
      "metadata": {
        "trusted": true,
        "_uuid": "2b659d390c6577dc5cdb6b6297934279b4e801d5",
        "id": "Vnv39AF5c1U2",
        "outputId": "247168ce-cde0-4335-edbf-200ec56105ee",
        "colab": {
          "base_uri": "https://localhost:8080/"
        }
      },
      "source": [
        "%%time\n",
        "history = model.fit(x_train, y_train,\n",
        "                    batch_size=BATCH_SIZE,\n",
        "                    epochs=EPOCHS,\n",
        "                    validation_split=0.1,\n",
        "                    verbose=1,\n",
        "                    callbacks=callbacks)"
      ],
      "execution_count": null,
      "outputs": [
        {
          "output_type": "stream",
          "text": [
            "1125/1125 [==============================] - ETA: 0s - loss: 0.5027 - accuracy: 0.7514WARNING:tensorflow:Early stopping conditioned on metric `val_acc` which is not available. Available metrics are: loss,accuracy,val_loss,val_accuracy,lr\n"
          ],
          "name": "stdout"
        },
        {
          "output_type": "stream",
          "text": [
            "2020-10-14 13:26:31,407 : WARNING : Early stopping conditioned on metric `val_acc` which is not available. Available metrics are: loss,accuracy,val_loss,val_accuracy,lr\n"
          ],
          "name": "stderr"
        },
        {
          "output_type": "stream",
          "text": [
            "\b\b\b\b\b\b\b\b\b\b\b\b\b\b\b\b\b\b\b\b\b\b\b\b\b\b\b\b\b\b\b\b\b\b\b\b\b\b\b\b\b\b\b\b\b\b\b\b\b\b\b\b\b\b\b\b\b\b\b\b\b\b\b\b\b\b\b\b\b\b\b\b\b\b\b\b\b\b\b\b\b\b\b\b\b\b\r1125/1125 [==============================] - 515s 458ms/step - loss: 0.5027 - accuracy: 0.7514 - val_loss: 0.4659 - val_accuracy: 0.7791\n",
            "CPU times: user 9min 54s, sys: 25.8 s, total: 10min 20s\n",
            "Wall time: 8min 39s\n"
          ],
          "name": "stdout"
        }
      ]
    },
    {
      "cell_type": "markdown",
      "metadata": {
        "_uuid": "267258196d96796ac69a7b8c466314bcf5d6ee42",
        "id": "gTquYJslc1U9"
      },
      "source": [
        "### Evaluate"
      ]
    },
    {
      "cell_type": "code",
      "metadata": {
        "trusted": true,
        "_uuid": "98ecd8f1b8b74594c3ea775dd68a094e92458022",
        "id": "cecn29SQc1U-",
        "outputId": "0991a618-ff4b-493a-b440-94fdd248d24d",
        "colab": {
          "base_uri": "https://localhost:8080/"
        }
      },
      "source": [
        "%%time\n",
        "score = model.evaluate(x_test, y_test, batch_size=BATCH_SIZE)\n",
        "print()\n",
        "print(\"ACCURACY:\",score[1])\n",
        "print(\"LOSS:\",score[0])"
      ],
      "execution_count": null,
      "outputs": [
        {
          "output_type": "stream",
          "text": [
            "313/313 [==============================] - 45s 143ms/step - loss: 0.4647 - accuracy: 0.7793\n",
            "\n",
            "ACCURACY: 0.779325008392334\n",
            "LOSS: 0.4647069275379181\n",
            "CPU times: user 42.5 s, sys: 1.41 s, total: 43.9 s\n",
            "Wall time: 45.2 s\n"
          ],
          "name": "stdout"
        }
      ]
    },
    {
      "cell_type": "code",
      "metadata": {
        "trusted": true,
        "_uuid": "40c72cd1e9d6c4fd799cbba7c813765ac4039dfc",
        "id": "I0kRkgWcc1VF",
        "outputId": "69392b08-377b-4565-857b-b9915119b756",
        "colab": {
          "base_uri": "https://localhost:8080/"
        }
      },
      "source": [
        "acc = history.history['accuracy']\n",
        "val_acc = history.history['val_accuracy']\n",
        "loss = history.history['loss']\n",
        "val_loss = history.history['val_loss']\n",
        " \n",
        "epochs = range(len(acc))\n",
        " \n",
        "plt.plot(epochs, acc, 'b', label='Training acc')\n",
        "plt.plot(epochs, val_acc, 'r', label='Validation acc')\n",
        "plt.title('Training and validation accuracy')\n",
        "plt.legend()\n",
        " \n",
        "plt.figure()\n",
        " \n",
        "plt.plot(epochs, loss, 'b', label='Training loss')\n",
        "plt.plot(epochs, val_loss, 'r', label='Validation loss')\n",
        "plt.title('Training and validation loss')\n",
        "plt.legend()\n",
        " \n",
        "plt.show()"
      ],
      "execution_count": null,
      "outputs": [
        {
          "output_type": "display_data",
          "data": {
            "image/png": "[encoded data removed]",
            "text/plain": [
              "<Figure size 432x288 with 1 Axes>"
            ]
          },
          "metadata": {
            "tags": [],
            "needs_background": "light"
          }
        },
        {
          "output_type": "display_data",
          "data": {
            "image/png": "[encoded data removed]",
            "text/plain": [
              "<Figure size 432x288 with 1 Axes>"
            ]
          },
          "metadata": {
            "tags": [],
            "needs_background": "light"
          }
        }
      ]
    },
    {
      "cell_type": "markdown",
      "metadata": {
        "_uuid": "6bdfc0f6a6af5bebc0271d83dd7432c91001409b",
        "id": "rkgsGlFxc1VR"
      },
      "source": [
        "### Predict"
      ]
    },
    {
      "cell_type": "code",
      "metadata": {
        "trusted": true,
        "_uuid": "f0b0fa3d4b1bb14b3f5e3d169a369f3ebef29ae1",
        "id": "OS73tGG_c1VS"
      },
      "source": [
        "def decode_sentiment(score, include_neutral=True):\n",
        "    if include_neutral:        \n",
        "        label = NEUTRAL\n",
        "        if score <= SENTIMENT_THRESHOLDS[0]:\n",
        "            label = NEGATIVE\n",
        "        elif score >= SENTIMENT_THRESHOLDS[1]:\n",
        "            label = POSITIVE\n",
        "\n",
        "        return label\n",
        "    else:\n",
        "        return NEGATIVE if score < 0.5 else POSITIVE"
      ],
      "execution_count": null,
      "outputs": []
    },
    {
      "cell_type": "code",
      "metadata": {
        "trusted": true,
        "_uuid": "ed4086d651f2f8cbed11d3c909a8873607d29a06",
        "id": "NG73q5QQc1VX"
      },
      "source": [
        "def predict(text, include_neutral=True):\n",
        "    start_at = time.time()\n",
        "    # Tokenize text\n",
        "    x_test = pad_sequences(tokenizer.texts_to_sequences([text]), maxlen=SEQUENCE_LENGTH)\n",
        "    # Predict\n",
        "    score = model.predict([x_test])[0]\n",
        "    # Decode sentiment\n",
        "    label = decode_sentiment(score, include_neutral=include_neutral)\n",
        "\n",
        "    return {\"label\": label, \"score\": float(score),\n",
        "       \"elapsed_time\": time.time()-start_at}  "
      ],
      "execution_count": null,
      "outputs": []
    },
    {
      "cell_type": "code",
      "metadata": {
        "trusted": true,
        "_uuid": "ca38b1e6c9b5acfed7467de2cf02a78333108872",
        "id": "cTGSNRroc1Vd",
        "outputId": "fd98d53c-046e-4e64-cd3d-9a00612c5faa",
        "colab": {
          "base_uri": "https://localhost:8080/"
        }
      },
      "source": [
        "predict(\"I love the music\")"
      ],
      "execution_count": null,
      "outputs": [
        {
          "output_type": "execute_result",
          "data": {
            "text/plain": [
              "{'elapsed_time': 0.28926658630371094,\n",
              " 'label': 'POSITIVE',\n",
              " 'score': 0.9679538011550903}"
            ]
          },
          "metadata": {
            "tags": []
          },
          "execution_count": 38
        }
      ]
    },
    {
      "cell_type": "code",
      "metadata": {
        "trusted": true,
        "_uuid": "0e5fe647533be0148850de349fea6ef6f71303d1",
        "id": "7vnYmVDhc1Vm",
        "outputId": "b984bea0-5063-4ccf-db9d-f2193c373e0d",
        "colab": {
          "base_uri": "https://localhost:8080/"
        }
      },
      "source": [
        "predict(\"I hate the rain\")"
      ],
      "execution_count": null,
      "outputs": [
        {
          "output_type": "execute_result",
          "data": {
            "text/plain": [
              "{'elapsed_time': 0.09453248977661133,\n",
              " 'label': 'NEGATIVE',\n",
              " 'score': 0.00990372896194458}"
            ]
          },
          "metadata": {
            "tags": []
          },
          "execution_count": 39
        }
      ]
    },
    {
      "cell_type": "code",
      "metadata": {
        "trusted": true,
        "_uuid": "37064dffcc8920d34ccd54fac7c8b50e583a8269",
        "id": "jaVtHiqMc1V1",
        "outputId": "611c8f3e-4700-463f-e7d5-af0856ac0916",
        "colab": {
          "base_uri": "https://localhost:8080/"
        }
      },
      "source": [
        "predict(\"i don't know what i'm doing\")"
      ],
      "execution_count": null,
      "outputs": [
        {
          "output_type": "execute_result",
          "data": {
            "text/plain": [
              "{'elapsed_time': 0.09525442123413086,\n",
              " 'label': 'NEUTRAL',\n",
              " 'score': 0.45559754967689514}"
            ]
          },
          "metadata": {
            "tags": []
          },
          "execution_count": 40
        }
      ]
    },
    {
      "cell_type": "markdown",
      "metadata": {
        "_uuid": "3ee72e47f84b6dbc32e02a783de5ec1661f157e1",
        "id": "P5Bb8H_Fc1V6"
      },
      "source": [
        "### Confusion Matrix"
      ]
    },
    {
      "cell_type": "code",
      "metadata": {
        "trusted": true,
        "_uuid": "0e920173eb05f04aecdd735bc5dff0f5be5f8d15",
        "id": "tRO767avc1V7",
        "outputId": "ce428305-59f9-4299-94d8-0fcb6f978cab",
        "colab": {
          "base_uri": "https://localhost:8080/"
        }
      },
      "source": [
        "%%time\n",
        "y_pred_1d = []\n",
        "y_test_1d = list(df_test.target)\n",
        "scores = model.predict(x_test, verbose=1, batch_size=8000)\n",
        "y_pred_1d = [decode_sentiment(score, include_neutral=False) for score in scores]"
      ],
      "execution_count": null,
      "outputs": [
        {
          "output_type": "stream",
          "text": [
            "40/40 [==============================] - 34s 840ms/step\n",
            "CPU times: user 30.4 s, sys: 7.5 s, total: 37.9 s\n",
            "Wall time: 37.2 s\n"
          ],
          "name": "stdout"
        }
      ]
    },
    {
      "cell_type": "code",
      "metadata": {
        "trusted": true,
        "_uuid": "b3575191bb425ab871f3f41e83812ee84bb7e595",
        "id": "zfvRSyvSc1WD"
      },
      "source": [
        "def plot_confusion_matrix(cm, classes,\n",
        "                          title='Confusion matrix',\n",
        "                          cmap=plt.cm.Blues):\n",
        "    \"\"\"\n",
        "    This function prints and plots the confusion matrix.\n",
        "    Normalization can be applied by setting `normalize=True`.\n",
        "    \"\"\"\n",
        "\n",
        "    cm = cm.astype('float') / cm.sum(axis=1)[:, np.newaxis]\n",
        "\n",
        "    plt.imshow(cm, interpolation='nearest', cmap=cmap)\n",
        "    plt.title(title, fontsize=30)\n",
        "    plt.colorbar()\n",
        "    tick_marks = np.arange(len(classes))\n",
        "    plt.xticks(tick_marks, classes, rotation=90, fontsize=22)\n",
        "    plt.yticks(tick_marks, classes, fontsize=22)\n",
        "\n",
        "    fmt = '.2f'\n",
        "    thresh = cm.max() / 2.\n",
        "    for i, j in itertools.product(range(cm.shape[0]), range(cm.shape[1])):\n",
        "        plt.text(j, i, format(cm[i, j], fmt),\n",
        "                 horizontalalignment=\"center\",\n",
        "                 color=\"white\" if cm[i, j] > thresh else \"black\")\n",
        "\n",
        "    plt.ylabel('True label', fontsize=25)\n",
        "    plt.xlabel('Predicted label', fontsize=25)"
      ],
      "execution_count": null,
      "outputs": []
    },
    {
      "cell_type": "code",
      "metadata": {
        "trusted": true,
        "_uuid": "a57dc6f6211c144491a70f533225edfa95a2dc66",
        "id": "JYbhFwLKc1WI",
        "outputId": "9332d174-6fbb-44f7-c679-7a7be476dd36",
        "colab": {
          "base_uri": "https://localhost:8080/"
        }
      },
      "source": [
        "%%time\n",
        "\n",
        "cnf_matrix = confusion_matrix(y_test_1d, y_pred_1d)\n",
        "plt.figure(figsize=(12,12))\n",
        "plot_confusion_matrix(cnf_matrix, classes=df_train.target.unique(), title=\"Confusion matrix\")\n",
        "plt.show()"
      ],
      "execution_count": null,
      "outputs": [
        {
          "output_type": "display_data",
          "data": {
            "image/png": "[encoded data removed]",
            "text/plain": [
              "<Figure size 864x864 with 2 Axes>"
            ]
          },
          "metadata": {
            "tags": [],
            "needs_background": "light"
          }
        },
        {
          "output_type": "stream",
          "text": [
            "CPU times: user 987 ms, sys: 29.1 ms, total: 1.02 s\n",
            "Wall time: 1.03 s\n"
          ],
          "name": "stdout"
        }
      ]
    },
    {
      "cell_type": "markdown",
      "metadata": {
        "_uuid": "e23b957348dcc084249d3cc7538b972da471c2cd",
        "id": "rXC6HGV8c1WV"
      },
      "source": [
        "### Classification Report"
      ]
    },
    {
      "cell_type": "code",
      "metadata": {
        "trusted": true,
        "_uuid": "a7fe05b7caa1c984ff1deb0be2f7c6bc043df9f5",
        "id": "sZaHm00Ac1WZ",
        "outputId": "2a38b330-0745-4eea-c882-1fdb861a7ea0",
        "colab": {
          "base_uri": "https://localhost:8080/"
        }
      },
      "source": [
        "print(classification_report(y_test_1d, y_pred_1d))"
      ],
      "execution_count": null,
      "outputs": [
        {
          "output_type": "stream",
          "text": [
            "              precision    recall  f1-score   support\n",
            "\n",
            "    NEGATIVE       0.79      0.76      0.77    159494\n",
            "    POSITIVE       0.77      0.80      0.78    160506\n",
            "\n",
            "    accuracy                           0.78    320000\n",
            "   macro avg       0.78      0.78      0.78    320000\n",
            "weighted avg       0.78      0.78      0.78    320000\n",
            "\n"
          ],
          "name": "stdout"
        }
      ]
    },
    {
      "cell_type": "markdown",
      "metadata": {
        "_uuid": "4eb300f0c6693a618587c7dcf32f77f5416cbfb9",
        "id": "6Ih9ql7xc1We"
      },
      "source": [
        "### Accuracy Score"
      ]
    },
    {
      "cell_type": "code",
      "metadata": {
        "trusted": true,
        "_uuid": "5cf76e6e09f8a60ed25947932b94c772eda44d23",
        "id": "D5Z00k1jc1Wf",
        "outputId": "e0fa62a5-94fc-451d-96e5-894a61e5d9a4",
        "colab": {
          "base_uri": "https://localhost:8080/"
        }
      },
      "source": [
        "accuracy_score(y_test_1d, y_pred_1d)"
      ],
      "execution_count": null,
      "outputs": [
        {
          "output_type": "execute_result",
          "data": {
            "text/plain": [
              "0.779325"
            ]
          },
          "metadata": {
            "tags": []
          },
          "execution_count": 45
        }
      ]
    },
    {
      "cell_type": "markdown",
      "metadata": {
        "_uuid": "4f014c32f3833db282e1a075c526604f34e3158c",
        "id": "kEfpyizzc1Wn"
      },
      "source": [
        "### Save model"
      ]
    },
    {
      "cell_type": "code",
      "metadata": {
        "trusted": true,
        "_uuid": "3b2b3ad5b592977b404acfa1c9ad303a62837255",
        "id": "PgX1GRNLc1Wn",
        "outputId": "674bd24f-45ac-445a-cb6d-4c23a3b3db43",
        "colab": {
          "base_uri": "https://localhost:8080/"
        }
      },
      "source": [
        "model.save(KERAS_MODEL)\n",
        "w2v_model.save(WORD2VEC_MODEL)\n",
        "pickle.dump(tokenizer, open(TOKENIZER_MODEL, \"wb\"), protocol=0)\n",
        "pickle.dump(encoder, open(ENCODER_MODEL, \"wb\"), protocol=0)"
      ],
      "execution_count": null,
      "outputs": [
        {
          "output_type": "stream",
          "text": [
            "2020-10-14 13:28:15,415 : INFO : saving Word2Vec object under model.w2v, separately None\n",
            "2020-10-14 13:28:15,425 : INFO : not storing attribute vectors_norm\n",
            "2020-10-14 13:28:15,430 : INFO : not storing attribute cum_table\n",
            "2020-10-14 13:28:16,587 : INFO : saved model.w2v\n"
          ],
          "name": "stderr"
        }
      ]
    },
    {
      "cell_type": "code",
      "metadata": {
        "trusted": true,
        "_uuid": "cc363c54782894757f5ea8820c6a170f2e16ef93",
        "id": "-5Ah5RTDc1Wt"
      },
      "source": [
        ""
      ],
      "execution_count": null,
      "outputs": []
    },
    {
      "cell_type": "markdown",
      "metadata": {
        "id": "1rn9xrXyCj8N"
      },
      "source": [
        "**Here we learned how to approach a sentiment analysis problem with the help of a data set  with over 1.6 millions tweets. We started with preprocessing and then then we  will be giving labels to the tweets i.e negative:0, positive:4, neutral:2. followed by the analysis of the data. here we used Word2vec which is a technique for natural language processing. The word2vec algorithm uses a neural network model to learn word associations from a large corpus of text. Once trained, such a model can detect synonymous words or suggest additional words for a partial sentence.The acurracy came out to be. though it will take a lot of efforts as well as better approaches to find the best accuracy in the field of nlp due to the ways in which people write english language.**                                           ."
      ]
    }
  ]
}